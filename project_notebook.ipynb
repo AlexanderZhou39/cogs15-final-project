{
 "cells": [
  {
   "cell_type": "markdown",
   "id": "206e1cd0-03c7-4e97-812f-da332c2f2d2c",
   "metadata": {
    "tags": []
   },
   "source": [
    "# Imports"
   ]
  },
  {
   "cell_type": "code",
   "execution_count": 1,
   "id": "d25a5eef-d345-4b43-8174-44af89fea002",
   "metadata": {},
   "outputs": [],
   "source": [
    "import pandas as pd\n",
    "import numpy as np\n",
    "import matplotlib.pyplot as plt\n",
    "import statsmodels.api as sm"
   ]
  },
  {
   "cell_type": "markdown",
   "id": "a4258e9e-662c-4431-ad73-58ebda14fa30",
   "metadata": {},
   "source": [
    "# Data"
   ]
  },
  {
   "cell_type": "markdown",
   "id": "1b8504da-0c63-4308-8ad7-32088149328e",
   "metadata": {
    "tags": []
   },
   "source": [
    "### Load\n",
    "- Load the data into pandas dataframes"
   ]
  },
  {
   "cell_type": "code",
   "execution_count": 2,
   "id": "5e861066-59ba-4971-b650-00876a4f67ed",
   "metadata": {},
   "outputs": [],
   "source": [
    "data_df = pd.read_csv('./data/processed_data.csv')"
   ]
  },
  {
   "cell_type": "code",
   "execution_count": 3,
   "id": "b4bbd9b7-bd59-4be9-a76e-01b1edada88c",
   "metadata": {},
   "outputs": [
    {
     "data": {
      "text/html": [
       "<div>\n",
       "<style scoped>\n",
       "    .dataframe tbody tr th:only-of-type {\n",
       "        vertical-align: middle;\n",
       "    }\n",
       "\n",
       "    .dataframe tbody tr th {\n",
       "        vertical-align: top;\n",
       "    }\n",
       "\n",
       "    .dataframe thead th {\n",
       "        text-align: right;\n",
       "    }\n",
       "</style>\n",
       "<table border=\"1\" class=\"dataframe\">\n",
       "  <thead>\n",
       "    <tr style=\"text-align: right;\">\n",
       "      <th></th>\n",
       "      <th>Participant</th>\n",
       "      <th>Age</th>\n",
       "      <th>Native Language</th>\n",
       "      <th>languages_other_english</th>\n",
       "      <th>Gender</th>\n",
       "      <th>Religiosity</th>\n",
       "      <th>Major</th>\n",
       "      <th>major_standardized</th>\n",
       "      <th>College</th>\n",
       "      <th>nigger</th>\n",
       "      <th>...</th>\n",
       "      <th>excrement</th>\n",
       "      <th>semen</th>\n",
       "      <th>breasts</th>\n",
       "      <th>coitus</th>\n",
       "      <th>booty</th>\n",
       "      <th>pee</th>\n",
       "      <th>butt</th>\n",
       "      <th>climax</th>\n",
       "      <th>randy</th>\n",
       "      <th>cunt</th>\n",
       "    </tr>\n",
       "  </thead>\n",
       "  <tbody>\n",
       "    <tr>\n",
       "      <th>0</th>\n",
       "      <td>1</td>\n",
       "      <td>20</td>\n",
       "      <td>English, Mandarin</td>\n",
       "      <td>1</td>\n",
       "      <td>Male</td>\n",
       "      <td>1.0</td>\n",
       "      <td>Psychology, Specialized in Clinical Psyc</td>\n",
       "      <td>social_science</td>\n",
       "      <td>Warren</td>\n",
       "      <td>1</td>\n",
       "      <td>...</td>\n",
       "      <td>1.0</td>\n",
       "      <td>1.0</td>\n",
       "      <td>1</td>\n",
       "      <td>1.0</td>\n",
       "      <td>1.0</td>\n",
       "      <td>1.0</td>\n",
       "      <td>1</td>\n",
       "      <td>1.0</td>\n",
       "      <td>1.0</td>\n",
       "      <td>1.0</td>\n",
       "    </tr>\n",
       "    <tr>\n",
       "      <th>1</th>\n",
       "      <td>2</td>\n",
       "      <td>18</td>\n",
       "      <td>English, Chaldean</td>\n",
       "      <td>1</td>\n",
       "      <td>Male</td>\n",
       "      <td>1.0</td>\n",
       "      <td>Visual arts media</td>\n",
       "      <td>arts_humanities</td>\n",
       "      <td>Sixth</td>\n",
       "      <td>1</td>\n",
       "      <td>...</td>\n",
       "      <td>1.0</td>\n",
       "      <td>1.0</td>\n",
       "      <td>1</td>\n",
       "      <td>1.0</td>\n",
       "      <td>1.0</td>\n",
       "      <td>1.0</td>\n",
       "      <td>1</td>\n",
       "      <td>1.0</td>\n",
       "      <td>1.0</td>\n",
       "      <td>1.0</td>\n",
       "    </tr>\n",
       "    <tr>\n",
       "      <th>2</th>\n",
       "      <td>3</td>\n",
       "      <td>21</td>\n",
       "      <td>English, Armenian</td>\n",
       "      <td>1</td>\n",
       "      <td>Male</td>\n",
       "      <td>3.0</td>\n",
       "      <td>Communications</td>\n",
       "      <td>social_science</td>\n",
       "      <td>Roosevelt</td>\n",
       "      <td>3</td>\n",
       "      <td>...</td>\n",
       "      <td>NaN</td>\n",
       "      <td>1.0</td>\n",
       "      <td>1</td>\n",
       "      <td>NaN</td>\n",
       "      <td>1.0</td>\n",
       "      <td>1.0</td>\n",
       "      <td>1</td>\n",
       "      <td>1.0</td>\n",
       "      <td>NaN</td>\n",
       "      <td>1.0</td>\n",
       "    </tr>\n",
       "    <tr>\n",
       "      <th>3</th>\n",
       "      <td>4</td>\n",
       "      <td>20</td>\n",
       "      <td>English</td>\n",
       "      <td>0</td>\n",
       "      <td>Male</td>\n",
       "      <td>1.0</td>\n",
       "      <td>Cognitive Science</td>\n",
       "      <td>multi_interdisciplinary</td>\n",
       "      <td>Revelle</td>\n",
       "      <td>9</td>\n",
       "      <td>...</td>\n",
       "      <td>1.0</td>\n",
       "      <td>1.0</td>\n",
       "      <td>1</td>\n",
       "      <td>1.0</td>\n",
       "      <td>1.0</td>\n",
       "      <td>1.0</td>\n",
       "      <td>1</td>\n",
       "      <td>1.0</td>\n",
       "      <td>NaN</td>\n",
       "      <td>1.0</td>\n",
       "    </tr>\n",
       "    <tr>\n",
       "      <th>4</th>\n",
       "      <td>5</td>\n",
       "      <td>22</td>\n",
       "      <td>English</td>\n",
       "      <td>0</td>\n",
       "      <td>Male</td>\n",
       "      <td>1.0</td>\n",
       "      <td>ICAM</td>\n",
       "      <td>multi_interdisciplinary</td>\n",
       "      <td>Warren</td>\n",
       "      <td>9</td>\n",
       "      <td>...</td>\n",
       "      <td>1.0</td>\n",
       "      <td>1.0</td>\n",
       "      <td>1</td>\n",
       "      <td>1.0</td>\n",
       "      <td>3.0</td>\n",
       "      <td>1.0</td>\n",
       "      <td>1</td>\n",
       "      <td>1.0</td>\n",
       "      <td>1.0</td>\n",
       "      <td>3.0</td>\n",
       "    </tr>\n",
       "  </tbody>\n",
       "</table>\n",
       "<p>5 rows × 101 columns</p>\n",
       "</div>"
      ],
      "text/plain": [
       "   Participant  Age     Native Language  languages_other_english Gender  \\\n",
       "0            1   20   English, Mandarin                        1   Male   \n",
       "1            2   18  English, Chaldean                         1   Male   \n",
       "2            3   21   English, Armenian                        1   Male   \n",
       "3            4   20             English                        0   Male   \n",
       "4            5   22             English                        0   Male   \n",
       "\n",
       "   Religiosity                                     Major  \\\n",
       "0          1.0  Psychology, Specialized in Clinical Psyc   \n",
       "1          1.0                        Visual arts media    \n",
       "2          3.0                            Communications   \n",
       "3          1.0                         Cognitive Science   \n",
       "4          1.0                                      ICAM   \n",
       "\n",
       "        major_standardized    College  nigger  ...  excrement  semen  breasts  \\\n",
       "0           social_science     Warren       1  ...        1.0    1.0        1   \n",
       "1          arts_humanities      Sixth       1  ...        1.0    1.0        1   \n",
       "2           social_science  Roosevelt       3  ...        NaN    1.0        1   \n",
       "3  multi_interdisciplinary    Revelle       9  ...        1.0    1.0        1   \n",
       "4  multi_interdisciplinary     Warren       9  ...        1.0    1.0        1   \n",
       "\n",
       "   coitus  booty  pee  butt  climax  randy  cunt  \n",
       "0     1.0    1.0  1.0     1     1.0    1.0   1.0  \n",
       "1     1.0    1.0  1.0     1     1.0    1.0   1.0  \n",
       "2     NaN    1.0  1.0     1     1.0    NaN   1.0  \n",
       "3     1.0    1.0  1.0     1     1.0    NaN   1.0  \n",
       "4     1.0    3.0  1.0     1     1.0    1.0   3.0  \n",
       "\n",
       "[5 rows x 101 columns]"
      ]
     },
     "execution_count": 3,
     "metadata": {},
     "output_type": "execute_result"
    }
   ],
   "source": [
    "data_df.head()"
   ]
  },
  {
   "cell_type": "code",
   "execution_count": 4,
   "id": "09a881ff-1c01-48e3-9e37-7ccfad11f21e",
   "metadata": {},
   "outputs": [
    {
     "data": {
      "text/plain": [
       "Index(['Participant', 'Age', 'Native Language', 'languages_other_english',\n",
       "       'Gender', 'Religiosity', 'Major', 'major_standardized', 'College',\n",
       "       'nigger',\n",
       "       ...\n",
       "       'excrement', 'semen', 'breasts', 'coitus', 'booty', 'pee', 'butt',\n",
       "       'climax', 'randy', 'cunt'],\n",
       "      dtype='object', length=101)"
      ]
     },
     "execution_count": 4,
     "metadata": {},
     "output_type": "execute_result"
    }
   ],
   "source": [
    "data_df.columns"
   ]
  },
  {
   "cell_type": "code",
   "execution_count": 5,
   "id": "e55aaa05-1642-4664-81d1-ef145680129f",
   "metadata": {},
   "outputs": [
    {
     "data": {
      "text/plain": [
       "['Participant',\n",
       " 'Age',\n",
       " 'Native Language',\n",
       " 'languages_other_english',\n",
       " 'Gender',\n",
       " 'Religiosity',\n",
       " 'Major',\n",
       " 'major_standardized',\n",
       " 'College',\n",
       " 'nigger',\n",
       " 'fag',\n",
       " 'cocksucker',\n",
       " 'chink',\n",
       " 'motherfucker',\n",
       " 'buttfuck',\n",
       " 'bitch',\n",
       " 'retard',\n",
       " 'dyke',\n",
       " 'whore',\n",
       " 'pussy',\n",
       " 'slut',\n",
       " 'homo',\n",
       " 'fuck',\n",
       " 'shithead',\n",
       " 'lesbo',\n",
       " 'asshole',\n",
       " 'prick',\n",
       " 'queer',\n",
       " 'skank',\n",
       " 'spic',\n",
       " 'kike',\n",
       " 'cock',\n",
       " 'gook',\n",
       " 'twat',\n",
       " 'bastard',\n",
       " 'loser',\n",
       " 'goddamn',\n",
       " 'dick',\n",
       " 'hooker',\n",
       " 'nutsack',\n",
       " 'rimjob',\n",
       " 'moron',\n",
       " 'sodomize',\n",
       " 'dumb',\n",
       " 'gay',\n",
       " 'blowjob',\n",
       " 'clit',\n",
       " 'tits',\n",
       " 'shit',\n",
       " 'dildo',\n",
       " 'stupid',\n",
       " 'idiot',\n",
       " 'bullshit',\n",
       " 'masturbate',\n",
       " 'ass',\n",
       " 'jerk',\n",
       " 'knockers',\n",
       " 'castrate',\n",
       " 'vibrator',\n",
       " 'turd',\n",
       " 'anus',\n",
       " 'jugs',\n",
       " 'cum',\n",
       " 'boner',\n",
       " 'defecate',\n",
       " 'suck',\n",
       " 'jism',\n",
       " 'scrotum',\n",
       " 'horny',\n",
       " 'piss',\n",
       " 'crap',\n",
       " 'ejaculate',\n",
       " 'pecker',\n",
       " 'penis',\n",
       " 'hump',\n",
       " 'fellatio',\n",
       " 'damn',\n",
       " 'vagina',\n",
       " 'fornicate',\n",
       " 'cunnilingus',\n",
       " 'boobs',\n",
       " 'hell',\n",
       " 'nipples',\n",
       " 'screw',\n",
       " 'lame',\n",
       " 'fart',\n",
       " 'testicles',\n",
       " 'snatch',\n",
       " 'balls',\n",
       " 'orgasm',\n",
       " 'dork',\n",
       " 'excrement',\n",
       " 'semen',\n",
       " 'breasts',\n",
       " 'coitus',\n",
       " 'booty',\n",
       " 'pee',\n",
       " 'butt',\n",
       " 'climax',\n",
       " 'randy',\n",
       " 'cunt']"
      ]
     },
     "execution_count": 5,
     "metadata": {},
     "output_type": "execute_result"
    }
   ],
   "source": [
    "list(data_df.columns)"
   ]
  },
  {
   "cell_type": "code",
   "execution_count": 6,
   "id": "f25f4143-ad28-4b8f-9d97-ec4fb59fe3e9",
   "metadata": {},
   "outputs": [
    {
     "data": {
      "text/plain": [
       "101"
      ]
     },
     "execution_count": 6,
     "metadata": {},
     "output_type": "execute_result"
    }
   ],
   "source": [
    "len(list(data_df.columns))"
   ]
  },
  {
   "cell_type": "code",
   "execution_count": 7,
   "id": "73ff25bd-6494-43e1-a501-78ec6cdd95e5",
   "metadata": {},
   "outputs": [],
   "source": [
    "categorize_df = pd.read_csv('./data/word_categorization.csv')"
   ]
  },
  {
   "cell_type": "code",
   "execution_count": 8,
   "id": "2a210b68-cacc-4ba6-83f9-2888146cf557",
   "metadata": {},
   "outputs": [
    {
     "data": {
      "text/html": [
       "<div>\n",
       "<style scoped>\n",
       "    .dataframe tbody tr th:only-of-type {\n",
       "        vertical-align: middle;\n",
       "    }\n",
       "\n",
       "    .dataframe tbody tr th {\n",
       "        vertical-align: top;\n",
       "    }\n",
       "\n",
       "    .dataframe thead th {\n",
       "        text-align: right;\n",
       "    }\n",
       "</style>\n",
       "<table border=\"1\" class=\"dataframe\">\n",
       "  <thead>\n",
       "    <tr style=\"text-align: right;\">\n",
       "      <th></th>\n",
       "      <th>word</th>\n",
       "      <th>religion</th>\n",
       "      <th>sex</th>\n",
       "      <th>body</th>\n",
       "      <th>excretion</th>\n",
       "      <th>slur</th>\n",
       "      <th>insult</th>\n",
       "      <th>formal</th>\n",
       "      <th>closed</th>\n",
       "    </tr>\n",
       "  </thead>\n",
       "  <tbody>\n",
       "    <tr>\n",
       "      <th>0</th>\n",
       "      <td>nigger</td>\n",
       "      <td>0</td>\n",
       "      <td>0</td>\n",
       "      <td>0</td>\n",
       "      <td>0</td>\n",
       "      <td>1</td>\n",
       "      <td>1</td>\n",
       "      <td>0</td>\n",
       "      <td>0</td>\n",
       "    </tr>\n",
       "    <tr>\n",
       "      <th>1</th>\n",
       "      <td>fag</td>\n",
       "      <td>0</td>\n",
       "      <td>0</td>\n",
       "      <td>0</td>\n",
       "      <td>0</td>\n",
       "      <td>1</td>\n",
       "      <td>1</td>\n",
       "      <td>0</td>\n",
       "      <td>1</td>\n",
       "    </tr>\n",
       "    <tr>\n",
       "      <th>2</th>\n",
       "      <td>cocksucker</td>\n",
       "      <td>0</td>\n",
       "      <td>1</td>\n",
       "      <td>1</td>\n",
       "      <td>0</td>\n",
       "      <td>0</td>\n",
       "      <td>1</td>\n",
       "      <td>0</td>\n",
       "      <td>0</td>\n",
       "    </tr>\n",
       "    <tr>\n",
       "      <th>3</th>\n",
       "      <td>chink</td>\n",
       "      <td>0</td>\n",
       "      <td>0</td>\n",
       "      <td>0</td>\n",
       "      <td>0</td>\n",
       "      <td>1</td>\n",
       "      <td>1</td>\n",
       "      <td>0</td>\n",
       "      <td>1</td>\n",
       "    </tr>\n",
       "    <tr>\n",
       "      <th>4</th>\n",
       "      <td>motherfucker</td>\n",
       "      <td>0</td>\n",
       "      <td>1</td>\n",
       "      <td>0</td>\n",
       "      <td>0</td>\n",
       "      <td>0</td>\n",
       "      <td>1</td>\n",
       "      <td>0</td>\n",
       "      <td>0</td>\n",
       "    </tr>\n",
       "  </tbody>\n",
       "</table>\n",
       "</div>"
      ],
      "text/plain": [
       "           word  religion  sex  body  excretion  slur  insult  formal  closed\n",
       "0        nigger         0    0     0          0     1       1       0       0\n",
       "1           fag         0    0     0          0     1       1       0       1\n",
       "2    cocksucker         0    1     1          0     0       1       0       0\n",
       "3         chink         0    0     0          0     1       1       0       1\n",
       "4  motherfucker         0    1     0          0     0       1       0       0"
      ]
     },
     "execution_count": 8,
     "metadata": {},
     "output_type": "execute_result"
    }
   ],
   "source": [
    "categorize_df.head()"
   ]
  },
  {
   "cell_type": "markdown",
   "id": "6c3911a8-e801-4deb-8f0c-75c23682e5be",
   "metadata": {
    "tags": []
   },
   "source": [
    "### Examine\n",
    "\n",
    "- visualize the data"
   ]
  },
  {
   "cell_type": "code",
   "execution_count": 9,
   "id": "b92ea614-c1cb-416b-8218-0e511234905f",
   "metadata": {},
   "outputs": [
    {
     "data": {
      "text/plain": [
       "<AxesSubplot: title={'center': 'Age'}>"
      ]
     },
     "execution_count": 9,
     "metadata": {},
     "output_type": "execute_result"
    },
    {
     "data": {
      "image/png": "[encoded data removed]",
      "text/plain": [
       "<Figure size 640x480 with 1 Axes>"
      ]
     },
     "metadata": {},
     "output_type": "display_data"
    }
   ],
   "source": [
    "data_df['Age'].value_counts().plot(kind='bar', title='Age')"
   ]
  },
  {
   "cell_type": "code",
   "execution_count": 10,
   "id": "294c6d80-eb3c-4767-beac-a849d216c868",
   "metadata": {},
   "outputs": [
    {
     "data": {
      "text/plain": [
       "<AxesSubplot: title={'center': 'Gender'}>"
      ]
     },
     "execution_count": 10,
     "metadata": {},
     "output_type": "execute_result"
    },
    {
     "data": {
      "image/png": "[encoded data removed]",
      "text/plain": [
       "<Figure size 640x480 with 1 Axes>"
      ]
     },
     "metadata": {},
     "output_type": "display_data"
    }
   ],
   "source": [
    "data_df['Gender'].value_counts().plot(kind='bar', title='Gender')"
   ]
  },
  {
   "cell_type": "code",
   "execution_count": 11,
   "id": "08070767-da62-4f1e-a3cb-b777baecb8ae",
   "metadata": {},
   "outputs": [
    {
     "data": {
      "text/plain": [
       "<AxesSubplot: title={'center': 'Major'}>"
      ]
     },
     "execution_count": 11,
     "metadata": {},
     "output_type": "execute_result"
    },
    {
     "data": {
      "image/png": "[encoded data removed]",
      "text/plain": [
       "<Figure size 640x480 with 1 Axes>"
      ]
     },
     "metadata": {},
     "output_type": "display_data"
    }
   ],
   "source": [
    "data_df['major_standardized'].value_counts().plot(kind='bar', title='Major')"
   ]
  },
  {
   "cell_type": "code",
   "execution_count": 12,
   "id": "57eaba84-a239-4ec7-a669-345902054f23",
   "metadata": {},
   "outputs": [
    {
     "data": {
      "text/plain": [
       "<AxesSubplot: title={'center': 'Religiosity'}>"
      ]
     },
     "execution_count": 12,
     "metadata": {},
     "output_type": "execute_result"
    },
    {
     "data": {
      "image/png": "[encoded data removed]",
      "text/plain": [
       "<Figure size 640x480 with 1 Axes>"
      ]
     },
     "metadata": {},
     "output_type": "display_data"
    }
   ],
   "source": [
    "data_df['Religiosity'].value_counts().plot(kind='bar', title='Religiosity')"
   ]
  },
  {
   "cell_type": "code",
   "execution_count": 13,
   "id": "2e7af51e-1185-4a0e-8709-efc327a2b3cf",
   "metadata": {},
   "outputs": [
    {
     "data": {
      "text/plain": [
       "<AxesSubplot: title={'center': 'College'}>"
      ]
     },
     "execution_count": 13,
     "metadata": {},
     "output_type": "execute_result"
    },
    {
     "data": {
      "image/png": "[encoded data removed]",
      "text/plain": [
       "<Figure size 640x480 with 1 Axes>"
      ]
     },
     "metadata": {},
     "output_type": "display_data"
    }
   ],
   "source": [
    "data_df['College'].value_counts().plot(kind='bar', title='College')"
   ]
  },
  {
   "cell_type": "code",
   "execution_count": 14,
   "id": "41a63655-7911-4fc0-8b82-30a11add070c",
   "metadata": {},
   "outputs": [
    {
     "data": {
      "text/plain": [
       "<AxesSubplot: title={'center': 'Num. of languages other than English'}>"
      ]
     },
     "execution_count": 14,
     "metadata": {},
     "output_type": "execute_result"
    },
    {
     "data": {
      "image/png": "[encoded data removed]",
      "text/plain": [
       "<Figure size 640x480 with 1 Axes>"
      ]
     },
     "metadata": {},
     "output_type": "display_data"
    }
   ],
   "source": [
    "data_df['languages_other_english'].value_counts().plot(kind='bar', title='Num. of languages other than English')"
   ]
  },
  {
   "cell_type": "markdown",
   "id": "04357a0f-3ae0-4220-bfc2-2de60cfca826",
   "metadata": {
    "tags": []
   },
   "source": [
    "### Reformatting and Feature Creation\n",
    "\n",
    "- split data into individual words\n",
    "- join word categorizations\n",
    "- add syllable count\n",
    "- add consonant and vowel count and word length"
   ]
  },
  {
   "cell_type": "code",
   "execution_count": 15,
   "id": "69dd5db0-4494-497b-8e76-fed3534e2df1",
   "metadata": {},
   "outputs": [],
   "source": [
    "# https://stackoverflow.com/questions/46759492/syllable-count-in-python\n",
    "# not perfect, but accurate for the profanity selection\n",
    "def syllable_count(word):\n",
    "    word = word.lower()\n",
    "    count = 0\n",
    "    vowels = \"aeiouy\"\n",
    "    if word[0] in vowels:\n",
    "        count += 1\n",
    "    for index in range(1, len(word)):\n",
    "        if word[index] in vowels and word[index - 1] not in vowels:\n",
    "            count += 1\n",
    "    if word.endswith(\"e\"):\n",
    "        count -= 1\n",
    "    if count == 0:\n",
    "        count += 1\n",
    "    return count"
   ]
  },
  {
   "cell_type": "code",
   "execution_count": 16,
   "id": "8dca267b-db52-4a1e-8956-e096f7c5c2af",
   "metadata": {},
   "outputs": [],
   "source": [
    "# https://stackoverflow.com/questions/19967001/count-vowels-in-string-python\n",
    "def vowel_count(word):\n",
    "    num_vowels=0\n",
    "    for char in word:\n",
    "        if char.lower() in \"aeiou\":\n",
    "           num_vowels += 1\n",
    "    return num_vowels"
   ]
  },
  {
   "cell_type": "code",
   "execution_count": 17,
   "id": "f374d42c-50e0-4cae-ac8a-85bf7584060e",
   "metadata": {},
   "outputs": [],
   "source": [
    "def letter_count(words):\n",
    "    return len(words)"
   ]
  },
  {
   "cell_type": "markdown",
   "id": "93190f7b-a407-4555-a68d-603a1bf09891",
   "metadata": {},
   "source": [
    "add syllable, consonant, vowel, and letter count to word categorization dataframe"
   ]
  },
  {
   "cell_type": "code",
   "execution_count": 18,
   "id": "b25734e9-72fb-4bb2-bed7-4548533db1ad",
   "metadata": {},
   "outputs": [],
   "source": [
    "categorize_df['syllables'] = categorize_df['word'].apply(lambda word: syllable_count(word))"
   ]
  },
  {
   "cell_type": "code",
   "execution_count": 19,
   "id": "618983c5-ca55-479b-8dbc-2b95214635d9",
   "metadata": {},
   "outputs": [],
   "source": [
    "categorize_df['vowels'] = categorize_df['word'].apply(lambda word: vowel_count(word))"
   ]
  },
  {
   "cell_type": "code",
   "execution_count": 20,
   "id": "e7db5ea1-c46d-4960-a6fc-87cb8310c061",
   "metadata": {},
   "outputs": [],
   "source": [
    "categorize_df['letters'] = categorize_df['word'].apply(lambda word: letter_count(word))"
   ]
  },
  {
   "cell_type": "markdown",
   "id": "f6c51f9f-55bf-4284-8a43-e268be69a5f9",
   "metadata": {},
   "source": [
    "consonant count is just letter count minus vowel count"
   ]
  },
  {
   "cell_type": "code",
   "execution_count": 21,
   "id": "361db32b-4b82-4c71-8e9a-4dd76b4cb58c",
   "metadata": {},
   "outputs": [],
   "source": [
    "categorize_df['consonants'] = categorize_df.apply(lambda row: row['letters'] - row['vowels'], axis=1)"
   ]
  },
  {
   "cell_type": "code",
   "execution_count": 22,
   "id": "f09a3278-cec0-4616-85ca-feb20ba13b25",
   "metadata": {},
   "outputs": [
    {
     "data": {
      "text/html": [
       "<div>\n",
       "<style scoped>\n",
       "    .dataframe tbody tr th:only-of-type {\n",
       "        vertical-align: middle;\n",
       "    }\n",
       "\n",
       "    .dataframe tbody tr th {\n",
       "        vertical-align: top;\n",
       "    }\n",
       "\n",
       "    .dataframe thead th {\n",
       "        text-align: right;\n",
       "    }\n",
       "</style>\n",
       "<table border=\"1\" class=\"dataframe\">\n",
       "  <thead>\n",
       "    <tr style=\"text-align: right;\">\n",
       "      <th></th>\n",
       "      <th>word</th>\n",
       "      <th>religion</th>\n",
       "      <th>sex</th>\n",
       "      <th>body</th>\n",
       "      <th>excretion</th>\n",
       "      <th>slur</th>\n",
       "      <th>insult</th>\n",
       "      <th>formal</th>\n",
       "      <th>closed</th>\n",
       "      <th>syllables</th>\n",
       "      <th>vowels</th>\n",
       "      <th>letters</th>\n",
       "      <th>consonants</th>\n",
       "    </tr>\n",
       "  </thead>\n",
       "  <tbody>\n",
       "    <tr>\n",
       "      <th>0</th>\n",
       "      <td>nigger</td>\n",
       "      <td>0</td>\n",
       "      <td>0</td>\n",
       "      <td>0</td>\n",
       "      <td>0</td>\n",
       "      <td>1</td>\n",
       "      <td>1</td>\n",
       "      <td>0</td>\n",
       "      <td>0</td>\n",
       "      <td>2</td>\n",
       "      <td>2</td>\n",
       "      <td>6</td>\n",
       "      <td>4</td>\n",
       "    </tr>\n",
       "    <tr>\n",
       "      <th>1</th>\n",
       "      <td>fag</td>\n",
       "      <td>0</td>\n",
       "      <td>0</td>\n",
       "      <td>0</td>\n",
       "      <td>0</td>\n",
       "      <td>1</td>\n",
       "      <td>1</td>\n",
       "      <td>0</td>\n",
       "      <td>1</td>\n",
       "      <td>1</td>\n",
       "      <td>1</td>\n",
       "      <td>3</td>\n",
       "      <td>2</td>\n",
       "    </tr>\n",
       "    <tr>\n",
       "      <th>2</th>\n",
       "      <td>cocksucker</td>\n",
       "      <td>0</td>\n",
       "      <td>1</td>\n",
       "      <td>1</td>\n",
       "      <td>0</td>\n",
       "      <td>0</td>\n",
       "      <td>1</td>\n",
       "      <td>0</td>\n",
       "      <td>0</td>\n",
       "      <td>3</td>\n",
       "      <td>3</td>\n",
       "      <td>10</td>\n",
       "      <td>7</td>\n",
       "    </tr>\n",
       "    <tr>\n",
       "      <th>3</th>\n",
       "      <td>chink</td>\n",
       "      <td>0</td>\n",
       "      <td>0</td>\n",
       "      <td>0</td>\n",
       "      <td>0</td>\n",
       "      <td>1</td>\n",
       "      <td>1</td>\n",
       "      <td>0</td>\n",
       "      <td>1</td>\n",
       "      <td>1</td>\n",
       "      <td>1</td>\n",
       "      <td>5</td>\n",
       "      <td>4</td>\n",
       "    </tr>\n",
       "    <tr>\n",
       "      <th>4</th>\n",
       "      <td>motherfucker</td>\n",
       "      <td>0</td>\n",
       "      <td>1</td>\n",
       "      <td>0</td>\n",
       "      <td>0</td>\n",
       "      <td>0</td>\n",
       "      <td>1</td>\n",
       "      <td>0</td>\n",
       "      <td>0</td>\n",
       "      <td>4</td>\n",
       "      <td>4</td>\n",
       "      <td>12</td>\n",
       "      <td>8</td>\n",
       "    </tr>\n",
       "  </tbody>\n",
       "</table>\n",
       "</div>"
      ],
      "text/plain": [
       "           word  religion  sex  body  excretion  slur  insult  formal  closed  \\\n",
       "0        nigger         0    0     0          0     1       1       0       0   \n",
       "1           fag         0    0     0          0     1       1       0       1   \n",
       "2    cocksucker         0    1     1          0     0       1       0       0   \n",
       "3         chink         0    0     0          0     1       1       0       1   \n",
       "4  motherfucker         0    1     0          0     0       1       0       0   \n",
       "\n",
       "   syllables  vowels  letters  consonants  \n",
       "0          2       2        6           4  \n",
       "1          1       1        3           2  \n",
       "2          3       3       10           7  \n",
       "3          1       1        5           4  \n",
       "4          4       4       12           8  "
      ]
     },
     "execution_count": 22,
     "metadata": {},
     "output_type": "execute_result"
    }
   ],
   "source": [
    "categorize_df.head()"
   ]
  },
  {
   "cell_type": "markdown",
   "id": "0ec43b05-a609-4eee-b349-bb0817c7a207",
   "metadata": {},
   "source": [
    "format data into a regression or multi-class classification problem where each word is represented with a row with many features"
   ]
  },
  {
   "cell_type": "code",
   "execution_count": 23,
   "id": "bb5f3e2d-5697-41ab-b87e-c977beb3c0e2",
   "metadata": {},
   "outputs": [],
   "source": [
    "def reformat_data(regression=True):\n",
    "    formatted_data = []\n",
    "    data_columns = list(data_df.columns)\n",
    "    \n",
    "    output_columns = [\n",
    "        'participant',\n",
    "        'age',\n",
    "        'langs_other_than_eng',\n",
    "        'gender',\n",
    "        'religiosity',\n",
    "        'major',\n",
    "        'college',\n",
    "        'word',\n",
    "        'rating',\n",
    "    ]\n",
    "    \n",
    "    for index, row in data_df.iterrows():\n",
    "        # grab sample features\n",
    "        participant = row['Participant']\n",
    "        age = row['Age']\n",
    "        langs_other_than_eng = row['languages_other_english']\n",
    "        gender = row['Gender']\n",
    "        religiosity = row['Religiosity']\n",
    "        major = row['major_standardized']\n",
    "        college = row['College']\n",
    "        \n",
    "        # create a sample for each word\n",
    "        for word_index in range(9, 101):\n",
    "            word = data_columns[word_index]\n",
    "            rating_raw = row[word]\n",
    "            \n",
    "            # initialize sample without dependent variable\n",
    "            sample = [\n",
    "                participant,\n",
    "                age,\n",
    "                langs_other_than_eng,\n",
    "                gender,\n",
    "                religiosity,\n",
    "                major,\n",
    "                college,\n",
    "                word,\n",
    "            ]\n",
    "            \n",
    "            # add dependent variable label\n",
    "            if regression is True:\n",
    "                # ignore empty responses for regression\n",
    "                if np.isnan(rating_raw):\n",
    "                    continue\n",
    "                \n",
    "                rating = int(rating_raw)\n",
    "                \n",
    "                sample.append(rating)\n",
    "                \n",
    "                \n",
    "            else:\n",
    "                # 1 at index 0 would be no response\n",
    "                # 1 at index 1 would be rating 1\n",
    "                # 1 at index 2 would be rating 2\n",
    "                # ...\n",
    "                # 1 at index 9 would be rating 9\n",
    "#                 rating_array = [0] * 10\n",
    "                \n",
    "#                 if np.isnan(rating_raw):\n",
    "#                     rating_array[0] = 1\n",
    "#                 else:\n",
    "#                     rating_array[int(rating_raw)] = 1\n",
    "                \n",
    "#                 sample.append(rating_array)\n",
    "                \n",
    "                rating = 0\n",
    "                if not np.isnan(rating_raw):\n",
    "                    rating = int(rating_raw)\n",
    "                sample.append(rating)\n",
    "            \n",
    "            # add sample to final data\n",
    "            formatted_data.append(sample)   \n",
    "    \n",
    "    # convert data to pandas DataFrame\n",
    "    formatted_data_df = pd.DataFrame(formatted_data, columns=output_columns)\n",
    "    # join additional features and return\n",
    "    return pd.merge(formatted_data_df, categorize_df, on='word')\n",
    "    "
   ]
  },
  {
   "cell_type": "markdown",
   "id": "121a814e-f6d4-4d44-8384-86513537b8fe",
   "metadata": {
    "tags": []
   },
   "source": [
    "### Preprocessing\n",
    "Initialize Sci-Kit preprocessing pipelines"
   ]
  },
  {
   "cell_type": "code",
   "execution_count": 24,
   "id": "76e76bc5-00f2-4ddb-aac1-22c5953deceb",
   "metadata": {},
   "outputs": [],
   "source": [
    "from sklearn.compose import ColumnTransformer\n",
    "from sklearn.preprocessing import StandardScaler, OneHotEncoder\n",
    "from sklearn.pipeline import Pipeline\n",
    "from sklearn.impute import SimpleImputer"
   ]
  },
  {
   "cell_type": "code",
   "execution_count": 25,
   "id": "2ee08c4b-c6a6-40c2-911a-10d461338718",
   "metadata": {},
   "outputs": [],
   "source": [
    "# impute and standard scale\n",
    "numerical_fields = ['age', 'langs_other_than_eng', 'religiosity', 'syllables', 'vowels', 'consonants', 'letters']"
   ]
  },
  {
   "cell_type": "code",
   "execution_count": 26,
   "id": "4d022729-3418-40ad-8bab-90a4cf309360",
   "metadata": {},
   "outputs": [],
   "source": [
    "# one hot encode\n",
    "one_hot_fields = ['gender', 'major']"
   ]
  },
  {
   "cell_type": "code",
   "execution_count": 27,
   "id": "5308fa02-3921-4ef8-8b54-8732c1542959",
   "metadata": {},
   "outputs": [],
   "source": [
    "# pass through without preprocessing\n",
    "pass_through_fields = ['sex', 'body', 'excretion', 'slur', 'insult', 'formal', 'closed']"
   ]
  },
  {
   "cell_type": "code",
   "execution_count": 28,
   "id": "953c51e4-2543-4eff-bbc4-0de5298d9f20",
   "metadata": {},
   "outputs": [],
   "source": [
    "numerical_pipeline = Pipeline([\n",
    "    ('impute', SimpleImputer(strategy='median')),\n",
    "    ('std_scale', StandardScaler())\n",
    "])"
   ]
  },
  {
   "cell_type": "code",
   "execution_count": 29,
   "id": "6fb3a746-cc27-4adc-b5af-db64c6dccf6e",
   "metadata": {},
   "outputs": [],
   "source": [
    "full_pipeline = ColumnTransformer([\n",
    "    ('num', numerical_pipeline, numerical_fields),\n",
    "    ('ohe', OneHotEncoder(), one_hot_fields),\n",
    "    ('pass', 'passthrough', pass_through_fields)\n",
    "], sparse_threshold=0)"
   ]
  },
  {
   "cell_type": "markdown",
   "id": "cec5fb3b-6ab4-441e-8764-45d0dfb4b70e",
   "metadata": {
    "tags": []
   },
   "source": [
    "# Statsmodels - Regression\n",
    "Analysis using Ordinary Least Squares with Statsmodels"
   ]
  },
  {
   "cell_type": "code",
   "execution_count": 30,
   "id": "944bb5de-d5e4-418e-a378-2611738b6586",
   "metadata": {},
   "outputs": [],
   "source": [
    "regression_data_df = reformat_data()"
   ]
  },
  {
   "cell_type": "code",
   "execution_count": 31,
   "id": "001e7e61-7167-4d37-9bcc-d18941ff020d",
   "metadata": {},
   "outputs": [
    {
     "data": {
      "text/html": [
       "<div>\n",
       "<style scoped>\n",
       "    .dataframe tbody tr th:only-of-type {\n",
       "        vertical-align: middle;\n",
       "    }\n",
       "\n",
       "    .dataframe tbody tr th {\n",
       "        vertical-align: top;\n",
       "    }\n",
       "\n",
       "    .dataframe thead th {\n",
       "        text-align: right;\n",
       "    }\n",
       "</style>\n",
       "<table border=\"1\" class=\"dataframe\">\n",
       "  <thead>\n",
       "    <tr style=\"text-align: right;\">\n",
       "      <th></th>\n",
       "      <th>participant</th>\n",
       "      <th>age</th>\n",
       "      <th>langs_other_than_eng</th>\n",
       "      <th>gender</th>\n",
       "      <th>religiosity</th>\n",
       "      <th>major</th>\n",
       "      <th>college</th>\n",
       "      <th>word</th>\n",
       "      <th>rating</th>\n",
       "      <th>religion</th>\n",
       "      <th>...</th>\n",
       "      <th>body</th>\n",
       "      <th>excretion</th>\n",
       "      <th>slur</th>\n",
       "      <th>insult</th>\n",
       "      <th>formal</th>\n",
       "      <th>closed</th>\n",
       "      <th>syllables</th>\n",
       "      <th>vowels</th>\n",
       "      <th>letters</th>\n",
       "      <th>consonants</th>\n",
       "    </tr>\n",
       "  </thead>\n",
       "  <tbody>\n",
       "    <tr>\n",
       "      <th>0</th>\n",
       "      <td>1</td>\n",
       "      <td>20</td>\n",
       "      <td>1</td>\n",
       "      <td>Male</td>\n",
       "      <td>1.0</td>\n",
       "      <td>social_science</td>\n",
       "      <td>Warren</td>\n",
       "      <td>nigger</td>\n",
       "      <td>1</td>\n",
       "      <td>0</td>\n",
       "      <td>...</td>\n",
       "      <td>0</td>\n",
       "      <td>0</td>\n",
       "      <td>1</td>\n",
       "      <td>1</td>\n",
       "      <td>0</td>\n",
       "      <td>0</td>\n",
       "      <td>2</td>\n",
       "      <td>2</td>\n",
       "      <td>6</td>\n",
       "      <td>4</td>\n",
       "    </tr>\n",
       "    <tr>\n",
       "      <th>1</th>\n",
       "      <td>2</td>\n",
       "      <td>18</td>\n",
       "      <td>1</td>\n",
       "      <td>Male</td>\n",
       "      <td>1.0</td>\n",
       "      <td>arts_humanities</td>\n",
       "      <td>Sixth</td>\n",
       "      <td>nigger</td>\n",
       "      <td>1</td>\n",
       "      <td>0</td>\n",
       "      <td>...</td>\n",
       "      <td>0</td>\n",
       "      <td>0</td>\n",
       "      <td>1</td>\n",
       "      <td>1</td>\n",
       "      <td>0</td>\n",
       "      <td>0</td>\n",
       "      <td>2</td>\n",
       "      <td>2</td>\n",
       "      <td>6</td>\n",
       "      <td>4</td>\n",
       "    </tr>\n",
       "    <tr>\n",
       "      <th>2</th>\n",
       "      <td>3</td>\n",
       "      <td>21</td>\n",
       "      <td>1</td>\n",
       "      <td>Male</td>\n",
       "      <td>3.0</td>\n",
       "      <td>social_science</td>\n",
       "      <td>Roosevelt</td>\n",
       "      <td>nigger</td>\n",
       "      <td>3</td>\n",
       "      <td>0</td>\n",
       "      <td>...</td>\n",
       "      <td>0</td>\n",
       "      <td>0</td>\n",
       "      <td>1</td>\n",
       "      <td>1</td>\n",
       "      <td>0</td>\n",
       "      <td>0</td>\n",
       "      <td>2</td>\n",
       "      <td>2</td>\n",
       "      <td>6</td>\n",
       "      <td>4</td>\n",
       "    </tr>\n",
       "    <tr>\n",
       "      <th>3</th>\n",
       "      <td>4</td>\n",
       "      <td>20</td>\n",
       "      <td>0</td>\n",
       "      <td>Male</td>\n",
       "      <td>1.0</td>\n",
       "      <td>multi_interdisciplinary</td>\n",
       "      <td>Revelle</td>\n",
       "      <td>nigger</td>\n",
       "      <td>9</td>\n",
       "      <td>0</td>\n",
       "      <td>...</td>\n",
       "      <td>0</td>\n",
       "      <td>0</td>\n",
       "      <td>1</td>\n",
       "      <td>1</td>\n",
       "      <td>0</td>\n",
       "      <td>0</td>\n",
       "      <td>2</td>\n",
       "      <td>2</td>\n",
       "      <td>6</td>\n",
       "      <td>4</td>\n",
       "    </tr>\n",
       "    <tr>\n",
       "      <th>4</th>\n",
       "      <td>5</td>\n",
       "      <td>22</td>\n",
       "      <td>0</td>\n",
       "      <td>Male</td>\n",
       "      <td>1.0</td>\n",
       "      <td>multi_interdisciplinary</td>\n",
       "      <td>Warren</td>\n",
       "      <td>nigger</td>\n",
       "      <td>9</td>\n",
       "      <td>0</td>\n",
       "      <td>...</td>\n",
       "      <td>0</td>\n",
       "      <td>0</td>\n",
       "      <td>1</td>\n",
       "      <td>1</td>\n",
       "      <td>0</td>\n",
       "      <td>0</td>\n",
       "      <td>2</td>\n",
       "      <td>2</td>\n",
       "      <td>6</td>\n",
       "      <td>4</td>\n",
       "    </tr>\n",
       "  </tbody>\n",
       "</table>\n",
       "<p>5 rows × 21 columns</p>\n",
       "</div>"
      ],
      "text/plain": [
       "   participant  age  langs_other_than_eng gender  religiosity  \\\n",
       "0            1   20                     1   Male          1.0   \n",
       "1            2   18                     1   Male          1.0   \n",
       "2            3   21                     1   Male          3.0   \n",
       "3            4   20                     0   Male          1.0   \n",
       "4            5   22                     0   Male          1.0   \n",
       "\n",
       "                     major    college    word  rating  religion  ...  body  \\\n",
       "0           social_science     Warren  nigger       1         0  ...     0   \n",
       "1          arts_humanities      Sixth  nigger       1         0  ...     0   \n",
       "2           social_science  Roosevelt  nigger       3         0  ...     0   \n",
       "3  multi_interdisciplinary    Revelle  nigger       9         0  ...     0   \n",
       "4  multi_interdisciplinary     Warren  nigger       9         0  ...     0   \n",
       "\n",
       "   excretion  slur  insult  formal  closed  syllables  vowels  letters  \\\n",
       "0          0     1       1       0       0          2       2        6   \n",
       "1          0     1       1       0       0          2       2        6   \n",
       "2          0     1       1       0       0          2       2        6   \n",
       "3          0     1       1       0       0          2       2        6   \n",
       "4          0     1       1       0       0          2       2        6   \n",
       "\n",
       "   consonants  \n",
       "0           4  \n",
       "1           4  \n",
       "2           4  \n",
       "3           4  \n",
       "4           4  \n",
       "\n",
       "[5 rows x 21 columns]"
      ]
     },
     "execution_count": 31,
     "metadata": {},
     "output_type": "execute_result"
    }
   ],
   "source": [
    "regression_data_df.head()"
   ]
  },
  {
   "cell_type": "code",
   "execution_count": 32,
   "id": "df5c0946-dc28-4813-9de8-3d08fac6ed79",
   "metadata": {},
   "outputs": [],
   "source": [
    "X = regression_data_df.drop(['rating'], axis=1)\n",
    "y = regression_data_df['rating']"
   ]
  },
  {
   "cell_type": "code",
   "execution_count": 33,
   "id": "11a6ba78-0cae-480f-996c-a24d981a9228",
   "metadata": {},
   "outputs": [
    {
     "data": {
      "text/plain": [
       "(8077, 20)"
      ]
     },
     "execution_count": 33,
     "metadata": {},
     "output_type": "execute_result"
    }
   ],
   "source": [
    "X.shape"
   ]
  },
  {
   "cell_type": "code",
   "execution_count": 34,
   "id": "244dedff-4b23-4dfe-9b69-e780c481d998",
   "metadata": {},
   "outputs": [
    {
     "data": {
      "text/plain": [
       "(8077,)"
      ]
     },
     "execution_count": 34,
     "metadata": {},
     "output_type": "execute_result"
    }
   ],
   "source": [
    "y.shape"
   ]
  },
  {
   "cell_type": "code",
   "execution_count": 35,
   "id": "1dc9d104-1c1d-4cec-ac05-66e78d68d1f9",
   "metadata": {},
   "outputs": [],
   "source": [
    "X_processed = full_pipeline.fit_transform(X)"
   ]
  },
  {
   "cell_type": "markdown",
   "id": "9f7f6086-aeac-4dc8-8819-ef0191e14cd1",
   "metadata": {},
   "source": [
    "re-convert to pandas dataframe to preserve feature names"
   ]
  },
  {
   "cell_type": "code",
   "execution_count": 36,
   "id": "d1b177c2-4863-453b-84a0-75ad613b50dd",
   "metadata": {},
   "outputs": [],
   "source": [
    "X_processed_df = pd.DataFrame(X_processed, columns=full_pipeline.get_feature_names_out())"
   ]
  },
  {
   "cell_type": "code",
   "execution_count": 37,
   "id": "18d366bc-52a4-42f6-bc1c-084cb88de44b",
   "metadata": {},
   "outputs": [
    {
     "data": {
      "text/html": [
       "<div>\n",
       "<style scoped>\n",
       "    .dataframe tbody tr th:only-of-type {\n",
       "        vertical-align: middle;\n",
       "    }\n",
       "\n",
       "    .dataframe tbody tr th {\n",
       "        vertical-align: top;\n",
       "    }\n",
       "\n",
       "    .dataframe thead th {\n",
       "        text-align: right;\n",
       "    }\n",
       "</style>\n",
       "<table border=\"1\" class=\"dataframe\">\n",
       "  <thead>\n",
       "    <tr style=\"text-align: right;\">\n",
       "      <th></th>\n",
       "      <th>num__age</th>\n",
       "      <th>num__langs_other_than_eng</th>\n",
       "      <th>num__religiosity</th>\n",
       "      <th>num__syllables</th>\n",
       "      <th>num__vowels</th>\n",
       "      <th>num__consonants</th>\n",
       "      <th>num__letters</th>\n",
       "      <th>ohe__gender_Female</th>\n",
       "      <th>ohe__gender_Male</th>\n",
       "      <th>ohe__major_arts_humanities</th>\n",
       "      <th>...</th>\n",
       "      <th>ohe__major_social_science</th>\n",
       "      <th>ohe__major_stem</th>\n",
       "      <th>ohe__major_undeclared</th>\n",
       "      <th>pass__sex</th>\n",
       "      <th>pass__body</th>\n",
       "      <th>pass__excretion</th>\n",
       "      <th>pass__slur</th>\n",
       "      <th>pass__insult</th>\n",
       "      <th>pass__formal</th>\n",
       "      <th>pass__closed</th>\n",
       "    </tr>\n",
       "  </thead>\n",
       "  <tbody>\n",
       "    <tr>\n",
       "      <th>0</th>\n",
       "      <td>0.617979</td>\n",
       "      <td>0.784312</td>\n",
       "      <td>-0.765825</td>\n",
       "      <td>0.403983</td>\n",
       "      <td>0.134541</td>\n",
       "      <td>0.248441</td>\n",
       "      <td>0.233261</td>\n",
       "      <td>0.0</td>\n",
       "      <td>1.0</td>\n",
       "      <td>0.0</td>\n",
       "      <td>...</td>\n",
       "      <td>1.0</td>\n",
       "      <td>0.0</td>\n",
       "      <td>0.0</td>\n",
       "      <td>0.0</td>\n",
       "      <td>0.0</td>\n",
       "      <td>0.0</td>\n",
       "      <td>1.0</td>\n",
       "      <td>1.0</td>\n",
       "      <td>0.0</td>\n",
       "      <td>0.0</td>\n",
       "    </tr>\n",
       "    <tr>\n",
       "      <th>1</th>\n",
       "      <td>-0.586368</td>\n",
       "      <td>0.784312</td>\n",
       "      <td>-0.765825</td>\n",
       "      <td>0.403983</td>\n",
       "      <td>0.134541</td>\n",
       "      <td>0.248441</td>\n",
       "      <td>0.233261</td>\n",
       "      <td>0.0</td>\n",
       "      <td>1.0</td>\n",
       "      <td>1.0</td>\n",
       "      <td>...</td>\n",
       "      <td>0.0</td>\n",
       "      <td>0.0</td>\n",
       "      <td>0.0</td>\n",
       "      <td>0.0</td>\n",
       "      <td>0.0</td>\n",
       "      <td>0.0</td>\n",
       "      <td>1.0</td>\n",
       "      <td>1.0</td>\n",
       "      <td>0.0</td>\n",
       "      <td>0.0</td>\n",
       "    </tr>\n",
       "    <tr>\n",
       "      <th>2</th>\n",
       "      <td>1.220153</td>\n",
       "      <td>0.784312</td>\n",
       "      <td>1.054531</td>\n",
       "      <td>0.403983</td>\n",
       "      <td>0.134541</td>\n",
       "      <td>0.248441</td>\n",
       "      <td>0.233261</td>\n",
       "      <td>0.0</td>\n",
       "      <td>1.0</td>\n",
       "      <td>0.0</td>\n",
       "      <td>...</td>\n",
       "      <td>1.0</td>\n",
       "      <td>0.0</td>\n",
       "      <td>0.0</td>\n",
       "      <td>0.0</td>\n",
       "      <td>0.0</td>\n",
       "      <td>0.0</td>\n",
       "      <td>1.0</td>\n",
       "      <td>1.0</td>\n",
       "      <td>0.0</td>\n",
       "      <td>0.0</td>\n",
       "    </tr>\n",
       "    <tr>\n",
       "      <th>3</th>\n",
       "      <td>0.617979</td>\n",
       "      <td>-1.024106</td>\n",
       "      <td>-0.765825</td>\n",
       "      <td>0.403983</td>\n",
       "      <td>0.134541</td>\n",
       "      <td>0.248441</td>\n",
       "      <td>0.233261</td>\n",
       "      <td>0.0</td>\n",
       "      <td>1.0</td>\n",
       "      <td>0.0</td>\n",
       "      <td>...</td>\n",
       "      <td>0.0</td>\n",
       "      <td>0.0</td>\n",
       "      <td>0.0</td>\n",
       "      <td>0.0</td>\n",
       "      <td>0.0</td>\n",
       "      <td>0.0</td>\n",
       "      <td>1.0</td>\n",
       "      <td>1.0</td>\n",
       "      <td>0.0</td>\n",
       "      <td>0.0</td>\n",
       "    </tr>\n",
       "    <tr>\n",
       "      <th>4</th>\n",
       "      <td>1.822326</td>\n",
       "      <td>-1.024106</td>\n",
       "      <td>-0.765825</td>\n",
       "      <td>0.403983</td>\n",
       "      <td>0.134541</td>\n",
       "      <td>0.248441</td>\n",
       "      <td>0.233261</td>\n",
       "      <td>0.0</td>\n",
       "      <td>1.0</td>\n",
       "      <td>0.0</td>\n",
       "      <td>...</td>\n",
       "      <td>0.0</td>\n",
       "      <td>0.0</td>\n",
       "      <td>0.0</td>\n",
       "      <td>0.0</td>\n",
       "      <td>0.0</td>\n",
       "      <td>0.0</td>\n",
       "      <td>1.0</td>\n",
       "      <td>1.0</td>\n",
       "      <td>0.0</td>\n",
       "      <td>0.0</td>\n",
       "    </tr>\n",
       "  </tbody>\n",
       "</table>\n",
       "<p>5 rows × 22 columns</p>\n",
       "</div>"
      ],
      "text/plain": [
       "   num__age  num__langs_other_than_eng  num__religiosity  num__syllables  \\\n",
       "0  0.617979                   0.784312         -0.765825        0.403983   \n",
       "1 -0.586368                   0.784312         -0.765825        0.403983   \n",
       "2  1.220153                   0.784312          1.054531        0.403983   \n",
       "3  0.617979                  -1.024106         -0.765825        0.403983   \n",
       "4  1.822326                  -1.024106         -0.765825        0.403983   \n",
       "\n",
       "   num__vowels  num__consonants  num__letters  ohe__gender_Female  \\\n",
       "0     0.134541         0.248441      0.233261                 0.0   \n",
       "1     0.134541         0.248441      0.233261                 0.0   \n",
       "2     0.134541         0.248441      0.233261                 0.0   \n",
       "3     0.134541         0.248441      0.233261                 0.0   \n",
       "4     0.134541         0.248441      0.233261                 0.0   \n",
       "\n",
       "   ohe__gender_Male  ohe__major_arts_humanities  ...  \\\n",
       "0               1.0                         0.0  ...   \n",
       "1               1.0                         1.0  ...   \n",
       "2               1.0                         0.0  ...   \n",
       "3               1.0                         0.0  ...   \n",
       "4               1.0                         0.0  ...   \n",
       "\n",
       "   ohe__major_social_science  ohe__major_stem  ohe__major_undeclared  \\\n",
       "0                        1.0              0.0                    0.0   \n",
       "1                        0.0              0.0                    0.0   \n",
       "2                        1.0              0.0                    0.0   \n",
       "3                        0.0              0.0                    0.0   \n",
       "4                        0.0              0.0                    0.0   \n",
       "\n",
       "   pass__sex  pass__body  pass__excretion  pass__slur  pass__insult  \\\n",
       "0        0.0         0.0              0.0         1.0           1.0   \n",
       "1        0.0         0.0              0.0         1.0           1.0   \n",
       "2        0.0         0.0              0.0         1.0           1.0   \n",
       "3        0.0         0.0              0.0         1.0           1.0   \n",
       "4        0.0         0.0              0.0         1.0           1.0   \n",
       "\n",
       "   pass__formal  pass__closed  \n",
       "0           0.0           0.0  \n",
       "1           0.0           0.0  \n",
       "2           0.0           0.0  \n",
       "3           0.0           0.0  \n",
       "4           0.0           0.0  \n",
       "\n",
       "[5 rows x 22 columns]"
      ]
     },
     "execution_count": 37,
     "metadata": {},
     "output_type": "execute_result"
    }
   ],
   "source": [
    "X_processed_df.head()"
   ]
  },
  {
   "cell_type": "code",
   "execution_count": 38,
   "id": "92a2eb4e-47a5-4bb9-ac87-2514886d34d7",
   "metadata": {},
   "outputs": [],
   "source": [
    "ols_mdl = sm.OLS(y, sm.add_constant(X_processed_df))"
   ]
  },
  {
   "cell_type": "code",
   "execution_count": 39,
   "id": "5057c38b-c3b2-4bb8-92fd-2295ce88dab8",
   "metadata": {},
   "outputs": [],
   "source": [
    "ols_mdl_fit = ols_mdl.fit()"
   ]
  },
  {
   "cell_type": "code",
   "execution_count": 40,
   "id": "caa3d45f-3c21-4c60-9cec-845e95bb7e5d",
   "metadata": {},
   "outputs": [
    {
     "data": {
      "text/html": [
       "<table class=\"simpletable\">\n",
       "<caption>OLS Regression Results</caption>\n",
       "<tr>\n",
       "  <th>Dep. Variable:</th>         <td>rating</td>      <th>  R-squared:         </th> <td>   0.332</td> \n",
       "</tr>\n",
       "<tr>\n",
       "  <th>Model:</th>                   <td>OLS</td>       <th>  Adj. R-squared:    </th> <td>   0.330</td> \n",
       "</tr>\n",
       "<tr>\n",
       "  <th>Method:</th>             <td>Least Squares</td>  <th>  F-statistic:       </th> <td>   210.8</td> \n",
       "</tr>\n",
       "<tr>\n",
       "  <th>Date:</th>             <td>Sun, 20 Nov 2022</td> <th>  Prob (F-statistic):</th>  <td>  0.00</td>  \n",
       "</tr>\n",
       "<tr>\n",
       "  <th>Time:</th>                 <td>16:50:28</td>     <th>  Log-Likelihood:    </th> <td> -15935.</td> \n",
       "</tr>\n",
       "<tr>\n",
       "  <th>No. Observations:</th>      <td>  8077</td>      <th>  AIC:               </th> <td>3.191e+04</td>\n",
       "</tr>\n",
       "<tr>\n",
       "  <th>Df Residuals:</th>          <td>  8057</td>      <th>  BIC:               </th> <td>3.205e+04</td>\n",
       "</tr>\n",
       "<tr>\n",
       "  <th>Df Model:</th>              <td>    19</td>      <th>                     </th>     <td> </td>    \n",
       "</tr>\n",
       "<tr>\n",
       "  <th>Covariance Type:</th>      <td>nonrobust</td>    <th>                     </th>     <td> </td>    \n",
       "</tr>\n",
       "</table>\n",
       "<table class=\"simpletable\">\n",
       "<tr>\n",
       "                   <td></td>                     <th>coef</th>     <th>std err</th>      <th>t</th>      <th>P>|t|</th>  <th>[0.025</th>    <th>0.975]</th>  \n",
       "</tr>\n",
       "<tr>\n",
       "  <th>const</th>                              <td>-8.872e+12</td> <td> 3.74e+12</td> <td>   -2.370</td> <td> 0.018</td> <td>-1.62e+13</td> <td>-1.53e+12</td>\n",
       "</tr>\n",
       "<tr>\n",
       "  <th>num__age</th>                           <td>    0.2996</td> <td>    0.021</td> <td>   14.604</td> <td> 0.000</td> <td>    0.259</td> <td>    0.340</td>\n",
       "</tr>\n",
       "<tr>\n",
       "  <th>num__langs_other_than_eng</th>          <td>   -0.1061</td> <td>    0.021</td> <td>   -5.147</td> <td> 0.000</td> <td>   -0.146</td> <td>   -0.066</td>\n",
       "</tr>\n",
       "<tr>\n",
       "  <th>num__religiosity</th>                   <td>    0.1752</td> <td>    0.020</td> <td>    8.703</td> <td> 0.000</td> <td>    0.136</td> <td>    0.215</td>\n",
       "</tr>\n",
       "<tr>\n",
       "  <th>num__syllables</th>                     <td>    0.2206</td> <td>    0.048</td> <td>    4.584</td> <td> 0.000</td> <td>    0.126</td> <td>    0.315</td>\n",
       "</tr>\n",
       "<tr>\n",
       "  <th>num__vowels</th>                        <td>-2.175e+12</td> <td> 9.18e+11</td> <td>   -2.370</td> <td> 0.018</td> <td>-3.97e+12</td> <td>-3.76e+11</td>\n",
       "</tr>\n",
       "<tr>\n",
       "  <th>num__consonants</th>                    <td>-2.935e+12</td> <td> 1.24e+12</td> <td>   -2.370</td> <td> 0.018</td> <td>-5.36e+12</td> <td>-5.08e+11</td>\n",
       "</tr>\n",
       "<tr>\n",
       "  <th>num__letters</th>                       <td> 4.381e+12</td> <td> 1.85e+12</td> <td>    2.370</td> <td> 0.018</td> <td> 7.58e+11</td> <td>    8e+12</td>\n",
       "</tr>\n",
       "<tr>\n",
       "  <th>ohe__gender_Female</th>                 <td> 9.649e+12</td> <td> 4.07e+12</td> <td>    2.370</td> <td> 0.018</td> <td> 1.67e+12</td> <td> 1.76e+13</td>\n",
       "</tr>\n",
       "<tr>\n",
       "  <th>ohe__gender_Male</th>                   <td> 9.649e+12</td> <td> 4.07e+12</td> <td>    2.370</td> <td> 0.018</td> <td> 1.67e+12</td> <td> 1.76e+13</td>\n",
       "</tr>\n",
       "<tr>\n",
       "  <th>ohe__major_arts_humanities</th>         <td>-7.772e+11</td> <td> 3.28e+11</td> <td>   -2.370</td> <td> 0.018</td> <td>-1.42e+12</td> <td>-1.34e+11</td>\n",
       "</tr>\n",
       "<tr>\n",
       "  <th>ohe__major_business</th>                <td>-7.772e+11</td> <td> 3.28e+11</td> <td>   -2.370</td> <td> 0.018</td> <td>-1.42e+12</td> <td>-1.34e+11</td>\n",
       "</tr>\n",
       "<tr>\n",
       "  <th>ohe__major_multi_interdisciplinary</th> <td>-7.772e+11</td> <td> 3.28e+11</td> <td>   -2.370</td> <td> 0.018</td> <td>-1.42e+12</td> <td>-1.34e+11</td>\n",
       "</tr>\n",
       "<tr>\n",
       "  <th>ohe__major_social_science</th>          <td>-7.772e+11</td> <td> 3.28e+11</td> <td>   -2.370</td> <td> 0.018</td> <td>-1.42e+12</td> <td>-1.34e+11</td>\n",
       "</tr>\n",
       "<tr>\n",
       "  <th>ohe__major_stem</th>                    <td>-7.772e+11</td> <td> 3.28e+11</td> <td>   -2.370</td> <td> 0.018</td> <td>-1.42e+12</td> <td>-1.34e+11</td>\n",
       "</tr>\n",
       "<tr>\n",
       "  <th>ohe__major_undeclared</th>              <td>-7.772e+11</td> <td> 3.28e+11</td> <td>   -2.370</td> <td> 0.018</td> <td>-1.42e+12</td> <td>-1.34e+11</td>\n",
       "</tr>\n",
       "<tr>\n",
       "  <th>pass__sex</th>                          <td>    0.1282</td> <td>    0.055</td> <td>    2.344</td> <td> 0.019</td> <td>    0.021</td> <td>    0.235</td>\n",
       "</tr>\n",
       "<tr>\n",
       "  <th>pass__body</th>                         <td>    0.1979</td> <td>    0.055</td> <td>    3.621</td> <td> 0.000</td> <td>    0.091</td> <td>    0.305</td>\n",
       "</tr>\n",
       "<tr>\n",
       "  <th>pass__excretion</th>                    <td>   -0.0713</td> <td>    0.070</td> <td>   -1.014</td> <td> 0.311</td> <td>   -0.209</td> <td>    0.067</td>\n",
       "</tr>\n",
       "<tr>\n",
       "  <th>pass__slur</th>                         <td>    2.7483</td> <td>    0.066</td> <td>   41.715</td> <td> 0.000</td> <td>    2.619</td> <td>    2.877</td>\n",
       "</tr>\n",
       "<tr>\n",
       "  <th>pass__insult</th>                       <td>    0.7008</td> <td>    0.050</td> <td>   13.894</td> <td> 0.000</td> <td>    0.602</td> <td>    0.800</td>\n",
       "</tr>\n",
       "<tr>\n",
       "  <th>pass__formal</th>                       <td>   -0.4996</td> <td>    0.070</td> <td>   -7.111</td> <td> 0.000</td> <td>   -0.637</td> <td>   -0.362</td>\n",
       "</tr>\n",
       "<tr>\n",
       "  <th>pass__closed</th>                       <td>    0.1361</td> <td>    0.055</td> <td>    2.477</td> <td> 0.013</td> <td>    0.028</td> <td>    0.244</td>\n",
       "</tr>\n",
       "</table>\n",
       "<table class=\"simpletable\">\n",
       "<tr>\n",
       "  <th>Omnibus:</th>       <td>1058.265</td> <th>  Durbin-Watson:     </th> <td>   1.796</td>\n",
       "</tr>\n",
       "<tr>\n",
       "  <th>Prob(Omnibus):</th>  <td> 0.000</td>  <th>  Jarque-Bera (JB):  </th> <td>1734.656</td>\n",
       "</tr>\n",
       "<tr>\n",
       "  <th>Skew:</th>           <td> 0.901</td>  <th>  Prob(JB):          </th> <td>    0.00</td>\n",
       "</tr>\n",
       "<tr>\n",
       "  <th>Kurtosis:</th>       <td> 4.382</td>  <th>  Cond. No.          </th> <td>1.27e+16</td>\n",
       "</tr>\n",
       "</table><br/><br/>Notes:<br/>[1] Standard Errors assume that the covariance matrix of the errors is correctly specified.<br/>[2] The smallest eigenvalue is 1.7e-28. This might indicate that there are<br/>strong multicollinearity problems or that the design matrix is singular."
      ],
      "text/plain": [
       "<class 'statsmodels.iolib.summary.Summary'>\n",
       "\"\"\"\n",
       "                            OLS Regression Results                            \n",
       "==============================================================================\n",
       "Dep. Variable:                 rating   R-squared:                       0.332\n",
       "Model:                            OLS   Adj. R-squared:                  0.330\n",
       "Method:                 Least Squares   F-statistic:                     210.8\n",
       "Date:                Sun, 20 Nov 2022   Prob (F-statistic):               0.00\n",
       "Time:                        16:50:28   Log-Likelihood:                -15935.\n",
       "No. Observations:                8077   AIC:                         3.191e+04\n",
       "Df Residuals:                    8057   BIC:                         3.205e+04\n",
       "Df Model:                          19                                         \n",
       "Covariance Type:            nonrobust                                         \n",
       "======================================================================================================\n",
       "                                         coef    std err          t      P>|t|      [0.025      0.975]\n",
       "------------------------------------------------------------------------------------------------------\n",
       "const                              -8.872e+12   3.74e+12     -2.370      0.018   -1.62e+13   -1.53e+12\n",
       "num__age                               0.2996      0.021     14.604      0.000       0.259       0.340\n",
       "num__langs_other_than_eng             -0.1061      0.021     -5.147      0.000      -0.146      -0.066\n",
       "num__religiosity                       0.1752      0.020      8.703      0.000       0.136       0.215\n",
       "num__syllables                         0.2206      0.048      4.584      0.000       0.126       0.315\n",
       "num__vowels                        -2.175e+12   9.18e+11     -2.370      0.018   -3.97e+12   -3.76e+11\n",
       "num__consonants                    -2.935e+12   1.24e+12     -2.370      0.018   -5.36e+12   -5.08e+11\n",
       "num__letters                        4.381e+12   1.85e+12      2.370      0.018    7.58e+11       8e+12\n",
       "ohe__gender_Female                  9.649e+12   4.07e+12      2.370      0.018    1.67e+12    1.76e+13\n",
       "ohe__gender_Male                    9.649e+12   4.07e+12      2.370      0.018    1.67e+12    1.76e+13\n",
       "ohe__major_arts_humanities         -7.772e+11   3.28e+11     -2.370      0.018   -1.42e+12   -1.34e+11\n",
       "ohe__major_business                -7.772e+11   3.28e+11     -2.370      0.018   -1.42e+12   -1.34e+11\n",
       "ohe__major_multi_interdisciplinary -7.772e+11   3.28e+11     -2.370      0.018   -1.42e+12   -1.34e+11\n",
       "ohe__major_social_science          -7.772e+11   3.28e+11     -2.370      0.018   -1.42e+12   -1.34e+11\n",
       "ohe__major_stem                    -7.772e+11   3.28e+11     -2.370      0.018   -1.42e+12   -1.34e+11\n",
       "ohe__major_undeclared              -7.772e+11   3.28e+11     -2.370      0.018   -1.42e+12   -1.34e+11\n",
       "pass__sex                              0.1282      0.055      2.344      0.019       0.021       0.235\n",
       "pass__body                             0.1979      0.055      3.621      0.000       0.091       0.305\n",
       "pass__excretion                       -0.0713      0.070     -1.014      0.311      -0.209       0.067\n",
       "pass__slur                             2.7483      0.066     41.715      0.000       2.619       2.877\n",
       "pass__insult                           0.7008      0.050     13.894      0.000       0.602       0.800\n",
       "pass__formal                          -0.4996      0.070     -7.111      0.000      -0.637      -0.362\n",
       "pass__closed                           0.1361      0.055      2.477      0.013       0.028       0.244\n",
       "==============================================================================\n",
       "Omnibus:                     1058.265   Durbin-Watson:                   1.796\n",
       "Prob(Omnibus):                  0.000   Jarque-Bera (JB):             1734.656\n",
       "Skew:                           0.901   Prob(JB):                         0.00\n",
       "Kurtosis:                       4.382   Cond. No.                     1.27e+16\n",
       "==============================================================================\n",
       "\n",
       "Notes:\n",
       "[1] Standard Errors assume that the covariance matrix of the errors is correctly specified.\n",
       "[2] The smallest eigenvalue is 1.7e-28. This might indicate that there are\n",
       "strong multicollinearity problems or that the design matrix is singular.\n",
       "\"\"\""
      ]
     },
     "execution_count": 40,
     "metadata": {},
     "output_type": "execute_result"
    }
   ],
   "source": [
    "ols_mdl_fit.summary()"
   ]
  },
  {
   "cell_type": "code",
   "execution_count": 41,
   "id": "60b0f377-b614-464d-beea-6d733df212e5",
   "metadata": {},
   "outputs": [
    {
     "data": {
      "text/html": [
       "<table class=\"simpletable\">\n",
       "<tr>\n",
       "        <td>Model:</td>               <td>OLS</td>         <td>Adj. R-squared:</td>      <td>0.330</td>  \n",
       "</tr>\n",
       "<tr>\n",
       "  <td>Dependent Variable:</td>      <td>rating</td>             <td>AIC:</td>         <td>31909.1946</td>\n",
       "</tr>\n",
       "<tr>\n",
       "         <td>Date:</td>        <td>2022-11-20 16:50</td>        <td>BIC:</td>         <td>32049.1301</td>\n",
       "</tr>\n",
       "<tr>\n",
       "   <td>No. Observations:</td>        <td>8077</td>         <td>Log-Likelihood:</td>     <td>-15935.</td> \n",
       "</tr>\n",
       "<tr>\n",
       "       <td>Df Model:</td>             <td>19</td>           <td>F-statistic:</td>        <td>210.8</td>  \n",
       "</tr>\n",
       "<tr>\n",
       "     <td>Df Residuals:</td>          <td>8057</td>       <td>Prob (F-statistic):</td>    <td>0.00</td>   \n",
       "</tr>\n",
       "<tr>\n",
       "      <td>R-squared:</td>            <td>0.332</td>            <td>Scale:</td>          <td>3.0352</td>  \n",
       "</tr>\n",
       "</table>\n",
       "<table class=\"simpletable\">\n",
       "<tr>\n",
       "                   <td></td>                         <th>Coef.</th>             <th>Std.Err.</th>         <th>t</th>     <th>P>|t|</th>        <th>[0.025</th>              <th>0.975]</th>       \n",
       "</tr>\n",
       "<tr>\n",
       "  <th>const</th>                              <td>-8871567333259.2910</td> <td>3742851013868.4717</td> <td>-2.3703</td> <td>0.0178</td> <td>-16208522712954.0859</td> <td>-1534611953564.4971</td>\n",
       "</tr>\n",
       "<tr>\n",
       "  <th>num__age</th>                                 <td>0.2996</td>              <td>0.0205</td>       <td>14.6041</td> <td>0.0000</td>        <td>0.2594</td>              <td>0.3398</td>       \n",
       "</tr>\n",
       "<tr>\n",
       "  <th>num__langs_other_than_eng</th>                <td>-0.1061</td>             <td>0.0206</td>       <td>-5.1469</td> <td>0.0000</td>        <td>-0.1465</td>             <td>-0.0657</td>      \n",
       "</tr>\n",
       "<tr>\n",
       "  <th>num__religiosity</th>                         <td>0.1752</td>              <td>0.0201</td>       <td>8.7034</td>  <td>0.0000</td>        <td>0.1357</td>              <td>0.2147</td>       \n",
       "</tr>\n",
       "<tr>\n",
       "  <th>num__syllables</th>                           <td>0.2206</td>              <td>0.0481</td>       <td>4.5844</td>  <td>0.0000</td>        <td>0.1263</td>              <td>0.3150</td>       \n",
       "</tr>\n",
       "<tr>\n",
       "  <th>num__vowels</th>                        <td>-2174820286480.5530</td>  <td>917541174907.9905</td> <td>-2.3703</td> <td>0.0178</td>  <td>-3973438140728.1792</td> <td>-376202432232.9268</td> \n",
       "</tr>\n",
       "<tr>\n",
       "  <th>num__consonants</th>                    <td>-2935285124141.8765</td> <td>1238375868680.9817</td> <td>-2.3703</td> <td>0.0178</td>  <td>-5362821902425.8418</td> <td>-507748345857.9111</td> \n",
       "</tr>\n",
       "<tr>\n",
       "  <th>num__letters</th>                       <td>4380702050629.3945</td>  <td>1848186965811.8384</td> <td>2.3703</td>  <td>0.0178</td>   <td>757777907709.8540</td>  <td>8003626193548.9355</td> \n",
       "</tr>\n",
       "<tr>\n",
       "  <th>ohe__gender_Female</th>                 <td>9648735407437.2617</td>  <td>4070732684052.2178</td> <td>2.3703</td>  <td>0.0178</td>  <td>1669047208550.8330</td>  <td>17628423606323.6914</td>\n",
       "</tr>\n",
       "<tr>\n",
       "  <th>ohe__gender_Male</th>                   <td>9648735407436.9102</td>  <td>4070732684052.2202</td> <td>2.3703</td>  <td>0.0178</td>  <td>1669047208550.4766</td>  <td>17628423606323.3438</td>\n",
       "</tr>\n",
       "<tr>\n",
       "  <th>ohe__major_arts_humanities</th>         <td>-777168074176.4434</td>   <td>327881670183.7262</td> <td>-2.3703</td> <td>0.0178</td>  <td>-1419900893368.0388</td> <td>-134435254984.8479</td> \n",
       "</tr>\n",
       "<tr>\n",
       "  <th>ohe__major_business</th>                <td>-777168074176.1769</td>   <td>327881670183.7274</td> <td>-2.3703</td> <td>0.0178</td>  <td>-1419900893367.7749</td> <td>-134435254984.5790</td> \n",
       "</tr>\n",
       "<tr>\n",
       "  <th>ohe__major_multi_interdisciplinary</th> <td>-777168074176.0605</td>   <td>327881670183.7266</td> <td>-2.3703</td> <td>0.0178</td>  <td>-1419900893367.6567</td> <td>-134435254984.4642</td> \n",
       "</tr>\n",
       "<tr>\n",
       "  <th>ohe__major_social_science</th>          <td>-777168074176.3192</td>   <td>327881670183.7253</td> <td>-2.3703</td> <td>0.0178</td>  <td>-1419900893367.9128</td> <td>-134435254984.7256</td> \n",
       "</tr>\n",
       "<tr>\n",
       "  <th>ohe__major_stem</th>                    <td>-777168074176.0939</td>   <td>327881670183.7258</td> <td>-2.3703</td> <td>0.0178</td>  <td>-1419900893367.6885</td> <td>-134435254984.4993</td> \n",
       "</tr>\n",
       "<tr>\n",
       "  <th>ohe__major_undeclared</th>              <td>-777168074175.3820</td>   <td>327881670183.7251</td> <td>-2.3703</td> <td>0.0178</td>  <td>-1419900893366.9751</td> <td>-134435254983.7887</td> \n",
       "</tr>\n",
       "<tr>\n",
       "  <th>pass__sex</th>                                <td>0.1282</td>              <td>0.0547</td>       <td>2.3440</td>  <td>0.0191</td>        <td>0.0210</td>              <td>0.2354</td>       \n",
       "</tr>\n",
       "<tr>\n",
       "  <th>pass__body</th>                               <td>0.1979</td>              <td>0.0547</td>       <td>3.6208</td>  <td>0.0003</td>        <td>0.0908</td>              <td>0.3050</td>       \n",
       "</tr>\n",
       "<tr>\n",
       "  <th>pass__excretion</th>                          <td>-0.0713</td>             <td>0.0703</td>       <td>-1.0139</td> <td>0.3107</td>        <td>-0.2091</td>             <td>0.0665</td>       \n",
       "</tr>\n",
       "<tr>\n",
       "  <th>pass__slur</th>                               <td>2.7483</td>              <td>0.0659</td>       <td>41.7147</td> <td>0.0000</td>        <td>2.6192</td>              <td>2.8775</td>       \n",
       "</tr>\n",
       "<tr>\n",
       "  <th>pass__insult</th>                             <td>0.7008</td>              <td>0.0504</td>       <td>13.8944</td> <td>0.0000</td>        <td>0.6019</td>              <td>0.7996</td>       \n",
       "</tr>\n",
       "<tr>\n",
       "  <th>pass__formal</th>                             <td>-0.4996</td>             <td>0.0703</td>       <td>-7.1110</td> <td>0.0000</td>        <td>-0.6373</td>             <td>-0.3619</td>      \n",
       "</tr>\n",
       "<tr>\n",
       "  <th>pass__closed</th>                             <td>0.1361</td>              <td>0.0549</td>       <td>2.4774</td>  <td>0.0133</td>        <td>0.0284</td>              <td>0.2438</td>       \n",
       "</tr>\n",
       "</table>\n",
       "<table class=\"simpletable\">\n",
       "<tr>\n",
       "     <td>Omnibus:</td>    <td>1058.265</td>  <td>Durbin-Watson:</td>         <td>1.796</td>      \n",
       "</tr>\n",
       "<tr>\n",
       "  <td>Prob(Omnibus):</td>   <td>0.000</td>  <td>Jarque-Bera (JB):</td>     <td>1734.656</td>     \n",
       "</tr>\n",
       "<tr>\n",
       "       <td>Skew:</td>       <td>0.901</td>      <td>Prob(JB):</td>           <td>0.000</td>      \n",
       "</tr>\n",
       "<tr>\n",
       "     <td>Kurtosis:</td>     <td>4.382</td>   <td>Condition No.:</td>   <td>12735701374878338</td>\n",
       "</tr>\n",
       "</table>"
      ],
      "text/plain": [
       "<class 'statsmodels.iolib.summary2.Summary'>\n",
       "\"\"\"\n",
       "                                                 Results: Ordinary least squares\n",
       "=================================================================================================================================\n",
       "Model:                                    OLS                                  Adj. R-squared:                         0.330     \n",
       "Dependent Variable:                       rating                               AIC:                                    31909.1946\n",
       "Date:                                     2022-11-20 16:50                     BIC:                                    32049.1301\n",
       "No. Observations:                         8077                                 Log-Likelihood:                         -15935.   \n",
       "Df Model:                                 19                                   F-statistic:                            210.8     \n",
       "Df Residuals:                             8057                                 Prob (F-statistic):                     0.00      \n",
       "R-squared:                                0.332                                Scale:                                  3.0352    \n",
       "---------------------------------------------------------------------------------------------------------------------------------\n",
       "                                          Coef.             Std.Err.         t    P>|t|         [0.025               0.975]      \n",
       "---------------------------------------------------------------------------------------------------------------------------------\n",
       "const                              -8871567333259.2910 3742851013868.4717 -2.3703 0.0178 -16208522712954.0859 -1534611953564.4971\n",
       "num__age                                        0.2996             0.0205 14.6041 0.0000               0.2594              0.3398\n",
       "num__langs_other_than_eng                      -0.1061             0.0206 -5.1469 0.0000              -0.1465             -0.0657\n",
       "num__religiosity                                0.1752             0.0201  8.7034 0.0000               0.1357              0.2147\n",
       "num__syllables                                  0.2206             0.0481  4.5844 0.0000               0.1263              0.3150\n",
       "num__vowels                        -2174820286480.5530  917541174907.9905 -2.3703 0.0178  -3973438140728.1792  -376202432232.9268\n",
       "num__consonants                    -2935285124141.8765 1238375868680.9817 -2.3703 0.0178  -5362821902425.8418  -507748345857.9111\n",
       "num__letters                        4380702050629.3945 1848186965811.8384  2.3703 0.0178    757777907709.8540  8003626193548.9355\n",
       "ohe__gender_Female                  9648735407437.2617 4070732684052.2178  2.3703 0.0178   1669047208550.8330 17628423606323.6914\n",
       "ohe__gender_Male                    9648735407436.9102 4070732684052.2202  2.3703 0.0178   1669047208550.4766 17628423606323.3438\n",
       "ohe__major_arts_humanities          -777168074176.4434  327881670183.7262 -2.3703 0.0178  -1419900893368.0388  -134435254984.8479\n",
       "ohe__major_business                 -777168074176.1769  327881670183.7274 -2.3703 0.0178  -1419900893367.7749  -134435254984.5790\n",
       "ohe__major_multi_interdisciplinary  -777168074176.0605  327881670183.7266 -2.3703 0.0178  -1419900893367.6567  -134435254984.4642\n",
       "ohe__major_social_science           -777168074176.3192  327881670183.7253 -2.3703 0.0178  -1419900893367.9128  -134435254984.7256\n",
       "ohe__major_stem                     -777168074176.0939  327881670183.7258 -2.3703 0.0178  -1419900893367.6885  -134435254984.4993\n",
       "ohe__major_undeclared               -777168074175.3820  327881670183.7251 -2.3703 0.0178  -1419900893366.9751  -134435254983.7887\n",
       "pass__sex                                       0.1282             0.0547  2.3440 0.0191               0.0210              0.2354\n",
       "pass__body                                      0.1979             0.0547  3.6208 0.0003               0.0908              0.3050\n",
       "pass__excretion                                -0.0713             0.0703 -1.0139 0.3107              -0.2091              0.0665\n",
       "pass__slur                                      2.7483             0.0659 41.7147 0.0000               2.6192              2.8775\n",
       "pass__insult                                    0.7008             0.0504 13.8944 0.0000               0.6019              0.7996\n",
       "pass__formal                                   -0.4996             0.0703 -7.1110 0.0000              -0.6373             -0.3619\n",
       "pass__closed                                    0.1361             0.0549  2.4774 0.0133               0.0284              0.2438\n",
       "---------------------------------------------------------------------------------------------------------------------------------\n",
       "Omnibus:                               1058.265                        Durbin-Watson:                           1.796            \n",
       "Prob(Omnibus):                         0.000                           Jarque-Bera (JB):                        1734.656         \n",
       "Skew:                                  0.901                           Prob(JB):                                0.000            \n",
       "Kurtosis:                              4.382                           Condition No.:                           12735701374878338\n",
       "=================================================================================================================================\n",
       "* The condition number is large (1e+16). This might indicate             strong multicollinearity or other numerical problems.\n",
       "\"\"\""
      ]
     },
     "execution_count": 41,
     "metadata": {},
     "output_type": "execute_result"
    }
   ],
   "source": [
    "ols_mdl_fit.summary2()"
   ]
  },
  {
   "cell_type": "markdown",
   "id": "5b9701ee-0039-46c5-beb5-937f8b2d5110",
   "metadata": {
    "tags": []
   },
   "source": [
    "# Sci-Kit Models - Classification"
   ]
  },
  {
   "cell_type": "markdown",
   "id": "06c6412e-df0d-4fb2-afde-58fe9eb3405d",
   "metadata": {
    "tags": []
   },
   "source": [
    "### Create Training and Test Sets"
   ]
  },
  {
   "cell_type": "code",
   "execution_count": 147,
   "id": "ffb0ca8a-b495-4c71-8b03-32680201fa5b",
   "metadata": {},
   "outputs": [],
   "source": [
    "from sklearn.model_selection import train_test_split\n",
    "from sklearn.model_selection import cross_val_score\n",
    "from sklearn.metrics import make_scorer\n",
    "from sklearn.preprocessing import MultiLabelBinarizer\n",
    "from sklearn.metrics import confusion_matrix, ConfusionMatrixDisplay"
   ]
  },
  {
   "cell_type": "code",
   "execution_count": 148,
   "id": "a9173172-d54c-42e4-8212-d6f6266b02bb",
   "metadata": {},
   "outputs": [],
   "source": [
    "classification_df = reformat_data(regression=False)"
   ]
  },
  {
   "cell_type": "code",
   "execution_count": 149,
   "id": "9e94e064-2d0c-4256-83e4-4273fff08e4f",
   "metadata": {},
   "outputs": [
    {
     "data": {
      "text/html": [
       "<div>\n",
       "<style scoped>\n",
       "    .dataframe tbody tr th:only-of-type {\n",
       "        vertical-align: middle;\n",
       "    }\n",
       "\n",
       "    .dataframe tbody tr th {\n",
       "        vertical-align: top;\n",
       "    }\n",
       "\n",
       "    .dataframe thead th {\n",
       "        text-align: right;\n",
       "    }\n",
       "</style>\n",
       "<table border=\"1\" class=\"dataframe\">\n",
       "  <thead>\n",
       "    <tr style=\"text-align: right;\">\n",
       "      <th></th>\n",
       "      <th>participant</th>\n",
       "      <th>age</th>\n",
       "      <th>langs_other_than_eng</th>\n",
       "      <th>gender</th>\n",
       "      <th>religiosity</th>\n",
       "      <th>major</th>\n",
       "      <th>college</th>\n",
       "      <th>word</th>\n",
       "      <th>rating</th>\n",
       "      <th>religion</th>\n",
       "      <th>...</th>\n",
       "      <th>body</th>\n",
       "      <th>excretion</th>\n",
       "      <th>slur</th>\n",
       "      <th>insult</th>\n",
       "      <th>formal</th>\n",
       "      <th>closed</th>\n",
       "      <th>syllables</th>\n",
       "      <th>vowels</th>\n",
       "      <th>letters</th>\n",
       "      <th>consonants</th>\n",
       "    </tr>\n",
       "  </thead>\n",
       "  <tbody>\n",
       "    <tr>\n",
       "      <th>0</th>\n",
       "      <td>1</td>\n",
       "      <td>20</td>\n",
       "      <td>1</td>\n",
       "      <td>Male</td>\n",
       "      <td>1.0</td>\n",
       "      <td>social_science</td>\n",
       "      <td>Warren</td>\n",
       "      <td>nigger</td>\n",
       "      <td>1</td>\n",
       "      <td>0</td>\n",
       "      <td>...</td>\n",
       "      <td>0</td>\n",
       "      <td>0</td>\n",
       "      <td>1</td>\n",
       "      <td>1</td>\n",
       "      <td>0</td>\n",
       "      <td>0</td>\n",
       "      <td>2</td>\n",
       "      <td>2</td>\n",
       "      <td>6</td>\n",
       "      <td>4</td>\n",
       "    </tr>\n",
       "    <tr>\n",
       "      <th>1</th>\n",
       "      <td>2</td>\n",
       "      <td>18</td>\n",
       "      <td>1</td>\n",
       "      <td>Male</td>\n",
       "      <td>1.0</td>\n",
       "      <td>arts_humanities</td>\n",
       "      <td>Sixth</td>\n",
       "      <td>nigger</td>\n",
       "      <td>1</td>\n",
       "      <td>0</td>\n",
       "      <td>...</td>\n",
       "      <td>0</td>\n",
       "      <td>0</td>\n",
       "      <td>1</td>\n",
       "      <td>1</td>\n",
       "      <td>0</td>\n",
       "      <td>0</td>\n",
       "      <td>2</td>\n",
       "      <td>2</td>\n",
       "      <td>6</td>\n",
       "      <td>4</td>\n",
       "    </tr>\n",
       "    <tr>\n",
       "      <th>2</th>\n",
       "      <td>3</td>\n",
       "      <td>21</td>\n",
       "      <td>1</td>\n",
       "      <td>Male</td>\n",
       "      <td>3.0</td>\n",
       "      <td>social_science</td>\n",
       "      <td>Roosevelt</td>\n",
       "      <td>nigger</td>\n",
       "      <td>3</td>\n",
       "      <td>0</td>\n",
       "      <td>...</td>\n",
       "      <td>0</td>\n",
       "      <td>0</td>\n",
       "      <td>1</td>\n",
       "      <td>1</td>\n",
       "      <td>0</td>\n",
       "      <td>0</td>\n",
       "      <td>2</td>\n",
       "      <td>2</td>\n",
       "      <td>6</td>\n",
       "      <td>4</td>\n",
       "    </tr>\n",
       "    <tr>\n",
       "      <th>3</th>\n",
       "      <td>4</td>\n",
       "      <td>20</td>\n",
       "      <td>0</td>\n",
       "      <td>Male</td>\n",
       "      <td>1.0</td>\n",
       "      <td>multi_interdisciplinary</td>\n",
       "      <td>Revelle</td>\n",
       "      <td>nigger</td>\n",
       "      <td>9</td>\n",
       "      <td>0</td>\n",
       "      <td>...</td>\n",
       "      <td>0</td>\n",
       "      <td>0</td>\n",
       "      <td>1</td>\n",
       "      <td>1</td>\n",
       "      <td>0</td>\n",
       "      <td>0</td>\n",
       "      <td>2</td>\n",
       "      <td>2</td>\n",
       "      <td>6</td>\n",
       "      <td>4</td>\n",
       "    </tr>\n",
       "    <tr>\n",
       "      <th>4</th>\n",
       "      <td>5</td>\n",
       "      <td>22</td>\n",
       "      <td>0</td>\n",
       "      <td>Male</td>\n",
       "      <td>1.0</td>\n",
       "      <td>multi_interdisciplinary</td>\n",
       "      <td>Warren</td>\n",
       "      <td>nigger</td>\n",
       "      <td>9</td>\n",
       "      <td>0</td>\n",
       "      <td>...</td>\n",
       "      <td>0</td>\n",
       "      <td>0</td>\n",
       "      <td>1</td>\n",
       "      <td>1</td>\n",
       "      <td>0</td>\n",
       "      <td>0</td>\n",
       "      <td>2</td>\n",
       "      <td>2</td>\n",
       "      <td>6</td>\n",
       "      <td>4</td>\n",
       "    </tr>\n",
       "  </tbody>\n",
       "</table>\n",
       "<p>5 rows × 21 columns</p>\n",
       "</div>"
      ],
      "text/plain": [
       "   participant  age  langs_other_than_eng gender  religiosity  \\\n",
       "0            1   20                     1   Male          1.0   \n",
       "1            2   18                     1   Male          1.0   \n",
       "2            3   21                     1   Male          3.0   \n",
       "3            4   20                     0   Male          1.0   \n",
       "4            5   22                     0   Male          1.0   \n",
       "\n",
       "                     major    college    word  rating  religion  ...  body  \\\n",
       "0           social_science     Warren  nigger       1         0  ...     0   \n",
       "1          arts_humanities      Sixth  nigger       1         0  ...     0   \n",
       "2           social_science  Roosevelt  nigger       3         0  ...     0   \n",
       "3  multi_interdisciplinary    Revelle  nigger       9         0  ...     0   \n",
       "4  multi_interdisciplinary     Warren  nigger       9         0  ...     0   \n",
       "\n",
       "   excretion  slur  insult  formal  closed  syllables  vowels  letters  \\\n",
       "0          0     1       1       0       0          2       2        6   \n",
       "1          0     1       1       0       0          2       2        6   \n",
       "2          0     1       1       0       0          2       2        6   \n",
       "3          0     1       1       0       0          2       2        6   \n",
       "4          0     1       1       0       0          2       2        6   \n",
       "\n",
       "   consonants  \n",
       "0           4  \n",
       "1           4  \n",
       "2           4  \n",
       "3           4  \n",
       "4           4  \n",
       "\n",
       "[5 rows x 21 columns]"
      ]
     },
     "execution_count": 149,
     "metadata": {},
     "output_type": "execute_result"
    }
   ],
   "source": [
    "classification_df.head()"
   ]
  },
  {
   "cell_type": "code",
   "execution_count": 150,
   "id": "914b8630-9308-439a-a6ee-004b5503918b",
   "metadata": {},
   "outputs": [],
   "source": [
    "label_columns = [\n",
    "    'no response',\n",
    "    '1',\n",
    "    '2',\n",
    "    '3',\n",
    "    '4',\n",
    "    '5',\n",
    "    '6',\n",
    "    '7',\n",
    "    '8',\n",
    "    '9',\n",
    "]"
   ]
  },
  {
   "cell_type": "code",
   "execution_count": 151,
   "id": "5efee1d4-0651-48e6-9fa5-47727350049e",
   "metadata": {},
   "outputs": [],
   "source": [
    "X = classification_df.drop(['rating'], axis=1)\n",
    "# y = pd.DataFrame(classification_df['rating'].to_list(), columns=label_columns)\n",
    "# y = MultiLabelBinarizer().fit_transform(classification_df['rating'])\n",
    "y = classification_df['rating']"
   ]
  },
  {
   "cell_type": "code",
   "execution_count": 152,
   "id": "f76358df-1465-4c20-8117-fc6753eed3b6",
   "metadata": {},
   "outputs": [],
   "source": [
    "X_train, X_test, y_train, y_test = train_test_split(X, y, test_size=0.2, random_state=39)"
   ]
  },
  {
   "cell_type": "code",
   "execution_count": 153,
   "id": "4bee7caa-53c6-44f8-b2a4-993426c2e882",
   "metadata": {},
   "outputs": [],
   "source": [
    "X_train.to_csv('example_data.csv')"
   ]
  },
  {
   "cell_type": "code",
   "execution_count": 154,
   "id": "7f16d1dc-9cf7-4f3a-8e26-fc215ff49e4d",
   "metadata": {},
   "outputs": [
    {
     "data": {
      "text/plain": [
       "(6992, 20)"
      ]
     },
     "execution_count": 154,
     "metadata": {},
     "output_type": "execute_result"
    }
   ],
   "source": [
    "X_train.shape"
   ]
  },
  {
   "cell_type": "code",
   "execution_count": 155,
   "id": "86a1430b-6786-4391-9d73-263fa9e36352",
   "metadata": {},
   "outputs": [
    {
     "data": {
      "text/plain": [
       "(6992,)"
      ]
     },
     "execution_count": 155,
     "metadata": {},
     "output_type": "execute_result"
    }
   ],
   "source": [
    "y_train.shape"
   ]
  },
  {
   "cell_type": "code",
   "execution_count": 156,
   "id": "25e86bb7-401c-4ace-94e6-1b9ca9c12a7e",
   "metadata": {},
   "outputs": [
    {
     "data": {
      "text/plain": [
       "8055    1\n",
       "7674    2\n",
       "2929    1\n",
       "1631    1\n",
       "3279    3\n",
       "       ..\n",
       "3195    1\n",
       "7060    2\n",
       "1088    8\n",
       "7209    3\n",
       "8297    1\n",
       "Name: rating, Length: 6992, dtype: int64"
      ]
     },
     "execution_count": 156,
     "metadata": {},
     "output_type": "execute_result"
    }
   ],
   "source": [
    "y_train"
   ]
  },
  {
   "cell_type": "code",
   "execution_count": 157,
   "id": "85f2076f-1f0f-4000-90f2-0242ba7fec53",
   "metadata": {},
   "outputs": [],
   "source": [
    "X_train_processed = full_pipeline.fit_transform(X_train)"
   ]
  },
  {
   "cell_type": "code",
   "execution_count": 158,
   "id": "94f087ea-4194-4d38-a39c-67e573eab281",
   "metadata": {},
   "outputs": [],
   "source": [
    "X_test_processed = full_pipeline.transform(X_test)"
   ]
  },
  {
   "cell_type": "code",
   "execution_count": 159,
   "id": "deb28473-aec7-4f1b-bcac-5b1533adedb7",
   "metadata": {},
   "outputs": [],
   "source": [
    "def cross_validation_report(model):\n",
    "    scores = cross_val_score(\n",
    "        model, \n",
    "        X_train_processed, y_train,\n",
    "        scoring=make_scorer(f1_score, average='weighted'), \n",
    "        # scoring='accuracy',\n",
    "        # scoring='neg_mean_squared_error',\n",
    "        cv=10\n",
    "    )\n",
    "    print('Avg:', scores.mean())\n",
    "    print('Std:', scores.std())\n",
    "    print('Scores:', scores)"
   ]
  },
  {
   "cell_type": "code",
   "execution_count": 160,
   "id": "853fce14-e533-4b59-a067-0f1e0b438e0b",
   "metadata": {},
   "outputs": [],
   "source": [
    "def training_confusion_matrix(model):\n",
    "    model.fit(X_train_processed, y_train)\n",
    "    conf_matrix = confusion_matrix(y_train, model.predict(X_train_processed))\n",
    "    return ConfusionMatrixDisplay(confusion_matrix=conf_matrix).plot()"
   ]
  },
  {
   "cell_type": "markdown",
   "id": "73ec1d99-bb2f-4950-afdf-d1e5572e3a3e",
   "metadata": {
    "tags": []
   },
   "source": [
    "### Logistic Regression"
   ]
  },
  {
   "cell_type": "code",
   "execution_count": 56,
   "id": "8fc7916e-1601-42b4-8c17-ef6f7ec7cdb1",
   "metadata": {},
   "outputs": [],
   "source": [
    "from sklearn.linear_model import LogisticRegression\n",
    "from sklearn.metrics import f1_score"
   ]
  },
  {
   "cell_type": "code",
   "execution_count": 57,
   "id": "84694265-096c-4495-81c3-585f1c3bd91d",
   "metadata": {},
   "outputs": [],
   "source": [
    "log_reg = LogisticRegression(multi_class='ovr')"
   ]
  },
  {
   "cell_type": "code",
   "execution_count": 58,
   "id": "f0ca08da-6c34-4604-8d0a-058ec2103a3b",
   "metadata": {},
   "outputs": [
    {
     "name": "stdout",
     "output_type": "stream",
     "text": [
      "Avg: 0.3821523726807026\n",
      "Std: 0.01340110034742363\n",
      "Scores: [0.37272215 0.37835573 0.39491077 0.3879091  0.37099586 0.41051564\n",
      " 0.36951397 0.3944018  0.37370469 0.36849401]\n"
     ]
    }
   ],
   "source": [
    "cross_validation_report(log_reg)"
   ]
  },
  {
   "cell_type": "code",
   "execution_count": 59,
   "id": "1e06f5e0-55af-437b-ad30-72ddbf0ce560",
   "metadata": {},
   "outputs": [
    {
     "data": {
      "text/html": [
       "<style>#sk-container-id-1 {color: black;background-color: white;}#sk-container-id-1 pre{padding: 0;}#sk-container-id-1 div.sk-toggleable {background-color: white;}#sk-container-id-1 label.sk-toggleable__label {cursor: pointer;display: block;width: 100%;margin-bottom: 0;padding: 0.3em;box-sizing: border-box;text-align: center;}#sk-container-id-1 label.sk-toggleable__label-arrow:before {content: \"▸\";float: left;margin-right: 0.25em;color: #696969;}#sk-container-id-1 label.sk-toggleable__label-arrow:hover:before {color: black;}#sk-container-id-1 div.sk-estimator:hover label.sk-toggleable__label-arrow:before {color: black;}#sk-container-id-1 div.sk-toggleable__content {max-height: 0;max-width: 0;overflow: hidden;text-align: left;background-color: #f0f8ff;}#sk-container-id-1 div.sk-toggleable__content pre {margin: 0.2em;color: black;border-radius: 0.25em;background-color: #f0f8ff;}#sk-container-id-1 input.sk-toggleable__control:checked~div.sk-toggleable__content {max-height: 200px;max-width: 100%;overflow: auto;}#sk-container-id-1 input.sk-toggleable__control:checked~label.sk-toggleable__label-arrow:before {content: \"▾\";}#sk-container-id-1 div.sk-estimator input.sk-toggleable__control:checked~label.sk-toggleable__label {background-color: #d4ebff;}#sk-container-id-1 div.sk-label input.sk-toggleable__control:checked~label.sk-toggleable__label {background-color: #d4ebff;}#sk-container-id-1 input.sk-hidden--visually {border: 0;clip: rect(1px 1px 1px 1px);clip: rect(1px, 1px, 1px, 1px);height: 1px;margin: -1px;overflow: hidden;padding: 0;position: absolute;width: 1px;}#sk-container-id-1 div.sk-estimator {font-family: monospace;background-color: #f0f8ff;border: 1px dotted black;border-radius: 0.25em;box-sizing: border-box;margin-bottom: 0.5em;}#sk-container-id-1 div.sk-estimator:hover {background-color: #d4ebff;}#sk-container-id-1 div.sk-parallel-item::after {content: \"\";width: 100%;border-bottom: 1px solid gray;flex-grow: 1;}#sk-container-id-1 div.sk-label:hover label.sk-toggleable__label {background-color: #d4ebff;}#sk-container-id-1 div.sk-serial::before {content: \"\";position: absolute;border-left: 1px solid gray;box-sizing: border-box;top: 0;bottom: 0;left: 50%;z-index: 0;}#sk-container-id-1 div.sk-serial {display: flex;flex-direction: column;align-items: center;background-color: white;padding-right: 0.2em;padding-left: 0.2em;position: relative;}#sk-container-id-1 div.sk-item {position: relative;z-index: 1;}#sk-container-id-1 div.sk-parallel {display: flex;align-items: stretch;justify-content: center;background-color: white;position: relative;}#sk-container-id-1 div.sk-item::before, #sk-container-id-1 div.sk-parallel-item::before {content: \"\";position: absolute;border-left: 1px solid gray;box-sizing: border-box;top: 0;bottom: 0;left: 50%;z-index: -1;}#sk-container-id-1 div.sk-parallel-item {display: flex;flex-direction: column;z-index: 1;position: relative;background-color: white;}#sk-container-id-1 div.sk-parallel-item:first-child::after {align-self: flex-end;width: 50%;}#sk-container-id-1 div.sk-parallel-item:last-child::after {align-self: flex-start;width: 50%;}#sk-container-id-1 div.sk-parallel-item:only-child::after {width: 0;}#sk-container-id-1 div.sk-dashed-wrapped {border: 1px dashed gray;margin: 0 0.4em 0.5em 0.4em;box-sizing: border-box;padding-bottom: 0.4em;background-color: white;}#sk-container-id-1 div.sk-label label {font-family: monospace;font-weight: bold;display: inline-block;line-height: 1.2em;}#sk-container-id-1 div.sk-label-container {text-align: center;}#sk-container-id-1 div.sk-container {/* jupyter's `normalize.less` sets `[hidden] { display: none; }` but bootstrap.min.css set `[hidden] { display: none !important; }` so we also need the `!important` here to be able to override the default hidden behavior on the sphinx rendered scikit-learn.org. See: https://github.com/scikit-learn/scikit-learn/issues/21755 */display: inline-block !important;position: relative;}#sk-container-id-1 div.sk-text-repr-fallback {display: none;}</style><div id=\"sk-container-id-1\" class=\"sk-top-container\"><div class=\"sk-text-repr-fallback\"><pre>LogisticRegression(multi_class=&#x27;ovr&#x27;)</pre><b>In a Jupyter environment, please rerun this cell to show the HTML representation or trust the notebook. <br />On GitHub, the HTML representation is unable to render, please try loading this page with nbviewer.org.</b></div><div class=\"sk-container\" hidden><div class=\"sk-item\"><div class=\"sk-estimator sk-toggleable\"><input class=\"sk-toggleable__control sk-hidden--visually\" id=\"sk-estimator-id-1\" type=\"checkbox\" checked><label for=\"sk-estimator-id-1\" class=\"sk-toggleable__label sk-toggleable__label-arrow\">LogisticRegression</label><div class=\"sk-toggleable__content\"><pre>LogisticRegression(multi_class=&#x27;ovr&#x27;)</pre></div></div></div></div></div>"
      ],
      "text/plain": [
       "LogisticRegression(multi_class='ovr')"
      ]
     },
     "execution_count": 59,
     "metadata": {},
     "output_type": "execute_result"
    }
   ],
   "source": [
    "log_reg.fit(X_train_processed, y_train)"
   ]
  },
  {
   "cell_type": "code",
   "execution_count": 60,
   "id": "f91b1df3-3902-43d3-add0-7ff19bdf7972",
   "metadata": {},
   "outputs": [],
   "source": [
    "conf_matrix = confusion_matrix(y_train, log_reg.predict(X_train_processed))"
   ]
  },
  {
   "cell_type": "code",
   "execution_count": 61,
   "id": "54ab1545-d272-4d37-aa29-55bcb80c81b7",
   "metadata": {},
   "outputs": [
    {
     "data": {
      "text/plain": [
       "<sklearn.metrics._plot.confusion_matrix.ConfusionMatrixDisplay at 0x12daa2af0>"
      ]
     },
     "execution_count": 61,
     "metadata": {},
     "output_type": "execute_result"
    },
    {
     "data": {
      "image/png": "[encoded data removed]",
      "text/plain": [
       "<Figure size 640x480 with 2 Axes>"
      ]
     },
     "metadata": {},
     "output_type": "display_data"
    }
   ],
   "source": [
    "ConfusionMatrixDisplay(confusion_matrix=conf_matrix).plot()"
   ]
  },
  {
   "cell_type": "markdown",
   "id": "7f689648-2020-4133-983f-eaa414675813",
   "metadata": {
    "tags": []
   },
   "source": [
    "### Random Forest Classifier"
   ]
  },
  {
   "cell_type": "code",
   "execution_count": 62,
   "id": "e1e03b88-f805-486f-89a6-1f9129773732",
   "metadata": {},
   "outputs": [],
   "source": [
    "from sklearn.ensemble import RandomForestClassifier"
   ]
  },
  {
   "cell_type": "code",
   "execution_count": 63,
   "id": "121af1c0-5144-4faf-8744-f781fe4a5e5a",
   "metadata": {},
   "outputs": [],
   "source": [
    "forest_clf = RandomForestClassifier()"
   ]
  },
  {
   "cell_type": "code",
   "execution_count": 64,
   "id": "0c063051-5025-410b-830c-17d72df0c0a4",
   "metadata": {},
   "outputs": [
    {
     "name": "stdout",
     "output_type": "stream",
     "text": [
      "Avg: 0.4516267325665454\n",
      "Std: 0.011197636043009947\n",
      "Scores: [0.44547773 0.44609925 0.46510942 0.45642526 0.44330146 0.46991745\n",
      " 0.45084429 0.43232273 0.46331963 0.4434501 ]\n"
     ]
    }
   ],
   "source": [
    "cross_validation_report(forest_clf)"
   ]
  },
  {
   "cell_type": "code",
   "execution_count": 65,
   "id": "71daca4a-58bb-4c1f-aaaa-f7eb8d7c7db4",
   "metadata": {},
   "outputs": [
    {
     "data": {
      "text/html": [
       "<style>#sk-container-id-2 {color: black;background-color: white;}#sk-container-id-2 pre{padding: 0;}#sk-container-id-2 div.sk-toggleable {background-color: white;}#sk-container-id-2 label.sk-toggleable__label {cursor: pointer;display: block;width: 100%;margin-bottom: 0;padding: 0.3em;box-sizing: border-box;text-align: center;}#sk-container-id-2 label.sk-toggleable__label-arrow:before {content: \"▸\";float: left;margin-right: 0.25em;color: #696969;}#sk-container-id-2 label.sk-toggleable__label-arrow:hover:before {color: black;}#sk-container-id-2 div.sk-estimator:hover label.sk-toggleable__label-arrow:before {color: black;}#sk-container-id-2 div.sk-toggleable__content {max-height: 0;max-width: 0;overflow: hidden;text-align: left;background-color: #f0f8ff;}#sk-container-id-2 div.sk-toggleable__content pre {margin: 0.2em;color: black;border-radius: 0.25em;background-color: #f0f8ff;}#sk-container-id-2 input.sk-toggleable__control:checked~div.sk-toggleable__content {max-height: 200px;max-width: 100%;overflow: auto;}#sk-container-id-2 input.sk-toggleable__control:checked~label.sk-toggleable__label-arrow:before {content: \"▾\";}#sk-container-id-2 div.sk-estimator input.sk-toggleable__control:checked~label.sk-toggleable__label {background-color: #d4ebff;}#sk-container-id-2 div.sk-label input.sk-toggleable__control:checked~label.sk-toggleable__label {background-color: #d4ebff;}#sk-container-id-2 input.sk-hidden--visually {border: 0;clip: rect(1px 1px 1px 1px);clip: rect(1px, 1px, 1px, 1px);height: 1px;margin: -1px;overflow: hidden;padding: 0;position: absolute;width: 1px;}#sk-container-id-2 div.sk-estimator {font-family: monospace;background-color: #f0f8ff;border: 1px dotted black;border-radius: 0.25em;box-sizing: border-box;margin-bottom: 0.5em;}#sk-container-id-2 div.sk-estimator:hover {background-color: #d4ebff;}#sk-container-id-2 div.sk-parallel-item::after {content: \"\";width: 100%;border-bottom: 1px solid gray;flex-grow: 1;}#sk-container-id-2 div.sk-label:hover label.sk-toggleable__label {background-color: #d4ebff;}#sk-container-id-2 div.sk-serial::before {content: \"\";position: absolute;border-left: 1px solid gray;box-sizing: border-box;top: 0;bottom: 0;left: 50%;z-index: 0;}#sk-container-id-2 div.sk-serial {display: flex;flex-direction: column;align-items: center;background-color: white;padding-right: 0.2em;padding-left: 0.2em;position: relative;}#sk-container-id-2 div.sk-item {position: relative;z-index: 1;}#sk-container-id-2 div.sk-parallel {display: flex;align-items: stretch;justify-content: center;background-color: white;position: relative;}#sk-container-id-2 div.sk-item::before, #sk-container-id-2 div.sk-parallel-item::before {content: \"\";position: absolute;border-left: 1px solid gray;box-sizing: border-box;top: 0;bottom: 0;left: 50%;z-index: -1;}#sk-container-id-2 div.sk-parallel-item {display: flex;flex-direction: column;z-index: 1;position: relative;background-color: white;}#sk-container-id-2 div.sk-parallel-item:first-child::after {align-self: flex-end;width: 50%;}#sk-container-id-2 div.sk-parallel-item:last-child::after {align-self: flex-start;width: 50%;}#sk-container-id-2 div.sk-parallel-item:only-child::after {width: 0;}#sk-container-id-2 div.sk-dashed-wrapped {border: 1px dashed gray;margin: 0 0.4em 0.5em 0.4em;box-sizing: border-box;padding-bottom: 0.4em;background-color: white;}#sk-container-id-2 div.sk-label label {font-family: monospace;font-weight: bold;display: inline-block;line-height: 1.2em;}#sk-container-id-2 div.sk-label-container {text-align: center;}#sk-container-id-2 div.sk-container {/* jupyter's `normalize.less` sets `[hidden] { display: none; }` but bootstrap.min.css set `[hidden] { display: none !important; }` so we also need the `!important` here to be able to override the default hidden behavior on the sphinx rendered scikit-learn.org. See: https://github.com/scikit-learn/scikit-learn/issues/21755 */display: inline-block !important;position: relative;}#sk-container-id-2 div.sk-text-repr-fallback {display: none;}</style><div id=\"sk-container-id-2\" class=\"sk-top-container\"><div class=\"sk-text-repr-fallback\"><pre>RandomForestClassifier()</pre><b>In a Jupyter environment, please rerun this cell to show the HTML representation or trust the notebook. <br />On GitHub, the HTML representation is unable to render, please try loading this page with nbviewer.org.</b></div><div class=\"sk-container\" hidden><div class=\"sk-item\"><div class=\"sk-estimator sk-toggleable\"><input class=\"sk-toggleable__control sk-hidden--visually\" id=\"sk-estimator-id-2\" type=\"checkbox\" checked><label for=\"sk-estimator-id-2\" class=\"sk-toggleable__label sk-toggleable__label-arrow\">RandomForestClassifier</label><div class=\"sk-toggleable__content\"><pre>RandomForestClassifier()</pre></div></div></div></div></div>"
      ],
      "text/plain": [
       "RandomForestClassifier()"
      ]
     },
     "execution_count": 65,
     "metadata": {},
     "output_type": "execute_result"
    }
   ],
   "source": [
    "forest_clf.fit(X_train_processed, y_train)"
   ]
  },
  {
   "cell_type": "code",
   "execution_count": 66,
   "id": "7f7e3ffd-709a-4fc4-848e-5cb70ba24489",
   "metadata": {},
   "outputs": [],
   "source": [
    "conf_m = confusion_matrix(y_test, forest_clf.predict(X_test_processed))"
   ]
  },
  {
   "cell_type": "code",
   "execution_count": 67,
   "id": "84bc081b-72aa-4e32-aa04-3f475b865aee",
   "metadata": {},
   "outputs": [
    {
     "data": {
      "text/plain": [
       "<sklearn.metrics._plot.confusion_matrix.ConfusionMatrixDisplay at 0x12e1078b0>"
      ]
     },
     "execution_count": 67,
     "metadata": {},
     "output_type": "execute_result"
    },
    {
     "data": {
      "image/png": "[encoded data removed]",
      "text/plain": [
       "<Figure size 640x480 with 2 Axes>"
      ]
     },
     "metadata": {},
     "output_type": "display_data"
    }
   ],
   "source": [
    "ConfusionMatrixDisplay(confusion_matrix=conf_m).plot()"
   ]
  },
  {
   "cell_type": "code",
   "execution_count": 68,
   "id": "aef8ac42-c70e-4393-b054-d2f3ad823d69",
   "metadata": {},
   "outputs": [],
   "source": [
    "from sklearn.metrics import accuracy_score"
   ]
  },
  {
   "cell_type": "code",
   "execution_count": 69,
   "id": "5761e4f9-fe2c-4266-b28b-d04066068ec3",
   "metadata": {},
   "outputs": [
    {
     "data": {
      "text/plain": [
       "0.4782608695652174"
      ]
     },
     "execution_count": 69,
     "metadata": {},
     "output_type": "execute_result"
    }
   ],
   "source": [
    "accuracy_score(y_test, forest_clf.predict(X_test_processed))"
   ]
  },
  {
   "cell_type": "code",
   "execution_count": 70,
   "id": "0ee31d8b-25fc-4c68-9801-2a39ba9bb8d2",
   "metadata": {},
   "outputs": [
    {
     "data": {
      "text/plain": [
       "0.4540769449703033"
      ]
     },
     "execution_count": 70,
     "metadata": {},
     "output_type": "execute_result"
    }
   ],
   "source": [
    "f1_score(y_test, forest_clf.predict(X_test_processed), average='weighted')"
   ]
  },
  {
   "cell_type": "markdown",
   "id": "0de99a96-989b-4d94-953c-57952a33bfa6",
   "metadata": {
    "tags": []
   },
   "source": [
    "### K Nearest Neighbors"
   ]
  },
  {
   "cell_type": "code",
   "execution_count": 161,
   "id": "c232782b-7b76-4f34-8523-ea4e27ae8648",
   "metadata": {},
   "outputs": [],
   "source": [
    "from sklearn.neighbors import KNeighborsClassifier"
   ]
  },
  {
   "cell_type": "code",
   "execution_count": 162,
   "id": "68821040-017b-4874-8e85-553a2f31c1b9",
   "metadata": {},
   "outputs": [],
   "source": [
    "knn_clf = KNeighborsClassifier()"
   ]
  },
  {
   "cell_type": "code",
   "execution_count": 73,
   "id": "16cedfc2-1dbd-473f-86fe-f7f5d8cc6753",
   "metadata": {},
   "outputs": [
    {
     "name": "stdout",
     "output_type": "stream",
     "text": [
      "Avg: 0.4249481705306616\n",
      "Std: 0.010264522076119248\n",
      "Scores: [0.42631913 0.42457347 0.43724673 0.43058285 0.42666157 0.4406977\n",
      " 0.41762093 0.40171823 0.42393491 0.42012619]\n"
     ]
    }
   ],
   "source": [
    "cross_validation_report(knn_clf)"
   ]
  },
  {
   "cell_type": "code",
   "execution_count": 74,
   "id": "4389c6b8-bdeb-4c53-9232-307c9d29135d",
   "metadata": {},
   "outputs": [
    {
     "data": {
      "text/plain": [
       "<sklearn.metrics._plot.confusion_matrix.ConfusionMatrixDisplay at 0x12e2b58b0>"
      ]
     },
     "execution_count": 74,
     "metadata": {},
     "output_type": "execute_result"
    },
    {
     "data": {
      "image/png": "[encoded data removed]",
      "text/plain": [
       "<Figure size 640x480 with 2 Axes>"
      ]
     },
     "metadata": {},
     "output_type": "display_data"
    }
   ],
   "source": [
    "training_confusion_matrix(knn_clf)"
   ]
  },
  {
   "cell_type": "code",
   "execution_count": 163,
   "id": "b3a2d35c-bdd2-40be-8d0f-f45b0f62d086",
   "metadata": {},
   "outputs": [
    {
     "data": {
      "text/html": [
       "<style>#sk-container-id-6 {color: black;background-color: white;}#sk-container-id-6 pre{padding: 0;}#sk-container-id-6 div.sk-toggleable {background-color: white;}#sk-container-id-6 label.sk-toggleable__label {cursor: pointer;display: block;width: 100%;margin-bottom: 0;padding: 0.3em;box-sizing: border-box;text-align: center;}#sk-container-id-6 label.sk-toggleable__label-arrow:before {content: \"▸\";float: left;margin-right: 0.25em;color: #696969;}#sk-container-id-6 label.sk-toggleable__label-arrow:hover:before {color: black;}#sk-container-id-6 div.sk-estimator:hover label.sk-toggleable__label-arrow:before {color: black;}#sk-container-id-6 div.sk-toggleable__content {max-height: 0;max-width: 0;overflow: hidden;text-align: left;background-color: #f0f8ff;}#sk-container-id-6 div.sk-toggleable__content pre {margin: 0.2em;color: black;border-radius: 0.25em;background-color: #f0f8ff;}#sk-container-id-6 input.sk-toggleable__control:checked~div.sk-toggleable__content {max-height: 200px;max-width: 100%;overflow: auto;}#sk-container-id-6 input.sk-toggleable__control:checked~label.sk-toggleable__label-arrow:before {content: \"▾\";}#sk-container-id-6 div.sk-estimator input.sk-toggleable__control:checked~label.sk-toggleable__label {background-color: #d4ebff;}#sk-container-id-6 div.sk-label input.sk-toggleable__control:checked~label.sk-toggleable__label {background-color: #d4ebff;}#sk-container-id-6 input.sk-hidden--visually {border: 0;clip: rect(1px 1px 1px 1px);clip: rect(1px, 1px, 1px, 1px);height: 1px;margin: -1px;overflow: hidden;padding: 0;position: absolute;width: 1px;}#sk-container-id-6 div.sk-estimator {font-family: monospace;background-color: #f0f8ff;border: 1px dotted black;border-radius: 0.25em;box-sizing: border-box;margin-bottom: 0.5em;}#sk-container-id-6 div.sk-estimator:hover {background-color: #d4ebff;}#sk-container-id-6 div.sk-parallel-item::after {content: \"\";width: 100%;border-bottom: 1px solid gray;flex-grow: 1;}#sk-container-id-6 div.sk-label:hover label.sk-toggleable__label {background-color: #d4ebff;}#sk-container-id-6 div.sk-serial::before {content: \"\";position: absolute;border-left: 1px solid gray;box-sizing: border-box;top: 0;bottom: 0;left: 50%;z-index: 0;}#sk-container-id-6 div.sk-serial {display: flex;flex-direction: column;align-items: center;background-color: white;padding-right: 0.2em;padding-left: 0.2em;position: relative;}#sk-container-id-6 div.sk-item {position: relative;z-index: 1;}#sk-container-id-6 div.sk-parallel {display: flex;align-items: stretch;justify-content: center;background-color: white;position: relative;}#sk-container-id-6 div.sk-item::before, #sk-container-id-6 div.sk-parallel-item::before {content: \"\";position: absolute;border-left: 1px solid gray;box-sizing: border-box;top: 0;bottom: 0;left: 50%;z-index: -1;}#sk-container-id-6 div.sk-parallel-item {display: flex;flex-direction: column;z-index: 1;position: relative;background-color: white;}#sk-container-id-6 div.sk-parallel-item:first-child::after {align-self: flex-end;width: 50%;}#sk-container-id-6 div.sk-parallel-item:last-child::after {align-self: flex-start;width: 50%;}#sk-container-id-6 div.sk-parallel-item:only-child::after {width: 0;}#sk-container-id-6 div.sk-dashed-wrapped {border: 1px dashed gray;margin: 0 0.4em 0.5em 0.4em;box-sizing: border-box;padding-bottom: 0.4em;background-color: white;}#sk-container-id-6 div.sk-label label {font-family: monospace;font-weight: bold;display: inline-block;line-height: 1.2em;}#sk-container-id-6 div.sk-label-container {text-align: center;}#sk-container-id-6 div.sk-container {/* jupyter's `normalize.less` sets `[hidden] { display: none; }` but bootstrap.min.css set `[hidden] { display: none !important; }` so we also need the `!important` here to be able to override the default hidden behavior on the sphinx rendered scikit-learn.org. See: https://github.com/scikit-learn/scikit-learn/issues/21755 */display: inline-block !important;position: relative;}#sk-container-id-6 div.sk-text-repr-fallback {display: none;}</style><div id=\"sk-container-id-6\" class=\"sk-top-container\"><div class=\"sk-text-repr-fallback\"><pre>KNeighborsClassifier()</pre><b>In a Jupyter environment, please rerun this cell to show the HTML representation or trust the notebook. <br />On GitHub, the HTML representation is unable to render, please try loading this page with nbviewer.org.</b></div><div class=\"sk-container\" hidden><div class=\"sk-item\"><div class=\"sk-estimator sk-toggleable\"><input class=\"sk-toggleable__control sk-hidden--visually\" id=\"sk-estimator-id-6\" type=\"checkbox\" checked><label for=\"sk-estimator-id-6\" class=\"sk-toggleable__label sk-toggleable__label-arrow\">KNeighborsClassifier</label><div class=\"sk-toggleable__content\"><pre>KNeighborsClassifier()</pre></div></div></div></div></div>"
      ],
      "text/plain": [
       "KNeighborsClassifier()"
      ]
     },
     "execution_count": 163,
     "metadata": {},
     "output_type": "execute_result"
    }
   ],
   "source": [
    "knn_clf.fit(X_train_processed, y_train)"
   ]
  },
  {
   "cell_type": "code",
   "execution_count": 164,
   "id": "06616e74-46ab-448e-8c00-98b178b59341",
   "metadata": {},
   "outputs": [],
   "source": [
    "conf_m = confusion_matrix(y_test, knn_clf.predict(X_test_processed))"
   ]
  },
  {
   "cell_type": "code",
   "execution_count": 165,
   "id": "a4670090-9df4-4008-9d41-2a2d6b22004c",
   "metadata": {},
   "outputs": [
    {
     "data": {
      "text/plain": [
       "<sklearn.metrics._plot.confusion_matrix.ConfusionMatrixDisplay at 0x1367eb910>"
      ]
     },
     "execution_count": 165,
     "metadata": {},
     "output_type": "execute_result"
    },
    {
     "data": {
      "image/png": "[encoded data removed]",
      "text/plain": [
       "<Figure size 640x480 with 2 Axes>"
      ]
     },
     "metadata": {},
     "output_type": "display_data"
    }
   ],
   "source": [
    "ConfusionMatrixDisplay(confusion_matrix=conf_m).plot()"
   ]
  },
  {
   "cell_type": "code",
   "execution_count": 76,
   "id": "e9aa97c3-e73b-41e3-aeb0-d42d55072f4c",
   "metadata": {},
   "outputs": [
    {
     "data": {
      "text/plain": [
       "0.4971395881006865"
      ]
     },
     "execution_count": 76,
     "metadata": {},
     "output_type": "execute_result"
    }
   ],
   "source": [
    "accuracy_score(y_test, knn_clf.predict(X_test_processed))"
   ]
  },
  {
   "cell_type": "code",
   "execution_count": 77,
   "id": "f9c6548c-c0e6-4b71-862c-05fdced71360",
   "metadata": {},
   "outputs": [
    {
     "data": {
      "text/plain": [
       "0.4358882525479593"
      ]
     },
     "execution_count": 77,
     "metadata": {},
     "output_type": "execute_result"
    }
   ],
   "source": [
    "f1_score(y_test, knn_clf.predict(X_test_processed), average='weighted')"
   ]
  },
  {
   "cell_type": "markdown",
   "id": "21cb2413-36c8-4736-8eda-000b8e36d2de",
   "metadata": {
    "tags": []
   },
   "source": [
    "### Naive Bayes"
   ]
  },
  {
   "cell_type": "code",
   "execution_count": 78,
   "id": "7bb63db0-5ca0-4699-b7da-8dd8b42b5779",
   "metadata": {},
   "outputs": [],
   "source": [
    "from sklearn.naive_bayes import GaussianNB"
   ]
  },
  {
   "cell_type": "code",
   "execution_count": 79,
   "id": "20467584-418b-4677-82e4-da7582c13618",
   "metadata": {},
   "outputs": [],
   "source": [
    "nb_clf = GaussianNB()"
   ]
  },
  {
   "cell_type": "code",
   "execution_count": 80,
   "id": "aa842b1f-bf4a-47f2-b82d-b2b07721a9f4",
   "metadata": {},
   "outputs": [
    {
     "name": "stdout",
     "output_type": "stream",
     "text": [
      "Avg: 0.3522215609757104\n",
      "Std: 0.01888237590452247\n",
      "Scores: [0.36884405 0.3594828  0.36809839 0.35750941 0.352612   0.36741644\n",
      " 0.3577138  0.34942225 0.30208929 0.33902718]\n"
     ]
    }
   ],
   "source": [
    "cross_validation_report(nb_clf)"
   ]
  },
  {
   "cell_type": "code",
   "execution_count": 81,
   "id": "58fc3667-3cae-43be-8aec-058908763230",
   "metadata": {},
   "outputs": [
    {
     "data": {
      "text/plain": [
       "<sklearn.metrics._plot.confusion_matrix.ConfusionMatrixDisplay at 0x1364bd3a0>"
      ]
     },
     "execution_count": 81,
     "metadata": {},
     "output_type": "execute_result"
    },
    {
     "data": {
      "image/png": "[encoded data removed]",
      "text/plain": [
       "<Figure size 640x480 with 2 Axes>"
      ]
     },
     "metadata": {},
     "output_type": "display_data"
    }
   ],
   "source": [
    "training_confusion_matrix(nb_clf)"
   ]
  },
  {
   "cell_type": "markdown",
   "id": "8acbaf69-438a-4e53-8317-a4d6d2ff3add",
   "metadata": {
    "tags": []
   },
   "source": [
    "### SVM"
   ]
  },
  {
   "cell_type": "code",
   "execution_count": 82,
   "id": "b88044e6-1df1-46c1-b1d5-eacd61b5656a",
   "metadata": {},
   "outputs": [],
   "source": [
    "from sklearn.svm import SVC"
   ]
  },
  {
   "cell_type": "code",
   "execution_count": 83,
   "id": "ab9094d0-70b2-440c-ab93-d316c1ef2fd7",
   "metadata": {},
   "outputs": [],
   "source": [
    "svm_clf = SVC()"
   ]
  },
  {
   "cell_type": "code",
   "execution_count": 84,
   "id": "e2b53b01-e2f9-4747-b880-b665159b9bd1",
   "metadata": {},
   "outputs": [
    {
     "name": "stdout",
     "output_type": "stream",
     "text": [
      "Avg: 0.40384853275165006\n",
      "Std: 0.010371626286693704\n",
      "Scores: [0.40214614 0.4055408  0.40739131 0.40207076 0.40367617 0.43113757\n",
      " 0.39298184 0.40140982 0.3903942  0.40173671]\n"
     ]
    }
   ],
   "source": [
    "cross_validation_report(svm_clf)"
   ]
  },
  {
   "cell_type": "code",
   "execution_count": 85,
   "id": "21ff34fa-8f94-4874-a961-ca893c717682",
   "metadata": {},
   "outputs": [],
   "source": [
    "# training_confusion_matrix(svm_clf)"
   ]
  },
  {
   "cell_type": "markdown",
   "id": "6ff4de94-923d-4899-84ad-fd708e37c07f",
   "metadata": {},
   "source": [
    "# Sci-Kit Models - Regression"
   ]
  },
  {
   "cell_type": "markdown",
   "id": "5f5065bf-deb7-4fe5-945c-92ea8795cdc9",
   "metadata": {
    "tags": []
   },
   "source": [
    "#### Create Training and Testing Sets"
   ]
  },
  {
   "cell_type": "code",
   "execution_count": 86,
   "id": "c1667caf-65b6-4c35-9ffd-34003deac23b",
   "metadata": {},
   "outputs": [],
   "source": [
    "sk_regression = reformat_data()"
   ]
  },
  {
   "cell_type": "code",
   "execution_count": 87,
   "id": "7e7f191d-dba6-4c98-98ca-806d4a4a9573",
   "metadata": {},
   "outputs": [],
   "source": [
    "X = sk_regression.drop(['rating'], axis=1)\n",
    "y = sk_regression['rating']"
   ]
  },
  {
   "cell_type": "code",
   "execution_count": 88,
   "id": "329934c6-c03d-41f0-8d40-69cb22bd2926",
   "metadata": {},
   "outputs": [],
   "source": [
    "X_train, X_test, y_train, y_test = train_test_split(X, y, test_size=0.2, random_state=39)"
   ]
  },
  {
   "cell_type": "code",
   "execution_count": 89,
   "id": "5b05c4fd-299b-4fef-ae52-723674313149",
   "metadata": {},
   "outputs": [
    {
     "data": {
      "text/plain": [
       "(6461, 20)"
      ]
     },
     "execution_count": 89,
     "metadata": {},
     "output_type": "execute_result"
    }
   ],
   "source": [
    "X_train.shape"
   ]
  },
  {
   "cell_type": "code",
   "execution_count": 90,
   "id": "364c3441-cd9b-4a22-93aa-fbf649909a35",
   "metadata": {},
   "outputs": [
    {
     "data": {
      "text/plain": [
       "(6461,)"
      ]
     },
     "execution_count": 90,
     "metadata": {},
     "output_type": "execute_result"
    }
   ],
   "source": [
    "y_train.shape"
   ]
  },
  {
   "cell_type": "code",
   "execution_count": 91,
   "id": "9971c206-0640-40a6-9517-f764c1425320",
   "metadata": {},
   "outputs": [],
   "source": [
    "X_train_processed = full_pipeline.fit_transform(X_train)"
   ]
  },
  {
   "cell_type": "code",
   "execution_count": 92,
   "id": "0bbe63ba-d96e-440b-ae46-a6236d12a93d",
   "metadata": {},
   "outputs": [],
   "source": [
    "X_test_processed = full_pipeline.transform(X_test)"
   ]
  },
  {
   "cell_type": "code",
   "execution_count": 93,
   "id": "2ee9c8f9-2765-4541-836f-2beb8f541c42",
   "metadata": {},
   "outputs": [],
   "source": [
    "def mse_cross_validation(model):\n",
    "    scores = cross_val_score(\n",
    "        model, \n",
    "        X_train_processed, y_train,\n",
    "        scoring='neg_mean_squared_error',\n",
    "        cv=10\n",
    "    )\n",
    "    scores = np.sqrt(-scores)\n",
    "    print('Avg:', scores.mean())\n",
    "    print('Std:', scores.std())\n",
    "    print('Scores:', scores)"
   ]
  },
  {
   "cell_type": "markdown",
   "id": "d98acf80-6e37-4bc5-8fe3-f7c8e29bf307",
   "metadata": {
    "tags": []
   },
   "source": [
    "### Linear Regression"
   ]
  },
  {
   "cell_type": "code",
   "execution_count": 94,
   "id": "ae5ab0b1-7433-471f-9c60-1a6acfba513e",
   "metadata": {},
   "outputs": [],
   "source": [
    "from sklearn.linear_model import LinearRegression"
   ]
  },
  {
   "cell_type": "code",
   "execution_count": 95,
   "id": "b27a6ce7-355c-4e2b-9385-83152a4ddc30",
   "metadata": {},
   "outputs": [],
   "source": [
    "lin_reg = LinearRegression()"
   ]
  },
  {
   "cell_type": "code",
   "execution_count": 96,
   "id": "637633ef-aa18-4d56-ae99-90e9af87d1fa",
   "metadata": {},
   "outputs": [
    {
     "name": "stdout",
     "output_type": "stream",
     "text": [
      "Avg: 1.7420640771517668\n",
      "Std: 0.05764527484894489\n",
      "Scores: [1.75629189 1.68134407 1.79595367 1.86765397 1.69633883 1.68121814\n",
      " 1.68530007 1.76678885 1.76747226 1.72227901]\n"
     ]
    }
   ],
   "source": [
    "mse_cross_validation(lin_reg)"
   ]
  },
  {
   "cell_type": "markdown",
   "id": "4bc185e9-e03a-491f-a78b-84f36e2ed93e",
   "metadata": {
    "tags": []
   },
   "source": [
    "### Random Forest"
   ]
  },
  {
   "cell_type": "code",
   "execution_count": 97,
   "id": "b238ecba-0cdf-467c-baa7-50e955889b7d",
   "metadata": {},
   "outputs": [],
   "source": [
    "from sklearn.ensemble import RandomForestRegressor"
   ]
  },
  {
   "cell_type": "code",
   "execution_count": 98,
   "id": "fc61e1c7-24fa-4873-82d5-5647f21b9953",
   "metadata": {},
   "outputs": [],
   "source": [
    "forest_reg = RandomForestRegressor()"
   ]
  },
  {
   "cell_type": "code",
   "execution_count": 99,
   "id": "0510109e-16ac-4086-ab19-14f2a26c85f1",
   "metadata": {},
   "outputs": [
    {
     "name": "stdout",
     "output_type": "stream",
     "text": [
      "Avg: 1.6197265799260094\n",
      "Std: 0.05553736487550725\n",
      "Scores: [1.68973281 1.60609317 1.62083152 1.70498801 1.5830967  1.54221326\n",
      " 1.58321364 1.62542259 1.69072391 1.55095019]\n"
     ]
    }
   ],
   "source": [
    "mse_cross_validation(forest_reg)"
   ]
  },
  {
   "cell_type": "markdown",
   "id": "53b716c9-fd67-4cdc-863c-12a0a96c5dde",
   "metadata": {
    "tags": []
   },
   "source": [
    "### K Nearest Neighbors"
   ]
  },
  {
   "cell_type": "code",
   "execution_count": 100,
   "id": "08773ca3-f395-4707-bca5-745ac9bb9c6f",
   "metadata": {},
   "outputs": [],
   "source": [
    "from sklearn.neighbors import KNeighborsRegressor"
   ]
  },
  {
   "cell_type": "code",
   "execution_count": 101,
   "id": "41f31ded-f9ca-4bef-a3a5-cda4dbbdad3b",
   "metadata": {},
   "outputs": [],
   "source": [
    "knn_reg = KNeighborsRegressor()"
   ]
  },
  {
   "cell_type": "code",
   "execution_count": 102,
   "id": "a2b9322e-5678-4f94-8188-07ff35de78d5",
   "metadata": {},
   "outputs": [
    {
     "name": "stdout",
     "output_type": "stream",
     "text": [
      "Avg: 1.724763632444564\n",
      "Std: 0.05674836247118555\n",
      "Scores: [1.80178514 1.69216003 1.74602601 1.82363228 1.71808807 1.6786955\n",
      " 1.68385155 1.76208784 1.71476921 1.62654071]\n"
     ]
    }
   ],
   "source": [
    "mse_cross_validation(knn_reg)"
   ]
  },
  {
   "cell_type": "markdown",
   "id": "feeb4b2d-6518-48f6-9358-0f048711746e",
   "metadata": {
    "tags": []
   },
   "source": [
    "### Support Vector Machine"
   ]
  },
  {
   "cell_type": "code",
   "execution_count": 103,
   "id": "927a45f3-3a2b-4a29-a762-cf931f32b052",
   "metadata": {},
   "outputs": [],
   "source": [
    "from sklearn.svm import SVR"
   ]
  },
  {
   "cell_type": "code",
   "execution_count": 104,
   "id": "79990098-7136-45a1-b1c8-f45bc515b3cb",
   "metadata": {},
   "outputs": [],
   "source": [
    "svm_reg = SVR()"
   ]
  },
  {
   "cell_type": "code",
   "execution_count": 105,
   "id": "fbd8fe55-55be-49c8-a1f5-3112eea997c6",
   "metadata": {},
   "outputs": [
    {
     "name": "stdout",
     "output_type": "stream",
     "text": [
      "Avg: 1.6628076285597966\n",
      "Std: 0.0901884851624646\n",
      "Scores: [1.6975777  1.55661779 1.70199997 1.8516572  1.58206323 1.61818542\n",
      " 1.56208191 1.72633844 1.73265002 1.59890461]\n"
     ]
    }
   ],
   "source": [
    "# takes a while\n",
    "mse_cross_validation(svm_reg)"
   ]
  },
  {
   "cell_type": "markdown",
   "id": "76ba0321-fb04-4bc7-bac2-11895c1393fb",
   "metadata": {
    "tags": []
   },
   "source": [
    "### Hypertuning - Random Forest"
   ]
  },
  {
   "cell_type": "code",
   "execution_count": 106,
   "id": "8b5d5fa5-ad2b-4edd-8fc6-c4a3d76f413a",
   "metadata": {},
   "outputs": [],
   "source": [
    "from sklearn.model_selection import GridSearchCV"
   ]
  },
  {
   "cell_type": "code",
   "execution_count": 107,
   "id": "a84a5110-c2c4-45c4-bae9-6f15720b598b",
   "metadata": {},
   "outputs": [],
   "source": [
    "param_grid = [{\n",
    "    'n_estimators': [170],\n",
    "}]"
   ]
  },
  {
   "cell_type": "code",
   "execution_count": 108,
   "id": "7d697243-2d99-4434-8879-b7515645cde7",
   "metadata": {},
   "outputs": [],
   "source": [
    "model = RandomForestRegressor(random_state=39)"
   ]
  },
  {
   "cell_type": "code",
   "execution_count": 109,
   "id": "48362c44-1399-4c60-9141-e6eb05c50ceb",
   "metadata": {},
   "outputs": [],
   "source": [
    "grid_search = GridSearchCV(model, param_grid, cv=5, scoring='neg_mean_squared_error', return_train_score=True, verbose=5)"
   ]
  },
  {
   "cell_type": "code",
   "execution_count": 110,
   "id": "e6c91346-a367-4161-9ae9-33d5bf97702e",
   "metadata": {},
   "outputs": [],
   "source": [
    "# grid_search.fit(X_train_processed, y_train)"
   ]
  },
  {
   "cell_type": "code",
   "execution_count": 111,
   "id": "5f08d232-6d7a-41e6-a844-ae9ad491ebf8",
   "metadata": {},
   "outputs": [],
   "source": [
    "# grid_search.best_params_\n",
    "# n_estimators: 170"
   ]
  },
  {
   "cell_type": "code",
   "execution_count": 112,
   "id": "8645877c-2176-47b2-893a-f2ecadf1a9e9",
   "metadata": {},
   "outputs": [],
   "source": [
    "final_model = RandomForestRegressor(n_estimators=170)"
   ]
  },
  {
   "cell_type": "code",
   "execution_count": 113,
   "id": "94afd659-4ab5-40ea-92f5-9983284f5fd8",
   "metadata": {},
   "outputs": [
    {
     "data": {
      "text/html": [
       "<style>#sk-container-id-4 {color: black;background-color: white;}#sk-container-id-4 pre{padding: 0;}#sk-container-id-4 div.sk-toggleable {background-color: white;}#sk-container-id-4 label.sk-toggleable__label {cursor: pointer;display: block;width: 100%;margin-bottom: 0;padding: 0.3em;box-sizing: border-box;text-align: center;}#sk-container-id-4 label.sk-toggleable__label-arrow:before {content: \"▸\";float: left;margin-right: 0.25em;color: #696969;}#sk-container-id-4 label.sk-toggleable__label-arrow:hover:before {color: black;}#sk-container-id-4 div.sk-estimator:hover label.sk-toggleable__label-arrow:before {color: black;}#sk-container-id-4 div.sk-toggleable__content {max-height: 0;max-width: 0;overflow: hidden;text-align: left;background-color: #f0f8ff;}#sk-container-id-4 div.sk-toggleable__content pre {margin: 0.2em;color: black;border-radius: 0.25em;background-color: #f0f8ff;}#sk-container-id-4 input.sk-toggleable__control:checked~div.sk-toggleable__content {max-height: 200px;max-width: 100%;overflow: auto;}#sk-container-id-4 input.sk-toggleable__control:checked~label.sk-toggleable__label-arrow:before {content: \"▾\";}#sk-container-id-4 div.sk-estimator input.sk-toggleable__control:checked~label.sk-toggleable__label {background-color: #d4ebff;}#sk-container-id-4 div.sk-label input.sk-toggleable__control:checked~label.sk-toggleable__label {background-color: #d4ebff;}#sk-container-id-4 input.sk-hidden--visually {border: 0;clip: rect(1px 1px 1px 1px);clip: rect(1px, 1px, 1px, 1px);height: 1px;margin: -1px;overflow: hidden;padding: 0;position: absolute;width: 1px;}#sk-container-id-4 div.sk-estimator {font-family: monospace;background-color: #f0f8ff;border: 1px dotted black;border-radius: 0.25em;box-sizing: border-box;margin-bottom: 0.5em;}#sk-container-id-4 div.sk-estimator:hover {background-color: #d4ebff;}#sk-container-id-4 div.sk-parallel-item::after {content: \"\";width: 100%;border-bottom: 1px solid gray;flex-grow: 1;}#sk-container-id-4 div.sk-label:hover label.sk-toggleable__label {background-color: #d4ebff;}#sk-container-id-4 div.sk-serial::before {content: \"\";position: absolute;border-left: 1px solid gray;box-sizing: border-box;top: 0;bottom: 0;left: 50%;z-index: 0;}#sk-container-id-4 div.sk-serial {display: flex;flex-direction: column;align-items: center;background-color: white;padding-right: 0.2em;padding-left: 0.2em;position: relative;}#sk-container-id-4 div.sk-item {position: relative;z-index: 1;}#sk-container-id-4 div.sk-parallel {display: flex;align-items: stretch;justify-content: center;background-color: white;position: relative;}#sk-container-id-4 div.sk-item::before, #sk-container-id-4 div.sk-parallel-item::before {content: \"\";position: absolute;border-left: 1px solid gray;box-sizing: border-box;top: 0;bottom: 0;left: 50%;z-index: -1;}#sk-container-id-4 div.sk-parallel-item {display: flex;flex-direction: column;z-index: 1;position: relative;background-color: white;}#sk-container-id-4 div.sk-parallel-item:first-child::after {align-self: flex-end;width: 50%;}#sk-container-id-4 div.sk-parallel-item:last-child::after {align-self: flex-start;width: 50%;}#sk-container-id-4 div.sk-parallel-item:only-child::after {width: 0;}#sk-container-id-4 div.sk-dashed-wrapped {border: 1px dashed gray;margin: 0 0.4em 0.5em 0.4em;box-sizing: border-box;padding-bottom: 0.4em;background-color: white;}#sk-container-id-4 div.sk-label label {font-family: monospace;font-weight: bold;display: inline-block;line-height: 1.2em;}#sk-container-id-4 div.sk-label-container {text-align: center;}#sk-container-id-4 div.sk-container {/* jupyter's `normalize.less` sets `[hidden] { display: none; }` but bootstrap.min.css set `[hidden] { display: none !important; }` so we also need the `!important` here to be able to override the default hidden behavior on the sphinx rendered scikit-learn.org. See: https://github.com/scikit-learn/scikit-learn/issues/21755 */display: inline-block !important;position: relative;}#sk-container-id-4 div.sk-text-repr-fallback {display: none;}</style><div id=\"sk-container-id-4\" class=\"sk-top-container\"><div class=\"sk-text-repr-fallback\"><pre>RandomForestRegressor(n_estimators=170)</pre><b>In a Jupyter environment, please rerun this cell to show the HTML representation or trust the notebook. <br />On GitHub, the HTML representation is unable to render, please try loading this page with nbviewer.org.</b></div><div class=\"sk-container\" hidden><div class=\"sk-item\"><div class=\"sk-estimator sk-toggleable\"><input class=\"sk-toggleable__control sk-hidden--visually\" id=\"sk-estimator-id-4\" type=\"checkbox\" checked><label for=\"sk-estimator-id-4\" class=\"sk-toggleable__label sk-toggleable__label-arrow\">RandomForestRegressor</label><div class=\"sk-toggleable__content\"><pre>RandomForestRegressor(n_estimators=170)</pre></div></div></div></div></div>"
      ],
      "text/plain": [
       "RandomForestRegressor(n_estimators=170)"
      ]
     },
     "execution_count": 113,
     "metadata": {},
     "output_type": "execute_result"
    }
   ],
   "source": [
    "final_model.fit(X_train_processed, y_train)"
   ]
  },
  {
   "cell_type": "code",
   "execution_count": 114,
   "id": "07aaddb7-c2df-4cf6-8a9f-5fe30d89d6ce",
   "metadata": {},
   "outputs": [],
   "source": [
    "from sklearn.metrics import mean_squared_error, r2_score"
   ]
  },
  {
   "cell_type": "code",
   "execution_count": 115,
   "id": "cd1838d5-0c10-47a1-9fa5-80d226251ad4",
   "metadata": {},
   "outputs": [
    {
     "data": {
      "text/plain": [
       "8.782352941176471"
      ]
     },
     "execution_count": 115,
     "metadata": {},
     "output_type": "execute_result"
    }
   ],
   "source": [
    "np.amax(final_model.predict(X_test_processed))"
   ]
  },
  {
   "cell_type": "code",
   "execution_count": 116,
   "id": "91bebe03-66f7-4141-b4b7-8c37f4d37511",
   "metadata": {},
   "outputs": [
    {
     "data": {
      "text/plain": [
       "1.0"
      ]
     },
     "execution_count": 116,
     "metadata": {},
     "output_type": "execute_result"
    }
   ],
   "source": [
    "np.amin(final_model.predict(X_test_processed))"
   ]
  },
  {
   "cell_type": "code",
   "execution_count": 117,
   "id": "f5d8a50c-499c-44ef-926d-f95bb87d83b5",
   "metadata": {},
   "outputs": [
    {
     "data": {
      "text/plain": [
       "1.6623192683455539"
      ]
     },
     "execution_count": 117,
     "metadata": {},
     "output_type": "execute_result"
    }
   ],
   "source": [
    "mean_squared_error(y_test, final_model.predict(X_test_processed), squared=False)"
   ]
  },
  {
   "cell_type": "code",
   "execution_count": 118,
   "id": "5cef464e-a3d0-40a7-9f34-6f9666939794",
   "metadata": {},
   "outputs": [
    {
     "data": {
      "text/plain": [
       "0.3772841612110043"
      ]
     },
     "execution_count": 118,
     "metadata": {},
     "output_type": "execute_result"
    }
   ],
   "source": [
    "r2_score(y_test, final_model.predict(X_test_processed))"
   ]
  },
  {
   "cell_type": "code",
   "execution_count": 119,
   "id": "78b3fd27-1c98-41df-8689-7a4ef07909eb",
   "metadata": {},
   "outputs": [],
   "source": [
    "def sample_prediction(index, model):\n",
    "    truth = y_test.values[index]\n",
    "    prediction = model.predict(X_test_processed[index:index+1])\n",
    "    print('Pred:', prediction)\n",
    "    print('Truth:', truth)"
   ]
  },
  {
   "cell_type": "code",
   "execution_count": 120,
   "id": "6421eb1e-b85f-4465-9c72-ce512c331737",
   "metadata": {},
   "outputs": [
    {
     "name": "stdout",
     "output_type": "stream",
     "text": [
      "Pred: [3.62588235]\n",
      "Truth: 1\n",
      "Pred: [1.24696078]\n",
      "Truth: 1\n",
      "Pred: [1.0238212]\n",
      "Truth: 1\n",
      "Pred: [3.49607843]\n",
      "Truth: 3\n",
      "Pred: [3.51382353]\n",
      "Truth: 7\n",
      "Pred: [5.69186275]\n",
      "Truth: 5\n",
      "Pred: [3.57607843]\n",
      "Truth: 3\n",
      "Pred: [3.17352941]\n",
      "Truth: 2\n",
      "Pred: [1.17029412]\n",
      "Truth: 1\n",
      "Pred: [6.]\n",
      "Truth: 6\n",
      "Pred: [1.66176471]\n",
      "Truth: 1\n",
      "Pred: [4.94127451]\n",
      "Truth: 9\n",
      "Pred: [3.20558824]\n",
      "Truth: 2\n",
      "Pred: [5.33333333]\n",
      "Truth: 3\n",
      "Pred: [1.97988796]\n",
      "Truth: 2\n",
      "Pred: [1.25337111]\n",
      "Truth: 1\n",
      "Pred: [2.63310924]\n",
      "Truth: 2\n",
      "Pred: [2.2627591]\n",
      "Truth: 1\n",
      "Pred: [1.37078198]\n",
      "Truth: 2\n",
      "Pred: [1.0535014]\n",
      "Truth: 1\n"
     ]
    }
   ],
   "source": [
    "for i in range(70, 90):\n",
    "    sample_prediction(i, final_model)"
   ]
  },
  {
   "cell_type": "code",
   "execution_count": 121,
   "id": "77192dc5-e1ca-4bb1-bccc-c6d8923b8627",
   "metadata": {},
   "outputs": [],
   "source": [
    "conf_m = confusion_matrix(y_test, np.rint(final_model.predict(X_test_processed)))"
   ]
  },
  {
   "cell_type": "code",
   "execution_count": 122,
   "id": "1e2be7ed-5000-4aaf-9f85-0b58978e75d6",
   "metadata": {},
   "outputs": [
    {
     "data": {
      "text/plain": [
       "<sklearn.metrics._plot.confusion_matrix.ConfusionMatrixDisplay at 0x12cadb820>"
      ]
     },
     "execution_count": 122,
     "metadata": {},
     "output_type": "execute_result"
    },
    {
     "data": {
      "image/png": "[encoded data removed]",
      "text/plain": [
       "<Figure size 640x480 with 2 Axes>"
      ]
     },
     "metadata": {},
     "output_type": "display_data"
    }
   ],
   "source": [
    "ConfusionMatrixDisplay(conf_m, display_labels=[1,2,3,4,5,6,7,8,9]).plot()"
   ]
  },
  {
   "cell_type": "code",
   "execution_count": 123,
   "id": "838269a0-64f3-4cd9-8fb6-792998c8fe8b",
   "metadata": {},
   "outputs": [
    {
     "data": {
      "text/plain": [
       "0.3978960396039604"
      ]
     },
     "execution_count": 123,
     "metadata": {},
     "output_type": "execute_result"
    }
   ],
   "source": [
    "accuracy_score(y_test, np.rint(final_model.predict(X_test_processed)))"
   ]
  },
  {
   "cell_type": "markdown",
   "id": "0b972330-9f51-49ab-b035-8a1802eb0fbd",
   "metadata": {},
   "source": [
    "### Hypertuning - KNN"
   ]
  },
  {
   "cell_type": "code",
   "execution_count": 124,
   "id": "71fc9d05-ffc6-4e62-92eb-e4af9c2768a7",
   "metadata": {},
   "outputs": [],
   "source": [
    "param_grid = [{\n",
    "    'n_neighbors': [20],\n",
    "    'leaf_size': [1, 2, 3],\n",
    "    'p': [1],\n",
    "}]"
   ]
  },
  {
   "cell_type": "code",
   "execution_count": 125,
   "id": "91bd0156-0fbe-4c21-b077-9ad163c084cb",
   "metadata": {},
   "outputs": [],
   "source": [
    "model = KNeighborsRegressor()"
   ]
  },
  {
   "cell_type": "code",
   "execution_count": 126,
   "id": "0158f9f0-98f3-4966-badf-45d882f442a4",
   "metadata": {},
   "outputs": [],
   "source": [
    "grid_search = GridSearchCV(model, param_grid, cv=5, scoring='neg_mean_squared_error', return_train_score=True, verbose=5)"
   ]
  },
  {
   "cell_type": "code",
   "execution_count": 127,
   "id": "f699920a-e966-4aae-9a8d-c7ff99b36141",
   "metadata": {},
   "outputs": [],
   "source": [
    "# grid_search.fit(X_train_processed, y_train)"
   ]
  },
  {
   "cell_type": "code",
   "execution_count": 128,
   "id": "ca3a2dff-3128-446e-94c6-31404da5b6e4",
   "metadata": {},
   "outputs": [],
   "source": [
    "# grid_search.best_params_\n",
    "# leaf_size: 1\n",
    "# n_neighbors: 20\n",
    "# p: 1"
   ]
  },
  {
   "cell_type": "code",
   "execution_count": 129,
   "id": "90798973-69cf-4fc2-baf9-2b962eeb94f4",
   "metadata": {},
   "outputs": [],
   "source": [
    "final_model = KNeighborsRegressor(leaf_size=1, n_neighbors=20, p=1)"
   ]
  },
  {
   "cell_type": "code",
   "execution_count": 130,
   "id": "8b01088f-0bd0-4293-b3a4-20b58bb3e939",
   "metadata": {},
   "outputs": [
    {
     "data": {
      "text/html": [
       "<style>#sk-container-id-5 {color: black;background-color: white;}#sk-container-id-5 pre{padding: 0;}#sk-container-id-5 div.sk-toggleable {background-color: white;}#sk-container-id-5 label.sk-toggleable__label {cursor: pointer;display: block;width: 100%;margin-bottom: 0;padding: 0.3em;box-sizing: border-box;text-align: center;}#sk-container-id-5 label.sk-toggleable__label-arrow:before {content: \"▸\";float: left;margin-right: 0.25em;color: #696969;}#sk-container-id-5 label.sk-toggleable__label-arrow:hover:before {color: black;}#sk-container-id-5 div.sk-estimator:hover label.sk-toggleable__label-arrow:before {color: black;}#sk-container-id-5 div.sk-toggleable__content {max-height: 0;max-width: 0;overflow: hidden;text-align: left;background-color: #f0f8ff;}#sk-container-id-5 div.sk-toggleable__content pre {margin: 0.2em;color: black;border-radius: 0.25em;background-color: #f0f8ff;}#sk-container-id-5 input.sk-toggleable__control:checked~div.sk-toggleable__content {max-height: 200px;max-width: 100%;overflow: auto;}#sk-container-id-5 input.sk-toggleable__control:checked~label.sk-toggleable__label-arrow:before {content: \"▾\";}#sk-container-id-5 div.sk-estimator input.sk-toggleable__control:checked~label.sk-toggleable__label {background-color: #d4ebff;}#sk-container-id-5 div.sk-label input.sk-toggleable__control:checked~label.sk-toggleable__label {background-color: #d4ebff;}#sk-container-id-5 input.sk-hidden--visually {border: 0;clip: rect(1px 1px 1px 1px);clip: rect(1px, 1px, 1px, 1px);height: 1px;margin: -1px;overflow: hidden;padding: 0;position: absolute;width: 1px;}#sk-container-id-5 div.sk-estimator {font-family: monospace;background-color: #f0f8ff;border: 1px dotted black;border-radius: 0.25em;box-sizing: border-box;margin-bottom: 0.5em;}#sk-container-id-5 div.sk-estimator:hover {background-color: #d4ebff;}#sk-container-id-5 div.sk-parallel-item::after {content: \"\";width: 100%;border-bottom: 1px solid gray;flex-grow: 1;}#sk-container-id-5 div.sk-label:hover label.sk-toggleable__label {background-color: #d4ebff;}#sk-container-id-5 div.sk-serial::before {content: \"\";position: absolute;border-left: 1px solid gray;box-sizing: border-box;top: 0;bottom: 0;left: 50%;z-index: 0;}#sk-container-id-5 div.sk-serial {display: flex;flex-direction: column;align-items: center;background-color: white;padding-right: 0.2em;padding-left: 0.2em;position: relative;}#sk-container-id-5 div.sk-item {position: relative;z-index: 1;}#sk-container-id-5 div.sk-parallel {display: flex;align-items: stretch;justify-content: center;background-color: white;position: relative;}#sk-container-id-5 div.sk-item::before, #sk-container-id-5 div.sk-parallel-item::before {content: \"\";position: absolute;border-left: 1px solid gray;box-sizing: border-box;top: 0;bottom: 0;left: 50%;z-index: -1;}#sk-container-id-5 div.sk-parallel-item {display: flex;flex-direction: column;z-index: 1;position: relative;background-color: white;}#sk-container-id-5 div.sk-parallel-item:first-child::after {align-self: flex-end;width: 50%;}#sk-container-id-5 div.sk-parallel-item:last-child::after {align-self: flex-start;width: 50%;}#sk-container-id-5 div.sk-parallel-item:only-child::after {width: 0;}#sk-container-id-5 div.sk-dashed-wrapped {border: 1px dashed gray;margin: 0 0.4em 0.5em 0.4em;box-sizing: border-box;padding-bottom: 0.4em;background-color: white;}#sk-container-id-5 div.sk-label label {font-family: monospace;font-weight: bold;display: inline-block;line-height: 1.2em;}#sk-container-id-5 div.sk-label-container {text-align: center;}#sk-container-id-5 div.sk-container {/* jupyter's `normalize.less` sets `[hidden] { display: none; }` but bootstrap.min.css set `[hidden] { display: none !important; }` so we also need the `!important` here to be able to override the default hidden behavior on the sphinx rendered scikit-learn.org. See: https://github.com/scikit-learn/scikit-learn/issues/21755 */display: inline-block !important;position: relative;}#sk-container-id-5 div.sk-text-repr-fallback {display: none;}</style><div id=\"sk-container-id-5\" class=\"sk-top-container\"><div class=\"sk-text-repr-fallback\"><pre>KNeighborsRegressor(leaf_size=1, n_neighbors=20, p=1)</pre><b>In a Jupyter environment, please rerun this cell to show the HTML representation or trust the notebook. <br />On GitHub, the HTML representation is unable to render, please try loading this page with nbviewer.org.</b></div><div class=\"sk-container\" hidden><div class=\"sk-item\"><div class=\"sk-estimator sk-toggleable\"><input class=\"sk-toggleable__control sk-hidden--visually\" id=\"sk-estimator-id-5\" type=\"checkbox\" checked><label for=\"sk-estimator-id-5\" class=\"sk-toggleable__label sk-toggleable__label-arrow\">KNeighborsRegressor</label><div class=\"sk-toggleable__content\"><pre>KNeighborsRegressor(leaf_size=1, n_neighbors=20, p=1)</pre></div></div></div></div></div>"
      ],
      "text/plain": [
       "KNeighborsRegressor(leaf_size=1, n_neighbors=20, p=1)"
      ]
     },
     "execution_count": 130,
     "metadata": {},
     "output_type": "execute_result"
    }
   ],
   "source": [
    "final_model.fit(X_train_processed, y_train)"
   ]
  },
  {
   "cell_type": "code",
   "execution_count": 131,
   "id": "dcba37fd-8445-428a-9bcd-1eb43f4e5608",
   "metadata": {},
   "outputs": [
    {
     "data": {
      "text/plain": [
       "7.45"
      ]
     },
     "execution_count": 131,
     "metadata": {},
     "output_type": "execute_result"
    }
   ],
   "source": [
    "np.amax(final_model.predict(X_test_processed))"
   ]
  },
  {
   "cell_type": "code",
   "execution_count": 132,
   "id": "a5ca11d0-cdb1-4902-a3e1-00f9a08310f8",
   "metadata": {},
   "outputs": [
    {
     "data": {
      "text/plain": [
       "1.0"
      ]
     },
     "execution_count": 132,
     "metadata": {},
     "output_type": "execute_result"
    }
   ],
   "source": [
    "np.amin(final_model.predict(X_test_processed))"
   ]
  },
  {
   "cell_type": "code",
   "execution_count": 133,
   "id": "17f631c0-e4a4-48f3-94ba-856e0b964400",
   "metadata": {},
   "outputs": [
    {
     "data": {
      "text/plain": [
       "1.638623395922128"
      ]
     },
     "execution_count": 133,
     "metadata": {},
     "output_type": "execute_result"
    }
   ],
   "source": [
    "mean_squared_error(y_test, final_model.predict(X_test_processed), squared=False)"
   ]
  },
  {
   "cell_type": "code",
   "execution_count": 134,
   "id": "02ef3b92-f1c4-4263-861e-904d4e18b9e7",
   "metadata": {},
   "outputs": [
    {
     "data": {
      "text/plain": [
       "0.3949108898314445"
      ]
     },
     "execution_count": 134,
     "metadata": {},
     "output_type": "execute_result"
    }
   ],
   "source": [
    "r2_score(y_test, final_model.predict(X_test_processed))"
   ]
  },
  {
   "cell_type": "code",
   "execution_count": 135,
   "id": "5ae30ad6-b038-4919-ace6-1bf0005fae54",
   "metadata": {},
   "outputs": [
    {
     "name": "stdout",
     "output_type": "stream",
     "text": [
      "Pred: [4.55]\n",
      "Truth: 6\n",
      "Pred: [2.15]\n",
      "Truth: 1\n",
      "Pred: [1.9]\n",
      "Truth: 1\n",
      "Pred: [2.25]\n",
      "Truth: 2\n",
      "Pred: [3.95]\n",
      "Truth: 1\n",
      "Pred: [3.3]\n",
      "Truth: 1\n",
      "Pred: [2.]\n",
      "Truth: 2\n",
      "Pred: [1.6]\n",
      "Truth: 1\n",
      "Pred: [3.75]\n",
      "Truth: 1\n",
      "Pred: [2.3]\n",
      "Truth: 6\n",
      "Pred: [2.9]\n",
      "Truth: 2\n",
      "Pred: [1.45]\n",
      "Truth: 1\n",
      "Pred: [2.]\n",
      "Truth: 2\n",
      "Pred: [1.6]\n",
      "Truth: 3\n",
      "Pred: [1.05]\n",
      "Truth: 1\n",
      "Pred: [2.75]\n",
      "Truth: 2\n",
      "Pred: [4.75]\n",
      "Truth: 4\n",
      "Pred: [2.15]\n",
      "Truth: 5\n",
      "Pred: [3.25]\n",
      "Truth: 1\n",
      "Pred: [1.6]\n",
      "Truth: 1\n",
      "Pred: [2.15]\n",
      "Truth: 7\n",
      "Pred: [1.65]\n",
      "Truth: 1\n",
      "Pred: [5.2]\n",
      "Truth: 7\n",
      "Pred: [1.4]\n",
      "Truth: 1\n",
      "Pred: [2.9]\n",
      "Truth: 1\n",
      "Pred: [1.65]\n",
      "Truth: 1\n",
      "Pred: [1.6]\n",
      "Truth: 1\n",
      "Pred: [3.15]\n",
      "Truth: 1\n",
      "Pred: [1.4]\n",
      "Truth: 1\n",
      "Pred: [1.]\n",
      "Truth: 1\n"
     ]
    }
   ],
   "source": [
    "for i in range(90, 120):\n",
    "    sample_prediction(i, final_model)"
   ]
  },
  {
   "cell_type": "code",
   "execution_count": 136,
   "id": "b60d8cf1-61d5-47b6-b6bc-a85baa7caa9f",
   "metadata": {},
   "outputs": [],
   "source": [
    "conf_m = confusion_matrix(y_test, np.rint(final_model.predict(X_test_processed)))"
   ]
  },
  {
   "cell_type": "code",
   "execution_count": 137,
   "id": "23a2d862-1fa5-4119-9024-44853c5f16a3",
   "metadata": {},
   "outputs": [
    {
     "data": {
      "text/plain": [
       "<sklearn.metrics._plot.confusion_matrix.ConfusionMatrixDisplay at 0x13680bb50>"
      ]
     },
     "execution_count": 137,
     "metadata": {},
     "output_type": "execute_result"
    },
    {
     "data": {
      "image/png": "[encoded data removed]",
      "text/plain": [
       "<Figure size 640x480 with 2 Axes>"
      ]
     },
     "metadata": {},
     "output_type": "display_data"
    }
   ],
   "source": [
    "ConfusionMatrixDisplay(conf_m, display_labels=[1,2,3,4,5,6,7,8,9]).plot()"
   ]
  },
  {
   "cell_type": "code",
   "execution_count": 138,
   "id": "99c132c3-828f-43cf-9d4b-185d4f8cf358",
   "metadata": {},
   "outputs": [
    {
     "data": {
      "text/plain": [
       "0.29146039603960394"
      ]
     },
     "execution_count": 138,
     "metadata": {},
     "output_type": "execute_result"
    }
   ],
   "source": [
    "accuracy_score(y_test, np.rint(final_model.predict(X_test_processed)))"
   ]
  },
  {
   "cell_type": "markdown",
   "id": "1592696e-dc01-402a-b631-627fcd21c8b3",
   "metadata": {},
   "source": [
    "### Rating Distribution"
   ]
  },
  {
   "cell_type": "code",
   "execution_count": 139,
   "id": "1535c86d-b7dd-4605-8d08-a51c4070a863",
   "metadata": {},
   "outputs": [
    {
     "data": {
      "text/plain": [
       "<AxesSubplot: title={'center': 'Ratings'}>"
      ]
     },
     "execution_count": 139,
     "metadata": {},
     "output_type": "execute_result"
    },
    {
     "data": {
      "image/png": "[encoded data removed]",
      "text/plain": [
       "<Figure size 640x480 with 1 Axes>"
      ]
     },
     "metadata": {},
     "output_type": "display_data"
    }
   ],
   "source": [
    "y.value_counts().plot(kind='bar', title='Ratings')"
   ]
  },
  {
   "cell_type": "markdown",
   "id": "1f0005b7-f269-4408-a0f8-c0dc68e3e433",
   "metadata": {},
   "source": [
    "### Comparison to 1 only predictor"
   ]
  },
  {
   "cell_type": "code",
   "execution_count": 140,
   "id": "08aded6f-6d4b-4044-a518-07185a6688f5",
   "metadata": {},
   "outputs": [],
   "source": [
    "y_pred_1 = y_test.copy()"
   ]
  },
  {
   "cell_type": "code",
   "execution_count": 141,
   "id": "8907ba36-01d9-41ab-9cbb-e9987fcd39ed",
   "metadata": {},
   "outputs": [],
   "source": [
    "y_pred_1.iloc[:] = 1"
   ]
  },
  {
   "cell_type": "code",
   "execution_count": 142,
   "id": "94ca4c5f-3312-4468-942c-d14621aeb390",
   "metadata": {},
   "outputs": [
    {
     "data": {
      "text/plain": [
       "2566    1\n",
       "676     1\n",
       "5838    1\n",
       "1749    1\n",
       "6516    1\n",
       "       ..\n",
       "2981    1\n",
       "1468    1\n",
       "3091    1\n",
       "46      1\n",
       "2790    1\n",
       "Name: rating, Length: 1616, dtype: int64"
      ]
     },
     "execution_count": 142,
     "metadata": {},
     "output_type": "execute_result"
    }
   ],
   "source": [
    "y_pred_1"
   ]
  },
  {
   "cell_type": "code",
   "execution_count": 143,
   "id": "140dc7ac-b7cb-4493-bdf2-ab34302c64c6",
   "metadata": {},
   "outputs": [
    {
     "data": {
      "text/plain": [
       "2566    1\n",
       "676     5\n",
       "5838    3\n",
       "1749    6\n",
       "6516    1\n",
       "       ..\n",
       "2981    1\n",
       "1468    7\n",
       "3091    4\n",
       "46      8\n",
       "2790    1\n",
       "Name: rating, Length: 1616, dtype: int64"
      ]
     },
     "execution_count": 143,
     "metadata": {},
     "output_type": "execute_result"
    }
   ],
   "source": [
    "y_test"
   ]
  },
  {
   "cell_type": "code",
   "execution_count": 144,
   "id": "dca10d02-f2b5-41f5-93c0-51889fe8a742",
   "metadata": {},
   "outputs": [
    {
     "data": {
      "text/plain": [
       "2.5717428693667284"
      ]
     },
     "execution_count": 144,
     "metadata": {},
     "output_type": "execute_result"
    }
   ],
   "source": [
    "mean_squared_error(y_test, y_pred_1, squared=False)"
   ]
  },
  {
   "cell_type": "code",
   "execution_count": 145,
   "id": "25d49266-8e9b-48cd-bd7f-b9a654c99186",
   "metadata": {},
   "outputs": [
    {
     "data": {
      "text/plain": [
       "-0.49044557845671255"
      ]
     },
     "execution_count": 145,
     "metadata": {},
     "output_type": "execute_result"
    }
   ],
   "source": [
    "r2_score(y_test, y_pred_1)"
   ]
  },
  {
   "cell_type": "code",
   "execution_count": 146,
   "id": "b32ee538-cd09-454e-904e-090f4c1cabae",
   "metadata": {},
   "outputs": [
    {
     "data": {
      "text/plain": [
       "0.5346534653465347"
      ]
     },
     "execution_count": 146,
     "metadata": {},
     "output_type": "execute_result"
    }
   ],
   "source": [
    "accuracy_score(y_test, y_pred_1)"
   ]
  },
  {
   "cell_type": "markdown",
   "id": "0bd60a87-24f3-40d0-baac-00fb48953c07",
   "metadata": {},
   "source": [
    "### Conclusion"
   ]
  },
  {
   "cell_type": "markdown",
   "id": "300585a2-3fe7-4184-a93a-c276d620601e",
   "metadata": {},
   "source": [
    "Not too unreliable"
   ]
  },
  {
   "cell_type": "code",
   "execution_count": null,
   "id": "c22c7c09-590c-4770-aa38-99901ae2bf95",
   "metadata": {},
   "outputs": [],
   "source": []
  }
 ],
 "metadata": {
  "kernelspec": {
   "display_name": "Python 3 (ipykernel)",
   "language": "python",
   "name": "python3"
  },
  "language_info": {
   "codemirror_mode": {
    "name": "ipython",
    "version": 3
   },
   "file_extension": ".py",
   "mimetype": "text/x-python",
   "name": "python",
   "nbconvert_exporter": "python",
   "pygments_lexer": "ipython3",
   "version": "3.8.12"
  }
 },
 "nbformat": 4,
 "nbformat_minor": 5
}
