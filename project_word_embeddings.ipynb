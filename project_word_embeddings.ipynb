{
 "cells": [
  {
   "cell_type": "markdown",
   "id": "bcec43c5-ae4e-48bb-bc59-b79c301e13dd",
   "metadata": {
    "jp-MarkdownHeadingCollapsed": true,
    "tags": []
   },
   "source": [
    "# Imports"
   ]
  },
  {
   "cell_type": "code",
   "execution_count": 1,
   "id": "2db3ad30-3fdb-436a-8031-4f72185250eb",
   "metadata": {},
   "outputs": [],
   "source": [
    "import pandas as pd\n",
    "import numpy as np\n",
    "import matplotlib.pyplot as plt\n",
    "import statsmodels.api as sm"
   ]
  },
  {
   "cell_type": "markdown",
   "id": "30fe37d2-6522-4ddf-a5a1-5c02e8a6e06b",
   "metadata": {},
   "source": [
    "# Data"
   ]
  },
  {
   "cell_type": "markdown",
   "id": "c8eb17af-6799-4597-82cf-16f152608310",
   "metadata": {
    "jp-MarkdownHeadingCollapsed": true,
    "tags": []
   },
   "source": [
    "### Load\n",
    "- Load the data into pandas dataframes"
   ]
  },
  {
   "cell_type": "code",
   "execution_count": 2,
   "id": "626da276-5933-459f-b8fd-b1f82320614e",
   "metadata": {},
   "outputs": [],
   "source": [
    "data_df = pd.read_csv('./data/processed_data.csv')"
   ]
  },
  {
   "cell_type": "code",
   "execution_count": 3,
   "id": "9907f4b4-ab55-4963-9ad3-501b637239c0",
   "metadata": {},
   "outputs": [
    {
     "data": {
      "text/html": [
       "<div>\n",
       "<style scoped>\n",
       "    .dataframe tbody tr th:only-of-type {\n",
       "        vertical-align: middle;\n",
       "    }\n",
       "\n",
       "    .dataframe tbody tr th {\n",
       "        vertical-align: top;\n",
       "    }\n",
       "\n",
       "    .dataframe thead th {\n",
       "        text-align: right;\n",
       "    }\n",
       "</style>\n",
       "<table border=\"1\" class=\"dataframe\">\n",
       "  <thead>\n",
       "    <tr style=\"text-align: right;\">\n",
       "      <th></th>\n",
       "      <th>Participant</th>\n",
       "      <th>Age</th>\n",
       "      <th>Native Language</th>\n",
       "      <th>languages_other_english</th>\n",
       "      <th>Gender</th>\n",
       "      <th>Religiosity</th>\n",
       "      <th>Major</th>\n",
       "      <th>major_standardized</th>\n",
       "      <th>College</th>\n",
       "      <th>nigger</th>\n",
       "      <th>...</th>\n",
       "      <th>excrement</th>\n",
       "      <th>semen</th>\n",
       "      <th>breasts</th>\n",
       "      <th>coitus</th>\n",
       "      <th>booty</th>\n",
       "      <th>pee</th>\n",
       "      <th>butt</th>\n",
       "      <th>climax</th>\n",
       "      <th>randy</th>\n",
       "      <th>cunt</th>\n",
       "    </tr>\n",
       "  </thead>\n",
       "  <tbody>\n",
       "    <tr>\n",
       "      <th>0</th>\n",
       "      <td>1</td>\n",
       "      <td>20</td>\n",
       "      <td>English, Mandarin</td>\n",
       "      <td>1</td>\n",
       "      <td>Male</td>\n",
       "      <td>1.0</td>\n",
       "      <td>Psychology, Specialized in Clinical Psyc</td>\n",
       "      <td>social_science</td>\n",
       "      <td>Warren</td>\n",
       "      <td>1</td>\n",
       "      <td>...</td>\n",
       "      <td>1.0</td>\n",
       "      <td>1.0</td>\n",
       "      <td>1</td>\n",
       "      <td>1.0</td>\n",
       "      <td>1.0</td>\n",
       "      <td>1.0</td>\n",
       "      <td>1</td>\n",
       "      <td>1.0</td>\n",
       "      <td>1.0</td>\n",
       "      <td>1.0</td>\n",
       "    </tr>\n",
       "    <tr>\n",
       "      <th>1</th>\n",
       "      <td>2</td>\n",
       "      <td>18</td>\n",
       "      <td>English, Chaldean</td>\n",
       "      <td>1</td>\n",
       "      <td>Male</td>\n",
       "      <td>1.0</td>\n",
       "      <td>Visual arts media</td>\n",
       "      <td>arts_humanities</td>\n",
       "      <td>Sixth</td>\n",
       "      <td>1</td>\n",
       "      <td>...</td>\n",
       "      <td>1.0</td>\n",
       "      <td>1.0</td>\n",
       "      <td>1</td>\n",
       "      <td>1.0</td>\n",
       "      <td>1.0</td>\n",
       "      <td>1.0</td>\n",
       "      <td>1</td>\n",
       "      <td>1.0</td>\n",
       "      <td>1.0</td>\n",
       "      <td>1.0</td>\n",
       "    </tr>\n",
       "    <tr>\n",
       "      <th>2</th>\n",
       "      <td>3</td>\n",
       "      <td>21</td>\n",
       "      <td>English, Armenian</td>\n",
       "      <td>1</td>\n",
       "      <td>Male</td>\n",
       "      <td>3.0</td>\n",
       "      <td>Communications</td>\n",
       "      <td>social_science</td>\n",
       "      <td>Roosevelt</td>\n",
       "      <td>3</td>\n",
       "      <td>...</td>\n",
       "      <td>NaN</td>\n",
       "      <td>1.0</td>\n",
       "      <td>1</td>\n",
       "      <td>NaN</td>\n",
       "      <td>1.0</td>\n",
       "      <td>1.0</td>\n",
       "      <td>1</td>\n",
       "      <td>1.0</td>\n",
       "      <td>NaN</td>\n",
       "      <td>1.0</td>\n",
       "    </tr>\n",
       "    <tr>\n",
       "      <th>3</th>\n",
       "      <td>4</td>\n",
       "      <td>20</td>\n",
       "      <td>English</td>\n",
       "      <td>0</td>\n",
       "      <td>Male</td>\n",
       "      <td>1.0</td>\n",
       "      <td>Cognitive Science</td>\n",
       "      <td>multi_interdisciplinary</td>\n",
       "      <td>Revelle</td>\n",
       "      <td>9</td>\n",
       "      <td>...</td>\n",
       "      <td>1.0</td>\n",
       "      <td>1.0</td>\n",
       "      <td>1</td>\n",
       "      <td>1.0</td>\n",
       "      <td>1.0</td>\n",
       "      <td>1.0</td>\n",
       "      <td>1</td>\n",
       "      <td>1.0</td>\n",
       "      <td>NaN</td>\n",
       "      <td>1.0</td>\n",
       "    </tr>\n",
       "    <tr>\n",
       "      <th>4</th>\n",
       "      <td>5</td>\n",
       "      <td>22</td>\n",
       "      <td>English</td>\n",
       "      <td>0</td>\n",
       "      <td>Male</td>\n",
       "      <td>1.0</td>\n",
       "      <td>ICAM</td>\n",
       "      <td>multi_interdisciplinary</td>\n",
       "      <td>Warren</td>\n",
       "      <td>9</td>\n",
       "      <td>...</td>\n",
       "      <td>1.0</td>\n",
       "      <td>1.0</td>\n",
       "      <td>1</td>\n",
       "      <td>1.0</td>\n",
       "      <td>3.0</td>\n",
       "      <td>1.0</td>\n",
       "      <td>1</td>\n",
       "      <td>1.0</td>\n",
       "      <td>1.0</td>\n",
       "      <td>3.0</td>\n",
       "    </tr>\n",
       "  </tbody>\n",
       "</table>\n",
       "<p>5 rows × 101 columns</p>\n",
       "</div>"
      ],
      "text/plain": [
       "   Participant  Age     Native Language  languages_other_english Gender  \\\n",
       "0            1   20   English, Mandarin                        1   Male   \n",
       "1            2   18  English, Chaldean                         1   Male   \n",
       "2            3   21   English, Armenian                        1   Male   \n",
       "3            4   20             English                        0   Male   \n",
       "4            5   22             English                        0   Male   \n",
       "\n",
       "   Religiosity                                     Major  \\\n",
       "0          1.0  Psychology, Specialized in Clinical Psyc   \n",
       "1          1.0                        Visual arts media    \n",
       "2          3.0                            Communications   \n",
       "3          1.0                         Cognitive Science   \n",
       "4          1.0                                      ICAM   \n",
       "\n",
       "        major_standardized    College  nigger  ...  excrement  semen  breasts  \\\n",
       "0           social_science     Warren       1  ...        1.0    1.0        1   \n",
       "1          arts_humanities      Sixth       1  ...        1.0    1.0        1   \n",
       "2           social_science  Roosevelt       3  ...        NaN    1.0        1   \n",
       "3  multi_interdisciplinary    Revelle       9  ...        1.0    1.0        1   \n",
       "4  multi_interdisciplinary     Warren       9  ...        1.0    1.0        1   \n",
       "\n",
       "   coitus  booty  pee  butt  climax  randy  cunt  \n",
       "0     1.0    1.0  1.0     1     1.0    1.0   1.0  \n",
       "1     1.0    1.0  1.0     1     1.0    1.0   1.0  \n",
       "2     NaN    1.0  1.0     1     1.0    NaN   1.0  \n",
       "3     1.0    1.0  1.0     1     1.0    NaN   1.0  \n",
       "4     1.0    3.0  1.0     1     1.0    1.0   3.0  \n",
       "\n",
       "[5 rows x 101 columns]"
      ]
     },
     "execution_count": 3,
     "metadata": {},
     "output_type": "execute_result"
    }
   ],
   "source": [
    "data_df.head()"
   ]
  },
  {
   "cell_type": "code",
   "execution_count": 4,
   "id": "4280c2be-1a37-4dfc-b493-9337c0ed09c3",
   "metadata": {},
   "outputs": [
    {
     "data": {
      "text/plain": [
       "Index(['Participant', 'Age', 'Native Language', 'languages_other_english',\n",
       "       'Gender', 'Religiosity', 'Major', 'major_standardized', 'College',\n",
       "       'nigger',\n",
       "       ...\n",
       "       'excrement', 'semen', 'breasts', 'coitus', 'booty', 'pee', 'butt',\n",
       "       'climax', 'randy', 'cunt'],\n",
       "      dtype='object', length=101)"
      ]
     },
     "execution_count": 4,
     "metadata": {},
     "output_type": "execute_result"
    }
   ],
   "source": [
    "data_df.columns"
   ]
  },
  {
   "cell_type": "code",
   "execution_count": 5,
   "id": "a5e53b4a-c180-40eb-84de-81f4a2b3b229",
   "metadata": {},
   "outputs": [
    {
     "data": {
      "text/plain": [
       "101"
      ]
     },
     "execution_count": 5,
     "metadata": {},
     "output_type": "execute_result"
    }
   ],
   "source": [
    "len(list(data_df.columns))"
   ]
  },
  {
   "cell_type": "markdown",
   "id": "e1865e2e-7a25-4870-a70d-8e6a1aca9f1a",
   "metadata": {},
   "source": [
    "Load word vectors from Glove"
   ]
  },
  {
   "cell_type": "code",
   "execution_count": 6,
   "id": "7fb8cc75-e3c7-4182-a096-aa8095494d79",
   "metadata": {},
   "outputs": [],
   "source": [
    "# https://gist.github.com/sebtheiler/84a0c5afac04f7e602de350ddca94859#file-loading_vectors_full-py\n",
    "embeddings_dict = {}\n",
    "with open(\"./data/glove.6B.50d.txt\", 'r') as f:\n",
    "    for line in f:\n",
    "        values = line.split()\n",
    "        word = values[0]\n",
    "        vector = np.asarray(values[1:], \"float32\")\n",
    "        embeddings_dict[word] = vector"
   ]
  },
  {
   "cell_type": "code",
   "execution_count": 7,
   "id": "b3ffab75-f9c1-4709-a346-84637d7ee531",
   "metadata": {},
   "outputs": [
    {
     "data": {
      "text/plain": [
       "['so',\n",
       " 'them',\n",
       " 'what',\n",
       " 'him',\n",
       " 'united',\n",
       " 'during',\n",
       " 'before',\n",
       " 'may',\n",
       " 'since',\n",
       " 'many']"
      ]
     },
     "execution_count": 7,
     "metadata": {},
     "output_type": "execute_result"
    }
   ],
   "source": [
    "list(embeddings_dict.keys())[100:110]"
   ]
  },
  {
   "cell_type": "code",
   "execution_count": 8,
   "id": "41a86cd2-0388-41bf-b37f-93c4c326d763",
   "metadata": {},
   "outputs": [
    {
     "name": "stdout",
     "output_type": "stream",
     "text": [
      "None\n"
     ]
    }
   ],
   "source": [
    "print(embeddings_dict.get('lesbo'))"
   ]
  },
  {
   "cell_type": "code",
   "execution_count": 9,
   "id": "0e4d5bd0-fb19-4039-aa00-b22f98000855",
   "metadata": {},
   "outputs": [],
   "source": [
    "categorize_df = pd.read_csv('./data/word_categorization.csv')"
   ]
  },
  {
   "cell_type": "code",
   "execution_count": 10,
   "id": "dddfae5f-8ad2-440d-89ec-2c233364b78c",
   "metadata": {},
   "outputs": [
    {
     "data": {
      "text/html": [
       "<div>\n",
       "<style scoped>\n",
       "    .dataframe tbody tr th:only-of-type {\n",
       "        vertical-align: middle;\n",
       "    }\n",
       "\n",
       "    .dataframe tbody tr th {\n",
       "        vertical-align: top;\n",
       "    }\n",
       "\n",
       "    .dataframe thead th {\n",
       "        text-align: right;\n",
       "    }\n",
       "</style>\n",
       "<table border=\"1\" class=\"dataframe\">\n",
       "  <thead>\n",
       "    <tr style=\"text-align: right;\">\n",
       "      <th></th>\n",
       "      <th>word</th>\n",
       "      <th>religion</th>\n",
       "      <th>sex</th>\n",
       "      <th>body</th>\n",
       "      <th>excretion</th>\n",
       "      <th>slur</th>\n",
       "      <th>insult</th>\n",
       "      <th>formal</th>\n",
       "      <th>closed</th>\n",
       "    </tr>\n",
       "  </thead>\n",
       "  <tbody>\n",
       "    <tr>\n",
       "      <th>0</th>\n",
       "      <td>nigger</td>\n",
       "      <td>0</td>\n",
       "      <td>0</td>\n",
       "      <td>0</td>\n",
       "      <td>0</td>\n",
       "      <td>1</td>\n",
       "      <td>1</td>\n",
       "      <td>0</td>\n",
       "      <td>0</td>\n",
       "    </tr>\n",
       "    <tr>\n",
       "      <th>1</th>\n",
       "      <td>fag</td>\n",
       "      <td>0</td>\n",
       "      <td>0</td>\n",
       "      <td>0</td>\n",
       "      <td>0</td>\n",
       "      <td>1</td>\n",
       "      <td>1</td>\n",
       "      <td>0</td>\n",
       "      <td>1</td>\n",
       "    </tr>\n",
       "    <tr>\n",
       "      <th>2</th>\n",
       "      <td>cocksucker</td>\n",
       "      <td>0</td>\n",
       "      <td>1</td>\n",
       "      <td>1</td>\n",
       "      <td>0</td>\n",
       "      <td>0</td>\n",
       "      <td>1</td>\n",
       "      <td>0</td>\n",
       "      <td>0</td>\n",
       "    </tr>\n",
       "    <tr>\n",
       "      <th>3</th>\n",
       "      <td>chink</td>\n",
       "      <td>0</td>\n",
       "      <td>0</td>\n",
       "      <td>0</td>\n",
       "      <td>0</td>\n",
       "      <td>1</td>\n",
       "      <td>1</td>\n",
       "      <td>0</td>\n",
       "      <td>1</td>\n",
       "    </tr>\n",
       "    <tr>\n",
       "      <th>4</th>\n",
       "      <td>motherfucker</td>\n",
       "      <td>0</td>\n",
       "      <td>1</td>\n",
       "      <td>0</td>\n",
       "      <td>0</td>\n",
       "      <td>0</td>\n",
       "      <td>1</td>\n",
       "      <td>0</td>\n",
       "      <td>0</td>\n",
       "    </tr>\n",
       "  </tbody>\n",
       "</table>\n",
       "</div>"
      ],
      "text/plain": [
       "           word  religion  sex  body  excretion  slur  insult  formal  closed\n",
       "0        nigger         0    0     0          0     1       1       0       0\n",
       "1           fag         0    0     0          0     1       1       0       1\n",
       "2    cocksucker         0    1     1          0     0       1       0       0\n",
       "3         chink         0    0     0          0     1       1       0       1\n",
       "4  motherfucker         0    1     0          0     0       1       0       0"
      ]
     },
     "execution_count": 10,
     "metadata": {},
     "output_type": "execute_result"
    }
   ],
   "source": [
    "categorize_df.head()"
   ]
  },
  {
   "cell_type": "markdown",
   "id": "802a8a84-66ff-4f5b-99e6-b908e17e7c70",
   "metadata": {
    "jp-MarkdownHeadingCollapsed": true,
    "tags": []
   },
   "source": [
    "### Examine\n",
    "\n",
    "- visualize the data"
   ]
  },
  {
   "cell_type": "code",
   "execution_count": 11,
   "id": "8884509c-8b86-45ad-8d56-1b81a438e62c",
   "metadata": {},
   "outputs": [
    {
     "data": {
      "text/plain": [
       "<AxesSubplot: title={'center': 'Age'}>"
      ]
     },
     "execution_count": 11,
     "metadata": {},
     "output_type": "execute_result"
    },
    {
     "data": {
      "image/png": "[encoded data removed]",
      "text/plain": [
       "<Figure size 640x480 with 1 Axes>"
      ]
     },
     "metadata": {},
     "output_type": "display_data"
    }
   ],
   "source": [
    "data_df['Age'].value_counts().plot(kind='bar', title='Age')"
   ]
  },
  {
   "cell_type": "code",
   "execution_count": 12,
   "id": "49881267-8964-4a03-a28a-5fe0362eb45c",
   "metadata": {},
   "outputs": [
    {
     "data": {
      "text/plain": [
       "<AxesSubplot: title={'center': 'Gender'}>"
      ]
     },
     "execution_count": 12,
     "metadata": {},
     "output_type": "execute_result"
    },
    {
     "data": {
      "image/png": "[encoded data removed]",
      "text/plain": [
       "<Figure size 640x480 with 1 Axes>"
      ]
     },
     "metadata": {},
     "output_type": "display_data"
    }
   ],
   "source": [
    "data_df['Gender'].value_counts().plot(kind='bar', title='Gender')"
   ]
  },
  {
   "cell_type": "code",
   "execution_count": 13,
   "id": "78460a90-abd1-4d3f-8802-bc85add59783",
   "metadata": {},
   "outputs": [
    {
     "data": {
      "text/plain": [
       "<AxesSubplot: title={'center': 'Major'}>"
      ]
     },
     "execution_count": 13,
     "metadata": {},
     "output_type": "execute_result"
    },
    {
     "data": {
      "image/png": "[encoded data removed]",
      "text/plain": [
       "<Figure size 640x480 with 1 Axes>"
      ]
     },
     "metadata": {},
     "output_type": "display_data"
    }
   ],
   "source": [
    "data_df['major_standardized'].value_counts().plot(kind='bar', title='Major')"
   ]
  },
  {
   "cell_type": "code",
   "execution_count": 14,
   "id": "c87f1ccc-9f2f-4800-a3f7-f565069f7b96",
   "metadata": {},
   "outputs": [
    {
     "data": {
      "text/plain": [
       "<AxesSubplot: title={'center': 'Religiosity'}>"
      ]
     },
     "execution_count": 14,
     "metadata": {},
     "output_type": "execute_result"
    },
    {
     "data": {
      "image/png": "[encoded data removed]",
      "text/plain": [
       "<Figure size 640x480 with 1 Axes>"
      ]
     },
     "metadata": {},
     "output_type": "display_data"
    }
   ],
   "source": [
    "data_df['Religiosity'].value_counts().plot(kind='bar', title='Religiosity')"
   ]
  },
  {
   "cell_type": "code",
   "execution_count": 15,
   "id": "650398db-e7e4-4be6-937c-412b2bdea26c",
   "metadata": {},
   "outputs": [
    {
     "data": {
      "text/plain": [
       "<AxesSubplot: title={'center': 'College'}>"
      ]
     },
     "execution_count": 15,
     "metadata": {},
     "output_type": "execute_result"
    },
    {
     "data": {
      "image/png": "[encoded data removed]",
      "text/plain": [
       "<Figure size 640x480 with 1 Axes>"
      ]
     },
     "metadata": {},
     "output_type": "display_data"
    }
   ],
   "source": [
    "data_df['College'].value_counts().plot(kind='bar', title='College')"
   ]
  },
  {
   "cell_type": "code",
   "execution_count": 16,
   "id": "fb79e91d-3acd-4488-982b-ec3d2ce212c9",
   "metadata": {},
   "outputs": [
    {
     "data": {
      "text/plain": [
       "<AxesSubplot: title={'center': 'Num. of languages other than English'}>"
      ]
     },
     "execution_count": 16,
     "metadata": {},
     "output_type": "execute_result"
    },
    {
     "data": {
      "image/png": "[encoded data removed]",
      "text/plain": [
       "<Figure size 640x480 with 1 Axes>"
      ]
     },
     "metadata": {},
     "output_type": "display_data"
    }
   ],
   "source": [
    "data_df['languages_other_english'].value_counts().plot(kind='bar', title='Num. of languages other than English')"
   ]
  },
  {
   "cell_type": "markdown",
   "id": "004cfa76-6ddb-41dd-a4bf-b355208c6287",
   "metadata": {
    "jp-MarkdownHeadingCollapsed": true,
    "tags": []
   },
   "source": [
    "### Reformatting and Feature Creation\n",
    "\n",
    "- split data into individual words\n",
    "- join word categorizations\n",
    "- add syllable count\n",
    "- add consonant and vowel count and word length"
   ]
  },
  {
   "cell_type": "code",
   "execution_count": 17,
   "id": "32b27e3b-fef1-42c8-82cd-cac2281fba40",
   "metadata": {},
   "outputs": [],
   "source": [
    "# https://stackoverflow.com/questions/46759492/syllable-count-in-python\n",
    "# not perfect, but accurate for the profanity selection\n",
    "def syllable_count(word):\n",
    "    word = word.lower()\n",
    "    count = 0\n",
    "    vowels = \"aeiouy\"\n",
    "    if word[0] in vowels:\n",
    "        count += 1\n",
    "    for index in range(1, len(word)):\n",
    "        if word[index] in vowels and word[index - 1] not in vowels:\n",
    "            count += 1\n",
    "    if word.endswith(\"e\"):\n",
    "        count -= 1\n",
    "    if count == 0:\n",
    "        count += 1\n",
    "    return count"
   ]
  },
  {
   "cell_type": "code",
   "execution_count": 18,
   "id": "e2646461-e91b-4c51-9295-22f1cc01157c",
   "metadata": {},
   "outputs": [],
   "source": [
    "# https://stackoverflow.com/questions/19967001/count-vowels-in-string-python\n",
    "def vowel_count(word):\n",
    "    num_vowels=0\n",
    "    for char in word:\n",
    "        if char.lower() in \"aeiou\":\n",
    "           num_vowels += 1\n",
    "    return num_vowels"
   ]
  },
  {
   "cell_type": "code",
   "execution_count": 19,
   "id": "7f35438a-36f4-4402-aacc-6b99af2904ad",
   "metadata": {},
   "outputs": [],
   "source": [
    "def letter_count(words):\n",
    "    return len(words)"
   ]
  },
  {
   "cell_type": "markdown",
   "id": "eec01277-a3c9-49bd-8c91-13f035b3ebbf",
   "metadata": {},
   "source": [
    "compile word embeddings for relevant words"
   ]
  },
  {
   "cell_type": "code",
   "execution_count": 20,
   "id": "6faaabee-2e7b-4e56-8a9e-58ba2cf29c27",
   "metadata": {},
   "outputs": [],
   "source": [
    "def compile_word_vectors(words):\n",
    "    compiled_data = []\n",
    "    final_columns = [\n",
    "        'word',\n",
    "        'syllables',\n",
    "        'vowels',\n",
    "        'letters',\n",
    "    ]\n",
    "    # each word vector has 50 dimensions\n",
    "    for i in range(50):\n",
    "        final_columns.append(f'v_{i}')\n",
    "    \n",
    "    for word in words:\n",
    "        # skip words that are not part of the pre-trained set\n",
    "        if embeddings_dict.get(word) is None:\n",
    "            continue\n",
    "        \n",
    "        syllables = syllable_count(word)\n",
    "        vowels = vowel_count(word)\n",
    "        letters = letter_count(word)\n",
    "        \n",
    "        word_data = [\n",
    "            word,\n",
    "            syllables,\n",
    "            vowels,\n",
    "            letters,\n",
    "        ]\n",
    "        \n",
    "        for value in embeddings_dict[word]:\n",
    "            word_data.append(value)\n",
    "        \n",
    "        compiled_data.append(word_data)\n",
    "    \n",
    "    return pd.DataFrame(compiled_data, columns=final_columns)\n",
    "        "
   ]
  },
  {
   "cell_type": "code",
   "execution_count": 21,
   "id": "d7f49c35-9b88-471c-8ec6-d42be903c9de",
   "metadata": {},
   "outputs": [
    {
     "data": {
      "text/plain": [
       "nigger       1\n",
       "crap         1\n",
       "fornicate    1\n",
       "vagina       1\n",
       "damn         1\n",
       "            ..\n",
       "moron        1\n",
       "hooker       1\n",
       "dick         1\n",
       "goddamn      1\n",
       "cunt         1\n",
       "Name: word, Length: 84, dtype: int64"
      ]
     },
     "execution_count": 21,
     "metadata": {},
     "output_type": "execute_result"
    }
   ],
   "source": [
    "compile_word_vectors(list(data_df.columns)[9:])['word'].value_counts()"
   ]
  },
  {
   "cell_type": "code",
   "execution_count": 22,
   "id": "47616a42-96c2-4567-8aa7-6b163b48c793",
   "metadata": {},
   "outputs": [
    {
     "data": {
      "text/plain": [
       "92"
      ]
     },
     "execution_count": 22,
     "metadata": {},
     "output_type": "execute_result"
    }
   ],
   "source": [
    "len(list(data_df.columns)[9:])"
   ]
  },
  {
   "cell_type": "markdown",
   "id": "639a6d9c-9509-49cd-8a23-d68c95584874",
   "metadata": {},
   "source": [
    "Check missing words"
   ]
  },
  {
   "cell_type": "code",
   "execution_count": 23,
   "id": "9c1f00b5-0ea9-4253-8ad2-98a99a22147b",
   "metadata": {},
   "outputs": [
    {
     "name": "stdout",
     "output_type": "stream",
     "text": [
      "cocksucker\n",
      "buttfuck\n",
      "shithead\n",
      "lesbo\n",
      "nutsack\n",
      "rimjob\n",
      "blowjob\n",
      "clit\n"
     ]
    }
   ],
   "source": [
    "word_vectors = compile_word_vectors(list(data_df.columns)[9:])\n",
    "for word in list(data_df.columns)[9:]:\n",
    "    if word not in word_vectors['word'].values:\n",
    "        print(word)"
   ]
  },
  {
   "cell_type": "markdown",
   "id": "53c9f0db-0f26-420a-8d46-c69edeccb808",
   "metadata": {},
   "source": [
    "format data into a regression or multi-class classification problem where each word is represented with a row with many features"
   ]
  },
  {
   "cell_type": "code",
   "execution_count": 24,
   "id": "ef148680-9276-4f22-ae27-163308f3f2e3",
   "metadata": {},
   "outputs": [],
   "source": [
    "def reformat_data(regression=True):\n",
    "    formatted_data = []\n",
    "    data_columns = list(data_df.columns)\n",
    "    \n",
    "    output_columns = [\n",
    "        'participant',\n",
    "        'age',\n",
    "        'langs_other_than_eng',\n",
    "        'gender',\n",
    "        'religiosity',\n",
    "        'major',\n",
    "        'college',\n",
    "        'word',\n",
    "        'rating',\n",
    "    ]\n",
    "    \n",
    "    for index, row in data_df.iterrows():\n",
    "        # grab sample features\n",
    "        participant = row['Participant']\n",
    "        age = row['Age']\n",
    "        langs_other_than_eng = row['languages_other_english']\n",
    "        gender = row['Gender']\n",
    "        religiosity = row['Religiosity']\n",
    "        major = row['major_standardized']\n",
    "        college = row['College']\n",
    "        \n",
    "        # create a sample for each word\n",
    "        for word_index in range(9, 101):\n",
    "            word = data_columns[word_index]\n",
    "            \n",
    "            # skip words without vectors\n",
    "            if word not in word_vectors['word'].values:\n",
    "                continue\n",
    "            \n",
    "            rating_raw = row[word]\n",
    "            \n",
    "            # initialize sample without dependent variable\n",
    "            sample = [\n",
    "                participant,\n",
    "                age,\n",
    "                langs_other_than_eng,\n",
    "                gender,\n",
    "                religiosity,\n",
    "                major,\n",
    "                college,\n",
    "                word,\n",
    "            ]\n",
    "            \n",
    "            # add dependent variable label\n",
    "            if regression is True:\n",
    "                # ignore empty responses for regression\n",
    "                if np.isnan(rating_raw):\n",
    "                    continue\n",
    "                \n",
    "                rating = int(rating_raw)\n",
    "                \n",
    "                sample.append(rating)\n",
    "                \n",
    "                \n",
    "            else:\n",
    "                rating = 0\n",
    "                if not np.isnan(rating_raw):\n",
    "                    rating = int(rating_raw)\n",
    "                sample.append(rating)\n",
    "            \n",
    "            # add sample to final data\n",
    "            formatted_data.append(sample)   \n",
    "    \n",
    "    # convert data to pandas DataFrame\n",
    "    formatted_data_df = pd.DataFrame(formatted_data, columns=output_columns)\n",
    "    # join word vector and additional features and return\n",
    "    additional_features_df = compile_word_vectors(list(data_df.columns)[9:])\n",
    "    data_vector = pd.merge(formatted_data_df, additional_features_df, on='word')\n",
    "    # join categorizations\n",
    "    return pd.merge(data_vector, categorize_df, on='word')\n",
    "    "
   ]
  },
  {
   "cell_type": "code",
   "execution_count": 25,
   "id": "013e0f23-bd29-45ef-8a5e-44656aa5477f",
   "metadata": {},
   "outputs": [
    {
     "data": {
      "text/html": [
       "<div>\n",
       "<style scoped>\n",
       "    .dataframe tbody tr th:only-of-type {\n",
       "        vertical-align: middle;\n",
       "    }\n",
       "\n",
       "    .dataframe tbody tr th {\n",
       "        vertical-align: top;\n",
       "    }\n",
       "\n",
       "    .dataframe thead th {\n",
       "        text-align: right;\n",
       "    }\n",
       "</style>\n",
       "<table border=\"1\" class=\"dataframe\">\n",
       "  <thead>\n",
       "    <tr style=\"text-align: right;\">\n",
       "      <th></th>\n",
       "      <th>participant</th>\n",
       "      <th>age</th>\n",
       "      <th>langs_other_than_eng</th>\n",
       "      <th>gender</th>\n",
       "      <th>religiosity</th>\n",
       "      <th>major</th>\n",
       "      <th>college</th>\n",
       "      <th>word</th>\n",
       "      <th>rating</th>\n",
       "      <th>syllables</th>\n",
       "      <th>...</th>\n",
       "      <th>v_48</th>\n",
       "      <th>v_49</th>\n",
       "      <th>religion</th>\n",
       "      <th>sex</th>\n",
       "      <th>body</th>\n",
       "      <th>excretion</th>\n",
       "      <th>slur</th>\n",
       "      <th>insult</th>\n",
       "      <th>formal</th>\n",
       "      <th>closed</th>\n",
       "    </tr>\n",
       "  </thead>\n",
       "  <tbody>\n",
       "    <tr>\n",
       "      <th>0</th>\n",
       "      <td>1</td>\n",
       "      <td>20</td>\n",
       "      <td>1</td>\n",
       "      <td>Male</td>\n",
       "      <td>1.0</td>\n",
       "      <td>social_science</td>\n",
       "      <td>Warren</td>\n",
       "      <td>nigger</td>\n",
       "      <td>1</td>\n",
       "      <td>2</td>\n",
       "      <td>...</td>\n",
       "      <td>0.21451</td>\n",
       "      <td>-0.04397</td>\n",
       "      <td>0</td>\n",
       "      <td>0</td>\n",
       "      <td>0</td>\n",
       "      <td>0</td>\n",
       "      <td>1</td>\n",
       "      <td>1</td>\n",
       "      <td>0</td>\n",
       "      <td>0</td>\n",
       "    </tr>\n",
       "    <tr>\n",
       "      <th>1</th>\n",
       "      <td>2</td>\n",
       "      <td>18</td>\n",
       "      <td>1</td>\n",
       "      <td>Male</td>\n",
       "      <td>1.0</td>\n",
       "      <td>arts_humanities</td>\n",
       "      <td>Sixth</td>\n",
       "      <td>nigger</td>\n",
       "      <td>1</td>\n",
       "      <td>2</td>\n",
       "      <td>...</td>\n",
       "      <td>0.21451</td>\n",
       "      <td>-0.04397</td>\n",
       "      <td>0</td>\n",
       "      <td>0</td>\n",
       "      <td>0</td>\n",
       "      <td>0</td>\n",
       "      <td>1</td>\n",
       "      <td>1</td>\n",
       "      <td>0</td>\n",
       "      <td>0</td>\n",
       "    </tr>\n",
       "    <tr>\n",
       "      <th>2</th>\n",
       "      <td>3</td>\n",
       "      <td>21</td>\n",
       "      <td>1</td>\n",
       "      <td>Male</td>\n",
       "      <td>3.0</td>\n",
       "      <td>social_science</td>\n",
       "      <td>Roosevelt</td>\n",
       "      <td>nigger</td>\n",
       "      <td>3</td>\n",
       "      <td>2</td>\n",
       "      <td>...</td>\n",
       "      <td>0.21451</td>\n",
       "      <td>-0.04397</td>\n",
       "      <td>0</td>\n",
       "      <td>0</td>\n",
       "      <td>0</td>\n",
       "      <td>0</td>\n",
       "      <td>1</td>\n",
       "      <td>1</td>\n",
       "      <td>0</td>\n",
       "      <td>0</td>\n",
       "    </tr>\n",
       "    <tr>\n",
       "      <th>3</th>\n",
       "      <td>4</td>\n",
       "      <td>20</td>\n",
       "      <td>0</td>\n",
       "      <td>Male</td>\n",
       "      <td>1.0</td>\n",
       "      <td>multi_interdisciplinary</td>\n",
       "      <td>Revelle</td>\n",
       "      <td>nigger</td>\n",
       "      <td>9</td>\n",
       "      <td>2</td>\n",
       "      <td>...</td>\n",
       "      <td>0.21451</td>\n",
       "      <td>-0.04397</td>\n",
       "      <td>0</td>\n",
       "      <td>0</td>\n",
       "      <td>0</td>\n",
       "      <td>0</td>\n",
       "      <td>1</td>\n",
       "      <td>1</td>\n",
       "      <td>0</td>\n",
       "      <td>0</td>\n",
       "    </tr>\n",
       "    <tr>\n",
       "      <th>4</th>\n",
       "      <td>5</td>\n",
       "      <td>22</td>\n",
       "      <td>0</td>\n",
       "      <td>Male</td>\n",
       "      <td>1.0</td>\n",
       "      <td>multi_interdisciplinary</td>\n",
       "      <td>Warren</td>\n",
       "      <td>nigger</td>\n",
       "      <td>9</td>\n",
       "      <td>2</td>\n",
       "      <td>...</td>\n",
       "      <td>0.21451</td>\n",
       "      <td>-0.04397</td>\n",
       "      <td>0</td>\n",
       "      <td>0</td>\n",
       "      <td>0</td>\n",
       "      <td>0</td>\n",
       "      <td>1</td>\n",
       "      <td>1</td>\n",
       "      <td>0</td>\n",
       "      <td>0</td>\n",
       "    </tr>\n",
       "  </tbody>\n",
       "</table>\n",
       "<p>5 rows × 70 columns</p>\n",
       "</div>"
      ],
      "text/plain": [
       "   participant  age  langs_other_than_eng gender  religiosity  \\\n",
       "0            1   20                     1   Male          1.0   \n",
       "1            2   18                     1   Male          1.0   \n",
       "2            3   21                     1   Male          3.0   \n",
       "3            4   20                     0   Male          1.0   \n",
       "4            5   22                     0   Male          1.0   \n",
       "\n",
       "                     major    college    word  rating  syllables  ...  \\\n",
       "0           social_science     Warren  nigger       1          2  ...   \n",
       "1          arts_humanities      Sixth  nigger       1          2  ...   \n",
       "2           social_science  Roosevelt  nigger       3          2  ...   \n",
       "3  multi_interdisciplinary    Revelle  nigger       9          2  ...   \n",
       "4  multi_interdisciplinary     Warren  nigger       9          2  ...   \n",
       "\n",
       "      v_48     v_49  religion  sex  body  excretion  slur  insult  formal  \\\n",
       "0  0.21451 -0.04397         0    0     0          0     1       1       0   \n",
       "1  0.21451 -0.04397         0    0     0          0     1       1       0   \n",
       "2  0.21451 -0.04397         0    0     0          0     1       1       0   \n",
       "3  0.21451 -0.04397         0    0     0          0     1       1       0   \n",
       "4  0.21451 -0.04397         0    0     0          0     1       1       0   \n",
       "\n",
       "   closed  \n",
       "0       0  \n",
       "1       0  \n",
       "2       0  \n",
       "3       0  \n",
       "4       0  \n",
       "\n",
       "[5 rows x 70 columns]"
      ]
     },
     "execution_count": 25,
     "metadata": {},
     "output_type": "execute_result"
    }
   ],
   "source": [
    "reformat_data().head()"
   ]
  },
  {
   "cell_type": "code",
   "execution_count": 26,
   "id": "c090d745-501c-47df-8b44-a01bb0f3665c",
   "metadata": {},
   "outputs": [
    {
     "data": {
      "text/plain": [
       "religiosity    84\n",
       "college        81\n",
       "dtype: int64"
      ]
     },
     "execution_count": 26,
     "metadata": {},
     "output_type": "execute_result"
    }
   ],
   "source": [
    "na_count = reformat_data().isna().sum()\n",
    "na_count[na_count > 0]"
   ]
  },
  {
   "cell_type": "markdown",
   "id": "13be8222-29ca-430f-a680-d8fd84cf80a4",
   "metadata": {
    "jp-MarkdownHeadingCollapsed": true,
    "tags": []
   },
   "source": [
    "### Preprocessing\n",
    "Initialize Sci-Kit preprocessing pipelines"
   ]
  },
  {
   "cell_type": "code",
   "execution_count": 27,
   "id": "5aa43a4b-7e98-4a2b-9745-db67a6c4148e",
   "metadata": {},
   "outputs": [],
   "source": [
    "from sklearn.compose import ColumnTransformer\n",
    "from sklearn.preprocessing import StandardScaler, OneHotEncoder\n",
    "from sklearn.pipeline import Pipeline\n",
    "from sklearn.impute import SimpleImputer"
   ]
  },
  {
   "cell_type": "code",
   "execution_count": 28,
   "id": "8c574cf7-007c-4bc9-83d6-9b7ba17251bb",
   "metadata": {},
   "outputs": [],
   "source": [
    "# impute and standard scale\n",
    "numerical_fields = ['age', 'langs_other_than_eng', 'religiosity', 'syllables', 'vowels', 'letters'] + [f'v_{i}' for i in range(50)]"
   ]
  },
  {
   "cell_type": "code",
   "execution_count": 29,
   "id": "36523893-69b7-4864-85c8-f154020d4099",
   "metadata": {},
   "outputs": [],
   "source": [
    "# one hot encode\n",
    "one_hot_fields = ['gender', 'major']"
   ]
  },
  {
   "cell_type": "code",
   "execution_count": 30,
   "id": "9dbdd96d-a669-4095-8f79-301318263c0d",
   "metadata": {},
   "outputs": [],
   "source": [
    "# pass through without preprocessing\n",
    "pass_through_fields = ['sex', 'body', 'excretion', 'slur', 'insult', 'formal', 'closed']"
   ]
  },
  {
   "cell_type": "code",
   "execution_count": 31,
   "id": "0b6697b5-2107-4280-a26a-bbbca15c6669",
   "metadata": {},
   "outputs": [],
   "source": [
    "numerical_pipeline = Pipeline([\n",
    "    ('impute', SimpleImputer(strategy='median')),\n",
    "    ('std_scale', StandardScaler())\n",
    "])"
   ]
  },
  {
   "cell_type": "code",
   "execution_count": 32,
   "id": "faec5ba6-6786-4b27-820d-74c90ce3a5ee",
   "metadata": {},
   "outputs": [],
   "source": [
    "full_pipeline = ColumnTransformer([\n",
    "    ('num', numerical_pipeline, numerical_fields),\n",
    "    ('ohe', OneHotEncoder(), one_hot_fields),\n",
    "    ('pass', 'passthrough', pass_through_fields)\n",
    "], sparse_threshold=0)"
   ]
  },
  {
   "cell_type": "markdown",
   "id": "b64f551d-e830-4617-915d-a628f6b5d8df",
   "metadata": {
    "jp-MarkdownHeadingCollapsed": true,
    "tags": []
   },
   "source": [
    "# Statsmodels - Regression\n",
    "Analysis using Ordinary Least Squares with Statsmodels"
   ]
  },
  {
   "cell_type": "code",
   "execution_count": 33,
   "id": "981fff88-2922-427c-85d2-4fa13f46df0b",
   "metadata": {},
   "outputs": [],
   "source": [
    "regression_data_df = reformat_data()"
   ]
  },
  {
   "cell_type": "code",
   "execution_count": 34,
   "id": "5d6d217d-d98b-42b5-ac5f-ef7801aa218c",
   "metadata": {},
   "outputs": [
    {
     "data": {
      "text/html": [
       "<div>\n",
       "<style scoped>\n",
       "    .dataframe tbody tr th:only-of-type {\n",
       "        vertical-align: middle;\n",
       "    }\n",
       "\n",
       "    .dataframe tbody tr th {\n",
       "        vertical-align: top;\n",
       "    }\n",
       "\n",
       "    .dataframe thead th {\n",
       "        text-align: right;\n",
       "    }\n",
       "</style>\n",
       "<table border=\"1\" class=\"dataframe\">\n",
       "  <thead>\n",
       "    <tr style=\"text-align: right;\">\n",
       "      <th></th>\n",
       "      <th>participant</th>\n",
       "      <th>age</th>\n",
       "      <th>langs_other_than_eng</th>\n",
       "      <th>gender</th>\n",
       "      <th>religiosity</th>\n",
       "      <th>major</th>\n",
       "      <th>college</th>\n",
       "      <th>word</th>\n",
       "      <th>rating</th>\n",
       "      <th>syllables</th>\n",
       "      <th>...</th>\n",
       "      <th>v_48</th>\n",
       "      <th>v_49</th>\n",
       "      <th>religion</th>\n",
       "      <th>sex</th>\n",
       "      <th>body</th>\n",
       "      <th>excretion</th>\n",
       "      <th>slur</th>\n",
       "      <th>insult</th>\n",
       "      <th>formal</th>\n",
       "      <th>closed</th>\n",
       "    </tr>\n",
       "  </thead>\n",
       "  <tbody>\n",
       "    <tr>\n",
       "      <th>0</th>\n",
       "      <td>1</td>\n",
       "      <td>20</td>\n",
       "      <td>1</td>\n",
       "      <td>Male</td>\n",
       "      <td>1.0</td>\n",
       "      <td>social_science</td>\n",
       "      <td>Warren</td>\n",
       "      <td>nigger</td>\n",
       "      <td>1</td>\n",
       "      <td>2</td>\n",
       "      <td>...</td>\n",
       "      <td>0.21451</td>\n",
       "      <td>-0.04397</td>\n",
       "      <td>0</td>\n",
       "      <td>0</td>\n",
       "      <td>0</td>\n",
       "      <td>0</td>\n",
       "      <td>1</td>\n",
       "      <td>1</td>\n",
       "      <td>0</td>\n",
       "      <td>0</td>\n",
       "    </tr>\n",
       "    <tr>\n",
       "      <th>1</th>\n",
       "      <td>2</td>\n",
       "      <td>18</td>\n",
       "      <td>1</td>\n",
       "      <td>Male</td>\n",
       "      <td>1.0</td>\n",
       "      <td>arts_humanities</td>\n",
       "      <td>Sixth</td>\n",
       "      <td>nigger</td>\n",
       "      <td>1</td>\n",
       "      <td>2</td>\n",
       "      <td>...</td>\n",
       "      <td>0.21451</td>\n",
       "      <td>-0.04397</td>\n",
       "      <td>0</td>\n",
       "      <td>0</td>\n",
       "      <td>0</td>\n",
       "      <td>0</td>\n",
       "      <td>1</td>\n",
       "      <td>1</td>\n",
       "      <td>0</td>\n",
       "      <td>0</td>\n",
       "    </tr>\n",
       "    <tr>\n",
       "      <th>2</th>\n",
       "      <td>3</td>\n",
       "      <td>21</td>\n",
       "      <td>1</td>\n",
       "      <td>Male</td>\n",
       "      <td>3.0</td>\n",
       "      <td>social_science</td>\n",
       "      <td>Roosevelt</td>\n",
       "      <td>nigger</td>\n",
       "      <td>3</td>\n",
       "      <td>2</td>\n",
       "      <td>...</td>\n",
       "      <td>0.21451</td>\n",
       "      <td>-0.04397</td>\n",
       "      <td>0</td>\n",
       "      <td>0</td>\n",
       "      <td>0</td>\n",
       "      <td>0</td>\n",
       "      <td>1</td>\n",
       "      <td>1</td>\n",
       "      <td>0</td>\n",
       "      <td>0</td>\n",
       "    </tr>\n",
       "    <tr>\n",
       "      <th>3</th>\n",
       "      <td>4</td>\n",
       "      <td>20</td>\n",
       "      <td>0</td>\n",
       "      <td>Male</td>\n",
       "      <td>1.0</td>\n",
       "      <td>multi_interdisciplinary</td>\n",
       "      <td>Revelle</td>\n",
       "      <td>nigger</td>\n",
       "      <td>9</td>\n",
       "      <td>2</td>\n",
       "      <td>...</td>\n",
       "      <td>0.21451</td>\n",
       "      <td>-0.04397</td>\n",
       "      <td>0</td>\n",
       "      <td>0</td>\n",
       "      <td>0</td>\n",
       "      <td>0</td>\n",
       "      <td>1</td>\n",
       "      <td>1</td>\n",
       "      <td>0</td>\n",
       "      <td>0</td>\n",
       "    </tr>\n",
       "    <tr>\n",
       "      <th>4</th>\n",
       "      <td>5</td>\n",
       "      <td>22</td>\n",
       "      <td>0</td>\n",
       "      <td>Male</td>\n",
       "      <td>1.0</td>\n",
       "      <td>multi_interdisciplinary</td>\n",
       "      <td>Warren</td>\n",
       "      <td>nigger</td>\n",
       "      <td>9</td>\n",
       "      <td>2</td>\n",
       "      <td>...</td>\n",
       "      <td>0.21451</td>\n",
       "      <td>-0.04397</td>\n",
       "      <td>0</td>\n",
       "      <td>0</td>\n",
       "      <td>0</td>\n",
       "      <td>0</td>\n",
       "      <td>1</td>\n",
       "      <td>1</td>\n",
       "      <td>0</td>\n",
       "      <td>0</td>\n",
       "    </tr>\n",
       "  </tbody>\n",
       "</table>\n",
       "<p>5 rows × 70 columns</p>\n",
       "</div>"
      ],
      "text/plain": [
       "   participant  age  langs_other_than_eng gender  religiosity  \\\n",
       "0            1   20                     1   Male          1.0   \n",
       "1            2   18                     1   Male          1.0   \n",
       "2            3   21                     1   Male          3.0   \n",
       "3            4   20                     0   Male          1.0   \n",
       "4            5   22                     0   Male          1.0   \n",
       "\n",
       "                     major    college    word  rating  syllables  ...  \\\n",
       "0           social_science     Warren  nigger       1          2  ...   \n",
       "1          arts_humanities      Sixth  nigger       1          2  ...   \n",
       "2           social_science  Roosevelt  nigger       3          2  ...   \n",
       "3  multi_interdisciplinary    Revelle  nigger       9          2  ...   \n",
       "4  multi_interdisciplinary     Warren  nigger       9          2  ...   \n",
       "\n",
       "      v_48     v_49  religion  sex  body  excretion  slur  insult  formal  \\\n",
       "0  0.21451 -0.04397         0    0     0          0     1       1       0   \n",
       "1  0.21451 -0.04397         0    0     0          0     1       1       0   \n",
       "2  0.21451 -0.04397         0    0     0          0     1       1       0   \n",
       "3  0.21451 -0.04397         0    0     0          0     1       1       0   \n",
       "4  0.21451 -0.04397         0    0     0          0     1       1       0   \n",
       "\n",
       "   closed  \n",
       "0       0  \n",
       "1       0  \n",
       "2       0  \n",
       "3       0  \n",
       "4       0  \n",
       "\n",
       "[5 rows x 70 columns]"
      ]
     },
     "execution_count": 34,
     "metadata": {},
     "output_type": "execute_result"
    }
   ],
   "source": [
    "regression_data_df.head()"
   ]
  },
  {
   "cell_type": "code",
   "execution_count": 35,
   "id": "bd8e949d-cbef-47c5-bbc7-fb7373a42c01",
   "metadata": {},
   "outputs": [],
   "source": [
    "X = regression_data_df.drop(['rating'], axis=1)\n",
    "y = regression_data_df['rating']"
   ]
  },
  {
   "cell_type": "code",
   "execution_count": 36,
   "id": "a93647a4-d077-4fbb-980a-a5f7b0b43735",
   "metadata": {},
   "outputs": [
    {
     "data": {
      "text/plain": [
       "(7360, 69)"
      ]
     },
     "execution_count": 36,
     "metadata": {},
     "output_type": "execute_result"
    }
   ],
   "source": [
    "X.shape"
   ]
  },
  {
   "cell_type": "code",
   "execution_count": 37,
   "id": "7764f3f1-2b90-4e86-a2d3-12d99594e1b4",
   "metadata": {},
   "outputs": [
    {
     "data": {
      "text/plain": [
       "(7360,)"
      ]
     },
     "execution_count": 37,
     "metadata": {},
     "output_type": "execute_result"
    }
   ],
   "source": [
    "y.shape"
   ]
  },
  {
   "cell_type": "code",
   "execution_count": 38,
   "id": "096e6a7c-bf77-48f5-ba6c-48c8971bd881",
   "metadata": {},
   "outputs": [],
   "source": [
    "X_processed = full_pipeline.fit_transform(X)"
   ]
  },
  {
   "cell_type": "markdown",
   "id": "55ed328f-2cd7-4ad7-8fde-72ad2c789744",
   "metadata": {},
   "source": [
    "re-convert to pandas dataframe to preserve feature names"
   ]
  },
  {
   "cell_type": "code",
   "execution_count": 39,
   "id": "d2abc506-da92-4975-89a1-3d24ab8e9e1c",
   "metadata": {},
   "outputs": [],
   "source": [
    "X_processed_df = pd.DataFrame(X_processed, columns=full_pipeline.get_feature_names_out())"
   ]
  },
  {
   "cell_type": "code",
   "execution_count": 40,
   "id": "8000b5de-c23f-4851-bc24-0902094a3cab",
   "metadata": {},
   "outputs": [
    {
     "data": {
      "text/html": [
       "<div>\n",
       "<style scoped>\n",
       "    .dataframe tbody tr th:only-of-type {\n",
       "        vertical-align: middle;\n",
       "    }\n",
       "\n",
       "    .dataframe tbody tr th {\n",
       "        vertical-align: top;\n",
       "    }\n",
       "\n",
       "    .dataframe thead th {\n",
       "        text-align: right;\n",
       "    }\n",
       "</style>\n",
       "<table border=\"1\" class=\"dataframe\">\n",
       "  <thead>\n",
       "    <tr style=\"text-align: right;\">\n",
       "      <th></th>\n",
       "      <th>num__age</th>\n",
       "      <th>num__langs_other_than_eng</th>\n",
       "      <th>num__religiosity</th>\n",
       "      <th>num__syllables</th>\n",
       "      <th>num__vowels</th>\n",
       "      <th>num__letters</th>\n",
       "      <th>num__v_0</th>\n",
       "      <th>num__v_1</th>\n",
       "      <th>num__v_2</th>\n",
       "      <th>num__v_3</th>\n",
       "      <th>...</th>\n",
       "      <th>ohe__major_social_science</th>\n",
       "      <th>ohe__major_stem</th>\n",
       "      <th>ohe__major_undeclared</th>\n",
       "      <th>pass__sex</th>\n",
       "      <th>pass__body</th>\n",
       "      <th>pass__excretion</th>\n",
       "      <th>pass__slur</th>\n",
       "      <th>pass__insult</th>\n",
       "      <th>pass__formal</th>\n",
       "      <th>pass__closed</th>\n",
       "    </tr>\n",
       "  </thead>\n",
       "  <tbody>\n",
       "    <tr>\n",
       "      <th>0</th>\n",
       "      <td>0.616088</td>\n",
       "      <td>0.783882</td>\n",
       "      <td>-0.765381</td>\n",
       "      <td>0.434957</td>\n",
       "      <td>0.157025</td>\n",
       "      <td>0.307905</td>\n",
       "      <td>-1.000794</td>\n",
       "      <td>0.147214</td>\n",
       "      <td>-0.245671</td>\n",
       "      <td>-0.504823</td>\n",
       "      <td>...</td>\n",
       "      <td>1.0</td>\n",
       "      <td>0.0</td>\n",
       "      <td>0.0</td>\n",
       "      <td>0.0</td>\n",
       "      <td>0.0</td>\n",
       "      <td>0.0</td>\n",
       "      <td>1.0</td>\n",
       "      <td>1.0</td>\n",
       "      <td>0.0</td>\n",
       "      <td>0.0</td>\n",
       "    </tr>\n",
       "    <tr>\n",
       "      <th>1</th>\n",
       "      <td>-0.587790</td>\n",
       "      <td>0.783882</td>\n",
       "      <td>-0.765381</td>\n",
       "      <td>0.434957</td>\n",
       "      <td>0.157025</td>\n",
       "      <td>0.307905</td>\n",
       "      <td>-1.000794</td>\n",
       "      <td>0.147214</td>\n",
       "      <td>-0.245671</td>\n",
       "      <td>-0.504823</td>\n",
       "      <td>...</td>\n",
       "      <td>0.0</td>\n",
       "      <td>0.0</td>\n",
       "      <td>0.0</td>\n",
       "      <td>0.0</td>\n",
       "      <td>0.0</td>\n",
       "      <td>0.0</td>\n",
       "      <td>1.0</td>\n",
       "      <td>1.0</td>\n",
       "      <td>0.0</td>\n",
       "      <td>0.0</td>\n",
       "    </tr>\n",
       "    <tr>\n",
       "      <th>2</th>\n",
       "      <td>1.218027</td>\n",
       "      <td>0.783882</td>\n",
       "      <td>1.056777</td>\n",
       "      <td>0.434957</td>\n",
       "      <td>0.157025</td>\n",
       "      <td>0.307905</td>\n",
       "      <td>-1.000794</td>\n",
       "      <td>0.147214</td>\n",
       "      <td>-0.245671</td>\n",
       "      <td>-0.504823</td>\n",
       "      <td>...</td>\n",
       "      <td>1.0</td>\n",
       "      <td>0.0</td>\n",
       "      <td>0.0</td>\n",
       "      <td>0.0</td>\n",
       "      <td>0.0</td>\n",
       "      <td>0.0</td>\n",
       "      <td>1.0</td>\n",
       "      <td>1.0</td>\n",
       "      <td>0.0</td>\n",
       "      <td>0.0</td>\n",
       "    </tr>\n",
       "    <tr>\n",
       "      <th>3</th>\n",
       "      <td>0.616088</td>\n",
       "      <td>-1.024132</td>\n",
       "      <td>-0.765381</td>\n",
       "      <td>0.434957</td>\n",
       "      <td>0.157025</td>\n",
       "      <td>0.307905</td>\n",
       "      <td>-1.000794</td>\n",
       "      <td>0.147214</td>\n",
       "      <td>-0.245671</td>\n",
       "      <td>-0.504823</td>\n",
       "      <td>...</td>\n",
       "      <td>0.0</td>\n",
       "      <td>0.0</td>\n",
       "      <td>0.0</td>\n",
       "      <td>0.0</td>\n",
       "      <td>0.0</td>\n",
       "      <td>0.0</td>\n",
       "      <td>1.0</td>\n",
       "      <td>1.0</td>\n",
       "      <td>0.0</td>\n",
       "      <td>0.0</td>\n",
       "    </tr>\n",
       "    <tr>\n",
       "      <th>4</th>\n",
       "      <td>1.819966</td>\n",
       "      <td>-1.024132</td>\n",
       "      <td>-0.765381</td>\n",
       "      <td>0.434957</td>\n",
       "      <td>0.157025</td>\n",
       "      <td>0.307905</td>\n",
       "      <td>-1.000794</td>\n",
       "      <td>0.147214</td>\n",
       "      <td>-0.245671</td>\n",
       "      <td>-0.504823</td>\n",
       "      <td>...</td>\n",
       "      <td>0.0</td>\n",
       "      <td>0.0</td>\n",
       "      <td>0.0</td>\n",
       "      <td>0.0</td>\n",
       "      <td>0.0</td>\n",
       "      <td>0.0</td>\n",
       "      <td>1.0</td>\n",
       "      <td>1.0</td>\n",
       "      <td>0.0</td>\n",
       "      <td>0.0</td>\n",
       "    </tr>\n",
       "  </tbody>\n",
       "</table>\n",
       "<p>5 rows × 71 columns</p>\n",
       "</div>"
      ],
      "text/plain": [
       "   num__age  num__langs_other_than_eng  num__religiosity  num__syllables  \\\n",
       "0  0.616088                   0.783882         -0.765381        0.434957   \n",
       "1 -0.587790                   0.783882         -0.765381        0.434957   \n",
       "2  1.218027                   0.783882          1.056777        0.434957   \n",
       "3  0.616088                  -1.024132         -0.765381        0.434957   \n",
       "4  1.819966                  -1.024132         -0.765381        0.434957   \n",
       "\n",
       "   num__vowels  num__letters  num__v_0  num__v_1  num__v_2  num__v_3  ...  \\\n",
       "0     0.157025      0.307905 -1.000794  0.147214 -0.245671 -0.504823  ...   \n",
       "1     0.157025      0.307905 -1.000794  0.147214 -0.245671 -0.504823  ...   \n",
       "2     0.157025      0.307905 -1.000794  0.147214 -0.245671 -0.504823  ...   \n",
       "3     0.157025      0.307905 -1.000794  0.147214 -0.245671 -0.504823  ...   \n",
       "4     0.157025      0.307905 -1.000794  0.147214 -0.245671 -0.504823  ...   \n",
       "\n",
       "   ohe__major_social_science  ohe__major_stem  ohe__major_undeclared  \\\n",
       "0                        1.0              0.0                    0.0   \n",
       "1                        0.0              0.0                    0.0   \n",
       "2                        1.0              0.0                    0.0   \n",
       "3                        0.0              0.0                    0.0   \n",
       "4                        0.0              0.0                    0.0   \n",
       "\n",
       "   pass__sex  pass__body  pass__excretion  pass__slur  pass__insult  \\\n",
       "0        0.0         0.0              0.0         1.0           1.0   \n",
       "1        0.0         0.0              0.0         1.0           1.0   \n",
       "2        0.0         0.0              0.0         1.0           1.0   \n",
       "3        0.0         0.0              0.0         1.0           1.0   \n",
       "4        0.0         0.0              0.0         1.0           1.0   \n",
       "\n",
       "   pass__formal  pass__closed  \n",
       "0           0.0           0.0  \n",
       "1           0.0           0.0  \n",
       "2           0.0           0.0  \n",
       "3           0.0           0.0  \n",
       "4           0.0           0.0  \n",
       "\n",
       "[5 rows x 71 columns]"
      ]
     },
     "execution_count": 40,
     "metadata": {},
     "output_type": "execute_result"
    }
   ],
   "source": [
    "X_processed_df.head()"
   ]
  },
  {
   "cell_type": "code",
   "execution_count": 41,
   "id": "9229a429-dff0-42b8-a1bd-3f210ccb37c8",
   "metadata": {},
   "outputs": [],
   "source": [
    "ols_mdl = sm.OLS(y, sm.add_constant(X_processed_df))"
   ]
  },
  {
   "cell_type": "code",
   "execution_count": 42,
   "id": "56048766-ebe1-477e-8671-ae56b2717dcc",
   "metadata": {},
   "outputs": [],
   "source": [
    "ols_mdl_fit = ols_mdl.fit()"
   ]
  },
  {
   "cell_type": "code",
   "execution_count": 43,
   "id": "73fea48f-41ec-40ee-b4b8-8f88ec478276",
   "metadata": {},
   "outputs": [
    {
     "data": {
      "text/html": [
       "<table class=\"simpletable\">\n",
       "<caption>OLS Regression Results</caption>\n",
       "<tr>\n",
       "  <th>Dep. Variable:</th>         <td>rating</td>      <th>  R-squared:         </th> <td>   0.412</td> \n",
       "</tr>\n",
       "<tr>\n",
       "  <th>Model:</th>                   <td>OLS</td>       <th>  Adj. R-squared:    </th> <td>   0.406</td> \n",
       "</tr>\n",
       "<tr>\n",
       "  <th>Method:</th>             <td>Least Squares</td>  <th>  F-statistic:       </th> <td>   74.01</td> \n",
       "</tr>\n",
       "<tr>\n",
       "  <th>Date:</th>             <td>Sun, 20 Nov 2022</td> <th>  Prob (F-statistic):</th>  <td>  0.00</td>  \n",
       "</tr>\n",
       "<tr>\n",
       "  <th>Time:</th>                 <td>17:04:37</td>     <th>  Log-Likelihood:    </th> <td> -14047.</td> \n",
       "</tr>\n",
       "<tr>\n",
       "  <th>No. Observations:</th>      <td>  7360</td>      <th>  AIC:               </th> <td>2.823e+04</td>\n",
       "</tr>\n",
       "<tr>\n",
       "  <th>Df Residuals:</th>          <td>  7290</td>      <th>  BIC:               </th> <td>2.872e+04</td>\n",
       "</tr>\n",
       "<tr>\n",
       "  <th>Df Model:</th>              <td>    69</td>      <th>                     </th>     <td> </td>    \n",
       "</tr>\n",
       "<tr>\n",
       "  <th>Covariance Type:</th>      <td>nonrobust</td>    <th>                     </th>     <td> </td>    \n",
       "</tr>\n",
       "</table>\n",
       "<table class=\"simpletable\">\n",
       "<tr>\n",
       "                   <td></td>                     <th>coef</th>     <th>std err</th>      <th>t</th>      <th>P>|t|</th>  <th>[0.025</th>    <th>0.975]</th>  \n",
       "</tr>\n",
       "<tr>\n",
       "  <th>const</th>                              <td>    1.0934</td> <td>    0.065</td> <td>   16.862</td> <td> 0.000</td> <td>    0.966</td> <td>    1.221</td>\n",
       "</tr>\n",
       "<tr>\n",
       "  <th>num__age</th>                           <td>    0.2818</td> <td>    0.020</td> <td>   13.929</td> <td> 0.000</td> <td>    0.242</td> <td>    0.321</td>\n",
       "</tr>\n",
       "<tr>\n",
       "  <th>num__langs_other_than_eng</th>          <td>   -0.0999</td> <td>    0.020</td> <td>   -4.916</td> <td> 0.000</td> <td>   -0.140</td> <td>   -0.060</td>\n",
       "</tr>\n",
       "<tr>\n",
       "  <th>num__religiosity</th>                   <td>    0.1677</td> <td>    0.020</td> <td>    8.447</td> <td> 0.000</td> <td>    0.129</td> <td>    0.207</td>\n",
       "</tr>\n",
       "<tr>\n",
       "  <th>num__syllables</th>                     <td>   -0.1206</td> <td>    0.100</td> <td>   -1.209</td> <td> 0.227</td> <td>   -0.316</td> <td>    0.075</td>\n",
       "</tr>\n",
       "<tr>\n",
       "  <th>num__vowels</th>                        <td>    0.0328</td> <td>    0.104</td> <td>    0.317</td> <td> 0.752</td> <td>   -0.170</td> <td>    0.236</td>\n",
       "</tr>\n",
       "<tr>\n",
       "  <th>num__letters</th>                       <td>    0.3015</td> <td>    0.075</td> <td>    3.996</td> <td> 0.000</td> <td>    0.154</td> <td>    0.449</td>\n",
       "</tr>\n",
       "<tr>\n",
       "  <th>num__v_0</th>                           <td>    0.1737</td> <td>    0.103</td> <td>    1.686</td> <td> 0.092</td> <td>   -0.028</td> <td>    0.376</td>\n",
       "</tr>\n",
       "<tr>\n",
       "  <th>num__v_1</th>                           <td>    0.9637</td> <td>    0.135</td> <td>    7.131</td> <td> 0.000</td> <td>    0.699</td> <td>    1.229</td>\n",
       "</tr>\n",
       "<tr>\n",
       "  <th>num__v_2</th>                           <td>   -0.6052</td> <td>    0.142</td> <td>   -4.259</td> <td> 0.000</td> <td>   -0.884</td> <td>   -0.327</td>\n",
       "</tr>\n",
       "<tr>\n",
       "  <th>num__v_3</th>                           <td>   -0.1016</td> <td>    0.144</td> <td>   -0.708</td> <td> 0.479</td> <td>   -0.383</td> <td>    0.180</td>\n",
       "</tr>\n",
       "<tr>\n",
       "  <th>num__v_4</th>                           <td>    0.5354</td> <td>    0.132</td> <td>    4.061</td> <td> 0.000</td> <td>    0.277</td> <td>    0.794</td>\n",
       "</tr>\n",
       "<tr>\n",
       "  <th>num__v_5</th>                           <td>   -0.1019</td> <td>    0.087</td> <td>   -1.167</td> <td> 0.243</td> <td>   -0.273</td> <td>    0.069</td>\n",
       "</tr>\n",
       "<tr>\n",
       "  <th>num__v_6</th>                           <td>   -0.6837</td> <td>    0.187</td> <td>   -3.651</td> <td> 0.000</td> <td>   -1.051</td> <td>   -0.317</td>\n",
       "</tr>\n",
       "<tr>\n",
       "  <th>num__v_7</th>                           <td>   -0.0059</td> <td>    0.141</td> <td>   -0.042</td> <td> 0.966</td> <td>   -0.282</td> <td>    0.270</td>\n",
       "</tr>\n",
       "<tr>\n",
       "  <th>num__v_8</th>                           <td>   -0.2909</td> <td>    0.072</td> <td>   -4.021</td> <td> 0.000</td> <td>   -0.433</td> <td>   -0.149</td>\n",
       "</tr>\n",
       "<tr>\n",
       "  <th>num__v_9</th>                           <td>    0.3085</td> <td>    0.165</td> <td>    1.864</td> <td> 0.062</td> <td>   -0.016</td> <td>    0.633</td>\n",
       "</tr>\n",
       "<tr>\n",
       "  <th>num__v_10</th>                          <td>    1.7255</td> <td>    0.323</td> <td>    5.340</td> <td> 0.000</td> <td>    1.092</td> <td>    2.359</td>\n",
       "</tr>\n",
       "<tr>\n",
       "  <th>num__v_11</th>                          <td>   -0.9303</td> <td>    0.194</td> <td>   -4.801</td> <td> 0.000</td> <td>   -1.310</td> <td>   -0.550</td>\n",
       "</tr>\n",
       "<tr>\n",
       "  <th>num__v_12</th>                          <td>   -1.5116</td> <td>    0.264</td> <td>   -5.717</td> <td> 0.000</td> <td>   -2.030</td> <td>   -0.993</td>\n",
       "</tr>\n",
       "<tr>\n",
       "  <th>num__v_13</th>                          <td>   -0.8884</td> <td>    0.131</td> <td>   -6.773</td> <td> 0.000</td> <td>   -1.146</td> <td>   -0.631</td>\n",
       "</tr>\n",
       "<tr>\n",
       "  <th>num__v_14</th>                          <td>   -1.2024</td> <td>    0.241</td> <td>   -4.995</td> <td> 0.000</td> <td>   -1.674</td> <td>   -0.731</td>\n",
       "</tr>\n",
       "<tr>\n",
       "  <th>num__v_15</th>                          <td>   -0.5394</td> <td>    0.149</td> <td>   -3.620</td> <td> 0.000</td> <td>   -0.831</td> <td>   -0.247</td>\n",
       "</tr>\n",
       "<tr>\n",
       "  <th>num__v_16</th>                          <td>   -0.0780</td> <td>    0.087</td> <td>   -0.892</td> <td> 0.372</td> <td>   -0.249</td> <td>    0.093</td>\n",
       "</tr>\n",
       "<tr>\n",
       "  <th>num__v_17</th>                          <td>   -0.2194</td> <td>    0.180</td> <td>   -1.217</td> <td> 0.224</td> <td>   -0.573</td> <td>    0.134</td>\n",
       "</tr>\n",
       "<tr>\n",
       "  <th>num__v_18</th>                          <td>    0.6078</td> <td>    0.126</td> <td>    4.826</td> <td> 0.000</td> <td>    0.361</td> <td>    0.855</td>\n",
       "</tr>\n",
       "<tr>\n",
       "  <th>num__v_19</th>                          <td>    0.1158</td> <td>    0.165</td> <td>    0.702</td> <td> 0.483</td> <td>   -0.208</td> <td>    0.439</td>\n",
       "</tr>\n",
       "<tr>\n",
       "  <th>num__v_20</th>                          <td>    1.1624</td> <td>    0.191</td> <td>    6.075</td> <td> 0.000</td> <td>    0.787</td> <td>    1.537</td>\n",
       "</tr>\n",
       "<tr>\n",
       "  <th>num__v_21</th>                          <td>   -1.4036</td> <td>    0.228</td> <td>   -6.154</td> <td> 0.000</td> <td>   -1.851</td> <td>   -0.956</td>\n",
       "</tr>\n",
       "<tr>\n",
       "  <th>num__v_22</th>                          <td>    1.0580</td> <td>    0.185</td> <td>    5.711</td> <td> 0.000</td> <td>    0.695</td> <td>    1.421</td>\n",
       "</tr>\n",
       "<tr>\n",
       "  <th>num__v_23</th>                          <td>   -0.3448</td> <td>    0.178</td> <td>   -1.936</td> <td> 0.053</td> <td>   -0.694</td> <td>    0.004</td>\n",
       "</tr>\n",
       "<tr>\n",
       "  <th>num__v_24</th>                          <td>    1.0724</td> <td>    0.233</td> <td>    4.610</td> <td> 0.000</td> <td>    0.616</td> <td>    1.528</td>\n",
       "</tr>\n",
       "<tr>\n",
       "  <th>num__v_25</th>                          <td>    0.4329</td> <td>    0.207</td> <td>    2.095</td> <td> 0.036</td> <td>    0.028</td> <td>    0.838</td>\n",
       "</tr>\n",
       "<tr>\n",
       "  <th>num__v_26</th>                          <td>    0.1822</td> <td>    0.098</td> <td>    1.865</td> <td> 0.062</td> <td>   -0.009</td> <td>    0.374</td>\n",
       "</tr>\n",
       "<tr>\n",
       "  <th>num__v_27</th>                          <td>    0.4307</td> <td>    0.234</td> <td>    1.839</td> <td> 0.066</td> <td>   -0.028</td> <td>    0.890</td>\n",
       "</tr>\n",
       "<tr>\n",
       "  <th>num__v_28</th>                          <td>    0.0408</td> <td>    0.135</td> <td>    0.303</td> <td> 0.762</td> <td>   -0.223</td> <td>    0.305</td>\n",
       "</tr>\n",
       "<tr>\n",
       "  <th>num__v_29</th>                          <td>   -0.1695</td> <td>    0.177</td> <td>   -0.958</td> <td> 0.338</td> <td>   -0.517</td> <td>    0.177</td>\n",
       "</tr>\n",
       "<tr>\n",
       "  <th>num__v_30</th>                          <td>   -0.5000</td> <td>    0.155</td> <td>   -3.218</td> <td> 0.001</td> <td>   -0.805</td> <td>   -0.195</td>\n",
       "</tr>\n",
       "<tr>\n",
       "  <th>num__v_31</th>                          <td>   -0.3903</td> <td>    0.114</td> <td>   -3.422</td> <td> 0.001</td> <td>   -0.614</td> <td>   -0.167</td>\n",
       "</tr>\n",
       "<tr>\n",
       "  <th>num__v_32</th>                          <td>   -1.0414</td> <td>    0.186</td> <td>   -5.610</td> <td> 0.000</td> <td>   -1.405</td> <td>   -0.678</td>\n",
       "</tr>\n",
       "<tr>\n",
       "  <th>num__v_33</th>                          <td>    0.3720</td> <td>    0.114</td> <td>    3.250</td> <td> 0.001</td> <td>    0.148</td> <td>    0.596</td>\n",
       "</tr>\n",
       "<tr>\n",
       "  <th>num__v_34</th>                          <td>    0.0662</td> <td>    0.129</td> <td>    0.513</td> <td> 0.608</td> <td>   -0.187</td> <td>    0.319</td>\n",
       "</tr>\n",
       "<tr>\n",
       "  <th>num__v_35</th>                          <td>    0.7831</td> <td>    0.248</td> <td>    3.157</td> <td> 0.002</td> <td>    0.297</td> <td>    1.269</td>\n",
       "</tr>\n",
       "<tr>\n",
       "  <th>num__v_36</th>                          <td>    0.4514</td> <td>    0.138</td> <td>    3.263</td> <td> 0.001</td> <td>    0.180</td> <td>    0.723</td>\n",
       "</tr>\n",
       "<tr>\n",
       "  <th>num__v_37</th>                          <td>   -1.3790</td> <td>    0.193</td> <td>   -7.144</td> <td> 0.000</td> <td>   -1.757</td> <td>   -1.001</td>\n",
       "</tr>\n",
       "<tr>\n",
       "  <th>num__v_38</th>                          <td>    0.0060</td> <td>    0.128</td> <td>    0.047</td> <td> 0.962</td> <td>   -0.245</td> <td>    0.257</td>\n",
       "</tr>\n",
       "<tr>\n",
       "  <th>num__v_39</th>                          <td>   -1.3419</td> <td>    0.183</td> <td>   -7.320</td> <td> 0.000</td> <td>   -1.701</td> <td>   -0.983</td>\n",
       "</tr>\n",
       "<tr>\n",
       "  <th>num__v_40</th>                          <td>   -0.3794</td> <td>    0.132</td> <td>   -2.878</td> <td> 0.004</td> <td>   -0.638</td> <td>   -0.121</td>\n",
       "</tr>\n",
       "<tr>\n",
       "  <th>num__v_41</th>                          <td>    1.5122</td> <td>    0.231</td> <td>    6.550</td> <td> 0.000</td> <td>    1.060</td> <td>    1.965</td>\n",
       "</tr>\n",
       "<tr>\n",
       "  <th>num__v_42</th>                          <td>    0.9813</td> <td>    0.204</td> <td>    4.805</td> <td> 0.000</td> <td>    0.581</td> <td>    1.382</td>\n",
       "</tr>\n",
       "<tr>\n",
       "  <th>num__v_43</th>                          <td>    1.2592</td> <td>    0.204</td> <td>    6.169</td> <td> 0.000</td> <td>    0.859</td> <td>    1.659</td>\n",
       "</tr>\n",
       "<tr>\n",
       "  <th>num__v_44</th>                          <td>   -0.0347</td> <td>    0.077</td> <td>   -0.451</td> <td> 0.652</td> <td>   -0.186</td> <td>    0.116</td>\n",
       "</tr>\n",
       "<tr>\n",
       "  <th>num__v_45</th>                          <td>    0.5908</td> <td>    0.172</td> <td>    3.425</td> <td> 0.001</td> <td>    0.253</td> <td>    0.929</td>\n",
       "</tr>\n",
       "<tr>\n",
       "  <th>num__v_46</th>                          <td>   -0.3512</td> <td>    0.181</td> <td>   -1.937</td> <td> 0.053</td> <td>   -0.707</td> <td>    0.004</td>\n",
       "</tr>\n",
       "<tr>\n",
       "  <th>num__v_47</th>                          <td>    0.0276</td> <td>    0.073</td> <td>    0.379</td> <td> 0.705</td> <td>   -0.115</td> <td>    0.170</td>\n",
       "</tr>\n",
       "<tr>\n",
       "  <th>num__v_48</th>                          <td>   -0.3163</td> <td>    0.244</td> <td>   -1.297</td> <td> 0.195</td> <td>   -0.794</td> <td>    0.162</td>\n",
       "</tr>\n",
       "<tr>\n",
       "  <th>num__v_49</th>                          <td>    1.0849</td> <td>    0.226</td> <td>    4.805</td> <td> 0.000</td> <td>    0.642</td> <td>    1.528</td>\n",
       "</tr>\n",
       "<tr>\n",
       "  <th>ohe__gender_Female</th>                 <td>    0.7242</td> <td>    0.038</td> <td>   19.132</td> <td> 0.000</td> <td>    0.650</td> <td>    0.798</td>\n",
       "</tr>\n",
       "<tr>\n",
       "  <th>ohe__gender_Male</th>                   <td>    0.3692</td> <td>    0.038</td> <td>    9.669</td> <td> 0.000</td> <td>    0.294</td> <td>    0.444</td>\n",
       "</tr>\n",
       "<tr>\n",
       "  <th>ohe__major_arts_humanities</th>         <td>   -0.1869</td> <td>    0.082</td> <td>   -2.283</td> <td> 0.022</td> <td>   -0.347</td> <td>   -0.026</td>\n",
       "</tr>\n",
       "<tr>\n",
       "  <th>ohe__major_business</th>                <td>    0.1146</td> <td>    0.068</td> <td>    1.678</td> <td> 0.093</td> <td>   -0.019</td> <td>    0.249</td>\n",
       "</tr>\n",
       "<tr>\n",
       "  <th>ohe__major_multi_interdisciplinary</th> <td>    0.1915</td> <td>    0.041</td> <td>    4.616</td> <td> 0.000</td> <td>    0.110</td> <td>    0.273</td>\n",
       "</tr>\n",
       "<tr>\n",
       "  <th>ohe__major_social_science</th>          <td>   -0.0500</td> <td>    0.042</td> <td>   -1.190</td> <td> 0.234</td> <td>   -0.132</td> <td>    0.032</td>\n",
       "</tr>\n",
       "<tr>\n",
       "  <th>ohe__major_stem</th>                    <td>    0.1700</td> <td>    0.040</td> <td>    4.299</td> <td> 0.000</td> <td>    0.092</td> <td>    0.247</td>\n",
       "</tr>\n",
       "<tr>\n",
       "  <th>ohe__major_undeclared</th>              <td>    0.8541</td> <td>    0.057</td> <td>   14.861</td> <td> 0.000</td> <td>    0.741</td> <td>    0.967</td>\n",
       "</tr>\n",
       "<tr>\n",
       "  <th>pass__sex</th>                          <td>   -0.3049</td> <td>    0.087</td> <td>   -3.488</td> <td> 0.000</td> <td>   -0.476</td> <td>   -0.134</td>\n",
       "</tr>\n",
       "<tr>\n",
       "  <th>pass__body</th>                         <td>    0.1197</td> <td>    0.112</td> <td>    1.068</td> <td> 0.286</td> <td>   -0.100</td> <td>    0.340</td>\n",
       "</tr>\n",
       "<tr>\n",
       "  <th>pass__excretion</th>                    <td>   -0.5477</td> <td>    0.152</td> <td>   -3.598</td> <td> 0.000</td> <td>   -0.846</td> <td>   -0.249</td>\n",
       "</tr>\n",
       "<tr>\n",
       "  <th>pass__slur</th>                         <td>    2.2838</td> <td>    0.113</td> <td>   20.229</td> <td> 0.000</td> <td>    2.063</td> <td>    2.505</td>\n",
       "</tr>\n",
       "<tr>\n",
       "  <th>pass__insult</th>                       <td>    0.7524</td> <td>    0.082</td> <td>    9.134</td> <td> 0.000</td> <td>    0.591</td> <td>    0.914</td>\n",
       "</tr>\n",
       "<tr>\n",
       "  <th>pass__formal</th>                       <td>   -0.4797</td> <td>    0.166</td> <td>   -2.886</td> <td> 0.004</td> <td>   -0.806</td> <td>   -0.154</td>\n",
       "</tr>\n",
       "<tr>\n",
       "  <th>pass__closed</th>                       <td>    0.2529</td> <td>    0.097</td> <td>    2.608</td> <td> 0.009</td> <td>    0.063</td> <td>    0.443</td>\n",
       "</tr>\n",
       "</table>\n",
       "<table class=\"simpletable\">\n",
       "<tr>\n",
       "  <th>Omnibus:</th>       <td>1037.177</td> <th>  Durbin-Watson:     </th> <td>   1.996</td>\n",
       "</tr>\n",
       "<tr>\n",
       "  <th>Prob(Omnibus):</th>  <td> 0.000</td>  <th>  Jarque-Bera (JB):  </th> <td>2096.568</td>\n",
       "</tr>\n",
       "<tr>\n",
       "  <th>Skew:</th>           <td> 0.868</td>  <th>  Prob(JB):          </th> <td>    0.00</td>\n",
       "</tr>\n",
       "<tr>\n",
       "  <th>Kurtosis:</th>       <td> 4.955</td>  <th>  Cond. No.          </th> <td>2.31e+15</td>\n",
       "</tr>\n",
       "</table><br/><br/>Notes:<br/>[1] Standard Errors assume that the covariance matrix of the errors is correctly specified.<br/>[2] The smallest eigenvalue is 9.01e-27. This might indicate that there are<br/>strong multicollinearity problems or that the design matrix is singular."
      ],
      "text/plain": [
       "<class 'statsmodels.iolib.summary.Summary'>\n",
       "\"\"\"\n",
       "                            OLS Regression Results                            \n",
       "==============================================================================\n",
       "Dep. Variable:                 rating   R-squared:                       0.412\n",
       "Model:                            OLS   Adj. R-squared:                  0.406\n",
       "Method:                 Least Squares   F-statistic:                     74.01\n",
       "Date:                Sun, 20 Nov 2022   Prob (F-statistic):               0.00\n",
       "Time:                        17:04:37   Log-Likelihood:                -14047.\n",
       "No. Observations:                7360   AIC:                         2.823e+04\n",
       "Df Residuals:                    7290   BIC:                         2.872e+04\n",
       "Df Model:                          69                                         \n",
       "Covariance Type:            nonrobust                                         \n",
       "======================================================================================================\n",
       "                                         coef    std err          t      P>|t|      [0.025      0.975]\n",
       "------------------------------------------------------------------------------------------------------\n",
       "const                                  1.0934      0.065     16.862      0.000       0.966       1.221\n",
       "num__age                               0.2818      0.020     13.929      0.000       0.242       0.321\n",
       "num__langs_other_than_eng             -0.0999      0.020     -4.916      0.000      -0.140      -0.060\n",
       "num__religiosity                       0.1677      0.020      8.447      0.000       0.129       0.207\n",
       "num__syllables                        -0.1206      0.100     -1.209      0.227      -0.316       0.075\n",
       "num__vowels                            0.0328      0.104      0.317      0.752      -0.170       0.236\n",
       "num__letters                           0.3015      0.075      3.996      0.000       0.154       0.449\n",
       "num__v_0                               0.1737      0.103      1.686      0.092      -0.028       0.376\n",
       "num__v_1                               0.9637      0.135      7.131      0.000       0.699       1.229\n",
       "num__v_2                              -0.6052      0.142     -4.259      0.000      -0.884      -0.327\n",
       "num__v_3                              -0.1016      0.144     -0.708      0.479      -0.383       0.180\n",
       "num__v_4                               0.5354      0.132      4.061      0.000       0.277       0.794\n",
       "num__v_5                              -0.1019      0.087     -1.167      0.243      -0.273       0.069\n",
       "num__v_6                              -0.6837      0.187     -3.651      0.000      -1.051      -0.317\n",
       "num__v_7                              -0.0059      0.141     -0.042      0.966      -0.282       0.270\n",
       "num__v_8                              -0.2909      0.072     -4.021      0.000      -0.433      -0.149\n",
       "num__v_9                               0.3085      0.165      1.864      0.062      -0.016       0.633\n",
       "num__v_10                              1.7255      0.323      5.340      0.000       1.092       2.359\n",
       "num__v_11                             -0.9303      0.194     -4.801      0.000      -1.310      -0.550\n",
       "num__v_12                             -1.5116      0.264     -5.717      0.000      -2.030      -0.993\n",
       "num__v_13                             -0.8884      0.131     -6.773      0.000      -1.146      -0.631\n",
       "num__v_14                             -1.2024      0.241     -4.995      0.000      -1.674      -0.731\n",
       "num__v_15                             -0.5394      0.149     -3.620      0.000      -0.831      -0.247\n",
       "num__v_16                             -0.0780      0.087     -0.892      0.372      -0.249       0.093\n",
       "num__v_17                             -0.2194      0.180     -1.217      0.224      -0.573       0.134\n",
       "num__v_18                              0.6078      0.126      4.826      0.000       0.361       0.855\n",
       "num__v_19                              0.1158      0.165      0.702      0.483      -0.208       0.439\n",
       "num__v_20                              1.1624      0.191      6.075      0.000       0.787       1.537\n",
       "num__v_21                             -1.4036      0.228     -6.154      0.000      -1.851      -0.956\n",
       "num__v_22                              1.0580      0.185      5.711      0.000       0.695       1.421\n",
       "num__v_23                             -0.3448      0.178     -1.936      0.053      -0.694       0.004\n",
       "num__v_24                              1.0724      0.233      4.610      0.000       0.616       1.528\n",
       "num__v_25                              0.4329      0.207      2.095      0.036       0.028       0.838\n",
       "num__v_26                              0.1822      0.098      1.865      0.062      -0.009       0.374\n",
       "num__v_27                              0.4307      0.234      1.839      0.066      -0.028       0.890\n",
       "num__v_28                              0.0408      0.135      0.303      0.762      -0.223       0.305\n",
       "num__v_29                             -0.1695      0.177     -0.958      0.338      -0.517       0.177\n",
       "num__v_30                             -0.5000      0.155     -3.218      0.001      -0.805      -0.195\n",
       "num__v_31                             -0.3903      0.114     -3.422      0.001      -0.614      -0.167\n",
       "num__v_32                             -1.0414      0.186     -5.610      0.000      -1.405      -0.678\n",
       "num__v_33                              0.3720      0.114      3.250      0.001       0.148       0.596\n",
       "num__v_34                              0.0662      0.129      0.513      0.608      -0.187       0.319\n",
       "num__v_35                              0.7831      0.248      3.157      0.002       0.297       1.269\n",
       "num__v_36                              0.4514      0.138      3.263      0.001       0.180       0.723\n",
       "num__v_37                             -1.3790      0.193     -7.144      0.000      -1.757      -1.001\n",
       "num__v_38                              0.0060      0.128      0.047      0.962      -0.245       0.257\n",
       "num__v_39                             -1.3419      0.183     -7.320      0.000      -1.701      -0.983\n",
       "num__v_40                             -0.3794      0.132     -2.878      0.004      -0.638      -0.121\n",
       "num__v_41                              1.5122      0.231      6.550      0.000       1.060       1.965\n",
       "num__v_42                              0.9813      0.204      4.805      0.000       0.581       1.382\n",
       "num__v_43                              1.2592      0.204      6.169      0.000       0.859       1.659\n",
       "num__v_44                             -0.0347      0.077     -0.451      0.652      -0.186       0.116\n",
       "num__v_45                              0.5908      0.172      3.425      0.001       0.253       0.929\n",
       "num__v_46                             -0.3512      0.181     -1.937      0.053      -0.707       0.004\n",
       "num__v_47                              0.0276      0.073      0.379      0.705      -0.115       0.170\n",
       "num__v_48                             -0.3163      0.244     -1.297      0.195      -0.794       0.162\n",
       "num__v_49                              1.0849      0.226      4.805      0.000       0.642       1.528\n",
       "ohe__gender_Female                     0.7242      0.038     19.132      0.000       0.650       0.798\n",
       "ohe__gender_Male                       0.3692      0.038      9.669      0.000       0.294       0.444\n",
       "ohe__major_arts_humanities            -0.1869      0.082     -2.283      0.022      -0.347      -0.026\n",
       "ohe__major_business                    0.1146      0.068      1.678      0.093      -0.019       0.249\n",
       "ohe__major_multi_interdisciplinary     0.1915      0.041      4.616      0.000       0.110       0.273\n",
       "ohe__major_social_science             -0.0500      0.042     -1.190      0.234      -0.132       0.032\n",
       "ohe__major_stem                        0.1700      0.040      4.299      0.000       0.092       0.247\n",
       "ohe__major_undeclared                  0.8541      0.057     14.861      0.000       0.741       0.967\n",
       "pass__sex                             -0.3049      0.087     -3.488      0.000      -0.476      -0.134\n",
       "pass__body                             0.1197      0.112      1.068      0.286      -0.100       0.340\n",
       "pass__excretion                       -0.5477      0.152     -3.598      0.000      -0.846      -0.249\n",
       "pass__slur                             2.2838      0.113     20.229      0.000       2.063       2.505\n",
       "pass__insult                           0.7524      0.082      9.134      0.000       0.591       0.914\n",
       "pass__formal                          -0.4797      0.166     -2.886      0.004      -0.806      -0.154\n",
       "pass__closed                           0.2529      0.097      2.608      0.009       0.063       0.443\n",
       "==============================================================================\n",
       "Omnibus:                     1037.177   Durbin-Watson:                   1.996\n",
       "Prob(Omnibus):                  0.000   Jarque-Bera (JB):             2096.568\n",
       "Skew:                           0.868   Prob(JB):                         0.00\n",
       "Kurtosis:                       4.955   Cond. No.                     2.31e+15\n",
       "==============================================================================\n",
       "\n",
       "Notes:\n",
       "[1] Standard Errors assume that the covariance matrix of the errors is correctly specified.\n",
       "[2] The smallest eigenvalue is 9.01e-27. This might indicate that there are\n",
       "strong multicollinearity problems or that the design matrix is singular.\n",
       "\"\"\""
      ]
     },
     "execution_count": 43,
     "metadata": {},
     "output_type": "execute_result"
    }
   ],
   "source": [
    "ols_mdl_fit.summary()"
   ]
  },
  {
   "cell_type": "code",
   "execution_count": 44,
   "id": "3798c15b-0506-469c-bd89-b8952080000f",
   "metadata": {},
   "outputs": [
    {
     "data": {
      "text/html": [
       "<table class=\"simpletable\">\n",
       "<tr>\n",
       "        <td>Model:</td>               <td>OLS</td>         <td>Adj. R-squared:</td>      <td>0.406</td>  \n",
       "</tr>\n",
       "<tr>\n",
       "  <td>Dependent Variable:</td>      <td>rating</td>             <td>AIC:</td>         <td>28234.8344</td>\n",
       "</tr>\n",
       "<tr>\n",
       "         <td>Date:</td>        <td>2022-11-20 17:04</td>        <td>BIC:</td>         <td>28718.1014</td>\n",
       "</tr>\n",
       "<tr>\n",
       "   <td>No. Observations:</td>        <td>7360</td>         <td>Log-Likelihood:</td>     <td>-14047.</td> \n",
       "</tr>\n",
       "<tr>\n",
       "       <td>Df Model:</td>             <td>69</td>           <td>F-statistic:</td>        <td>74.01</td>  \n",
       "</tr>\n",
       "<tr>\n",
       "     <td>Df Residuals:</td>          <td>7290</td>       <td>Prob (F-statistic):</td>    <td>0.00</td>   \n",
       "</tr>\n",
       "<tr>\n",
       "      <td>R-squared:</td>            <td>0.412</td>            <td>Scale:</td>          <td>2.6883</td>  \n",
       "</tr>\n",
       "</table>\n",
       "<table class=\"simpletable\">\n",
       "<tr>\n",
       "                   <td></td>                   <th>Coef.</th>  <th>Std.Err.</th>    <th>t</th>     <th>P>|t|</th> <th>[0.025</th>  <th>0.975]</th> \n",
       "</tr>\n",
       "<tr>\n",
       "  <th>const</th>                              <td>1.0934</td>   <td>0.0648</td>  <td>16.8624</td> <td>0.0000</td> <td>0.9663</td>  <td>1.2205</td> \n",
       "</tr>\n",
       "<tr>\n",
       "  <th>num__age</th>                           <td>0.2818</td>   <td>0.0202</td>  <td>13.9292</td> <td>0.0000</td> <td>0.2421</td>  <td>0.3214</td> \n",
       "</tr>\n",
       "<tr>\n",
       "  <th>num__langs_other_than_eng</th>          <td>-0.0999</td>  <td>0.0203</td>  <td>-4.9163</td> <td>0.0000</td> <td>-0.1398</td> <td>-0.0601</td>\n",
       "</tr>\n",
       "<tr>\n",
       "  <th>num__religiosity</th>                   <td>0.1677</td>   <td>0.0198</td>  <td>8.4468</td>  <td>0.0000</td> <td>0.1288</td>  <td>0.2066</td> \n",
       "</tr>\n",
       "<tr>\n",
       "  <th>num__syllables</th>                     <td>-0.1206</td>  <td>0.0998</td>  <td>-1.2085</td> <td>0.2269</td> <td>-0.3162</td> <td>0.0750</td> \n",
       "</tr>\n",
       "<tr>\n",
       "  <th>num__vowels</th>                        <td>0.0328</td>   <td>0.1037</td>  <td>0.3166</td>  <td>0.7516</td> <td>-0.1704</td> <td>0.2361</td> \n",
       "</tr>\n",
       "<tr>\n",
       "  <th>num__letters</th>                       <td>0.3015</td>   <td>0.0754</td>  <td>3.9964</td>  <td>0.0001</td> <td>0.1536</td>  <td>0.4493</td> \n",
       "</tr>\n",
       "<tr>\n",
       "  <th>num__v_0</th>                           <td>0.1737</td>   <td>0.1030</td>  <td>1.6858</td>  <td>0.0919</td> <td>-0.0283</td> <td>0.3756</td> \n",
       "</tr>\n",
       "<tr>\n",
       "  <th>num__v_1</th>                           <td>0.9637</td>   <td>0.1351</td>  <td>7.1313</td>  <td>0.0000</td> <td>0.6988</td>  <td>1.2286</td> \n",
       "</tr>\n",
       "<tr>\n",
       "  <th>num__v_2</th>                           <td>-0.6052</td>  <td>0.1421</td>  <td>-4.2592</td> <td>0.0000</td> <td>-0.8838</td> <td>-0.3267</td>\n",
       "</tr>\n",
       "<tr>\n",
       "  <th>num__v_3</th>                           <td>-0.1016</td>  <td>0.1435</td>  <td>-0.7077</td> <td>0.4792</td> <td>-0.3829</td> <td>0.1798</td> \n",
       "</tr>\n",
       "<tr>\n",
       "  <th>num__v_4</th>                           <td>0.5354</td>   <td>0.1318</td>  <td>4.0613</td>  <td>0.0000</td> <td>0.2770</td>  <td>0.7938</td> \n",
       "</tr>\n",
       "<tr>\n",
       "  <th>num__v_5</th>                           <td>-0.1019</td>  <td>0.0873</td>  <td>-1.1672</td> <td>0.2432</td> <td>-0.2729</td> <td>0.0692</td> \n",
       "</tr>\n",
       "<tr>\n",
       "  <th>num__v_6</th>                           <td>-0.6837</td>  <td>0.1872</td>  <td>-3.6513</td> <td>0.0003</td> <td>-1.0508</td> <td>-0.3166</td>\n",
       "</tr>\n",
       "<tr>\n",
       "  <th>num__v_7</th>                           <td>-0.0059</td>  <td>0.1406</td>  <td>-0.0422</td> <td>0.9664</td> <td>-0.2816</td> <td>0.2697</td> \n",
       "</tr>\n",
       "<tr>\n",
       "  <th>num__v_8</th>                           <td>-0.2909</td>  <td>0.0723</td>  <td>-4.0211</td> <td>0.0001</td> <td>-0.4327</td> <td>-0.1491</td>\n",
       "</tr>\n",
       "<tr>\n",
       "  <th>num__v_9</th>                           <td>0.3085</td>   <td>0.1655</td>  <td>1.8643</td>  <td>0.0623</td> <td>-0.0159</td> <td>0.6329</td> \n",
       "</tr>\n",
       "<tr>\n",
       "  <th>num__v_10</th>                          <td>1.7255</td>   <td>0.3231</td>  <td>5.3404</td>  <td>0.0000</td> <td>1.0921</td>  <td>2.3589</td> \n",
       "</tr>\n",
       "<tr>\n",
       "  <th>num__v_11</th>                          <td>-0.9303</td>  <td>0.1938</td>  <td>-4.8006</td> <td>0.0000</td> <td>-1.3102</td> <td>-0.5504</td>\n",
       "</tr>\n",
       "<tr>\n",
       "  <th>num__v_12</th>                          <td>-1.5116</td>  <td>0.2644</td>  <td>-5.7167</td> <td>0.0000</td> <td>-2.0299</td> <td>-0.9933</td>\n",
       "</tr>\n",
       "<tr>\n",
       "  <th>num__v_13</th>                          <td>-0.8884</td>  <td>0.1312</td>  <td>-6.7731</td> <td>0.0000</td> <td>-1.1455</td> <td>-0.6313</td>\n",
       "</tr>\n",
       "<tr>\n",
       "  <th>num__v_14</th>                          <td>-1.2024</td>  <td>0.2407</td>  <td>-4.9950</td> <td>0.0000</td> <td>-1.6744</td> <td>-0.7305</td>\n",
       "</tr>\n",
       "<tr>\n",
       "  <th>num__v_15</th>                          <td>-0.5394</td>  <td>0.1490</td>  <td>-3.6203</td> <td>0.0003</td> <td>-0.8314</td> <td>-0.2473</td>\n",
       "</tr>\n",
       "<tr>\n",
       "  <th>num__v_16</th>                          <td>-0.0780</td>  <td>0.0874</td>  <td>-0.8921</td> <td>0.3724</td> <td>-0.2494</td> <td>0.0934</td> \n",
       "</tr>\n",
       "<tr>\n",
       "  <th>num__v_17</th>                          <td>-0.2194</td>  <td>0.1803</td>  <td>-1.2168</td> <td>0.2237</td> <td>-0.5728</td> <td>0.1340</td> \n",
       "</tr>\n",
       "<tr>\n",
       "  <th>num__v_18</th>                          <td>0.6078</td>   <td>0.1259</td>  <td>4.8260</td>  <td>0.0000</td> <td>0.3609</td>  <td>0.8547</td> \n",
       "</tr>\n",
       "<tr>\n",
       "  <th>num__v_19</th>                          <td>0.1158</td>   <td>0.1650</td>  <td>0.7016</td>  <td>0.4830</td> <td>-0.2077</td> <td>0.4393</td> \n",
       "</tr>\n",
       "<tr>\n",
       "  <th>num__v_20</th>                          <td>1.1624</td>   <td>0.1914</td>  <td>6.0746</td>  <td>0.0000</td> <td>0.7873</td>  <td>1.5375</td> \n",
       "</tr>\n",
       "<tr>\n",
       "  <th>num__v_21</th>                          <td>-1.4036</td>  <td>0.2281</td>  <td>-6.1542</td> <td>0.0000</td> <td>-1.8506</td> <td>-0.9565</td>\n",
       "</tr>\n",
       "<tr>\n",
       "  <th>num__v_22</th>                          <td>1.0580</td>   <td>0.1852</td>  <td>5.7115</td>  <td>0.0000</td> <td>0.6949</td>  <td>1.4211</td> \n",
       "</tr>\n",
       "<tr>\n",
       "  <th>num__v_23</th>                          <td>-0.3448</td>  <td>0.1781</td>  <td>-1.9360</td> <td>0.0529</td> <td>-0.6938</td> <td>0.0043</td> \n",
       "</tr>\n",
       "<tr>\n",
       "  <th>num__v_24</th>                          <td>1.0724</td>   <td>0.2326</td>  <td>4.6102</td>  <td>0.0000</td> <td>0.6164</td>  <td>1.5284</td> \n",
       "</tr>\n",
       "<tr>\n",
       "  <th>num__v_25</th>                          <td>0.4329</td>   <td>0.2066</td>  <td>2.0954</td>  <td>0.0362</td> <td>0.0279</td>  <td>0.8379</td> \n",
       "</tr>\n",
       "<tr>\n",
       "  <th>num__v_26</th>                          <td>0.1822</td>   <td>0.0977</td>  <td>1.8653</td>  <td>0.0622</td> <td>-0.0093</td> <td>0.3737</td> \n",
       "</tr>\n",
       "<tr>\n",
       "  <th>num__v_27</th>                          <td>0.4307</td>   <td>0.2342</td>  <td>1.8390</td>  <td>0.0660</td> <td>-0.0284</td> <td>0.8897</td> \n",
       "</tr>\n",
       "<tr>\n",
       "  <th>num__v_28</th>                          <td>0.0408</td>   <td>0.1346</td>  <td>0.3034</td>  <td>0.7616</td> <td>-0.2231</td> <td>0.3048</td> \n",
       "</tr>\n",
       "<tr>\n",
       "  <th>num__v_29</th>                          <td>-0.1695</td>  <td>0.1770</td>  <td>-0.9579</td> <td>0.3382</td> <td>-0.5165</td> <td>0.1774</td> \n",
       "</tr>\n",
       "<tr>\n",
       "  <th>num__v_30</th>                          <td>-0.5000</td>  <td>0.1554</td>  <td>-3.2182</td> <td>0.0013</td> <td>-0.8046</td> <td>-0.1954</td>\n",
       "</tr>\n",
       "<tr>\n",
       "  <th>num__v_31</th>                          <td>-0.3903</td>  <td>0.1140</td>  <td>-3.4224</td> <td>0.0006</td> <td>-0.6139</td> <td>-0.1668</td>\n",
       "</tr>\n",
       "<tr>\n",
       "  <th>num__v_32</th>                          <td>-1.0414</td>  <td>0.1856</td>  <td>-5.6099</td> <td>0.0000</td> <td>-1.4053</td> <td>-0.6775</td>\n",
       "</tr>\n",
       "<tr>\n",
       "  <th>num__v_33</th>                          <td>0.3720</td>   <td>0.1145</td>  <td>3.2496</td>  <td>0.0012</td> <td>0.1476</td>  <td>0.5964</td> \n",
       "</tr>\n",
       "<tr>\n",
       "  <th>num__v_34</th>                          <td>0.0662</td>   <td>0.1290</td>  <td>0.5133</td>  <td>0.6078</td> <td>-0.1867</td> <td>0.3192</td> \n",
       "</tr>\n",
       "<tr>\n",
       "  <th>num__v_35</th>                          <td>0.7831</td>   <td>0.2481</td>  <td>3.1568</td>  <td>0.0016</td> <td>0.2968</td>  <td>1.2694</td> \n",
       "</tr>\n",
       "<tr>\n",
       "  <th>num__v_36</th>                          <td>0.4514</td>   <td>0.1383</td>  <td>3.2634</td>  <td>0.0011</td> <td>0.1802</td>  <td>0.7225</td> \n",
       "</tr>\n",
       "<tr>\n",
       "  <th>num__v_37</th>                          <td>-1.3790</td>  <td>0.1930</td>  <td>-7.1440</td> <td>0.0000</td> <td>-1.7575</td> <td>-1.0006</td>\n",
       "</tr>\n",
       "<tr>\n",
       "  <th>num__v_38</th>                          <td>0.0060</td>   <td>0.1280</td>  <td>0.0471</td>  <td>0.9625</td> <td>-0.2449</td> <td>0.2569</td> \n",
       "</tr>\n",
       "<tr>\n",
       "  <th>num__v_39</th>                          <td>-1.3419</td>  <td>0.1833</td>  <td>-7.3198</td> <td>0.0000</td> <td>-1.7013</td> <td>-0.9826</td>\n",
       "</tr>\n",
       "<tr>\n",
       "  <th>num__v_40</th>                          <td>-0.3794</td>  <td>0.1318</td>  <td>-2.8782</td> <td>0.0040</td> <td>-0.6379</td> <td>-0.1210</td>\n",
       "</tr>\n",
       "<tr>\n",
       "  <th>num__v_41</th>                          <td>1.5122</td>   <td>0.2309</td>  <td>6.5499</td>  <td>0.0000</td> <td>1.0596</td>  <td>1.9648</td> \n",
       "</tr>\n",
       "<tr>\n",
       "  <th>num__v_42</th>                          <td>0.9813</td>   <td>0.2042</td>  <td>4.8052</td>  <td>0.0000</td> <td>0.5810</td>  <td>1.3816</td> \n",
       "</tr>\n",
       "<tr>\n",
       "  <th>num__v_43</th>                          <td>1.2592</td>   <td>0.2041</td>  <td>6.1690</td>  <td>0.0000</td> <td>0.8591</td>  <td>1.6593</td> \n",
       "</tr>\n",
       "<tr>\n",
       "  <th>num__v_44</th>                          <td>-0.0347</td>  <td>0.0770</td>  <td>-0.4505</td> <td>0.6524</td> <td>-0.1856</td> <td>0.1163</td> \n",
       "</tr>\n",
       "<tr>\n",
       "  <th>num__v_45</th>                          <td>0.5908</td>   <td>0.1725</td>  <td>3.4251</td>  <td>0.0006</td> <td>0.2527</td>  <td>0.9289</td> \n",
       "</tr>\n",
       "<tr>\n",
       "  <th>num__v_46</th>                          <td>-0.3512</td>  <td>0.1814</td>  <td>-1.9367</td> <td>0.0528</td> <td>-0.7068</td> <td>0.0043</td> \n",
       "</tr>\n",
       "<tr>\n",
       "  <th>num__v_47</th>                          <td>0.0276</td>   <td>0.0728</td>  <td>0.3792</td>  <td>0.7045</td> <td>-0.1152</td> <td>0.1704</td> \n",
       "</tr>\n",
       "<tr>\n",
       "  <th>num__v_48</th>                          <td>-0.3163</td>  <td>0.2438</td>  <td>-1.2974</td> <td>0.1945</td> <td>-0.7941</td> <td>0.1616</td> \n",
       "</tr>\n",
       "<tr>\n",
       "  <th>num__v_49</th>                          <td>1.0849</td>   <td>0.2258</td>  <td>4.8051</td>  <td>0.0000</td> <td>0.6423</td>  <td>1.5275</td> \n",
       "</tr>\n",
       "<tr>\n",
       "  <th>ohe__gender_Female</th>                 <td>0.7242</td>   <td>0.0379</td>  <td>19.1318</td> <td>0.0000</td> <td>0.6500</td>  <td>0.7984</td> \n",
       "</tr>\n",
       "<tr>\n",
       "  <th>ohe__gender_Male</th>                   <td>0.3692</td>   <td>0.0382</td>  <td>9.6692</td>  <td>0.0000</td> <td>0.2943</td>  <td>0.4440</td> \n",
       "</tr>\n",
       "<tr>\n",
       "  <th>ohe__major_arts_humanities</th>         <td>-0.1869</td>  <td>0.0819</td>  <td>-2.2827</td> <td>0.0225</td> <td>-0.3473</td> <td>-0.0264</td>\n",
       "</tr>\n",
       "<tr>\n",
       "  <th>ohe__major_business</th>                <td>0.1146</td>   <td>0.0683</td>  <td>1.6777</td>  <td>0.0935</td> <td>-0.0193</td> <td>0.2486</td> \n",
       "</tr>\n",
       "<tr>\n",
       "  <th>ohe__major_multi_interdisciplinary</th> <td>0.1915</td>   <td>0.0415</td>  <td>4.6159</td>  <td>0.0000</td> <td>0.1102</td>  <td>0.2729</td> \n",
       "</tr>\n",
       "<tr>\n",
       "  <th>ohe__major_social_science</th>          <td>-0.0500</td>  <td>0.0420</td>  <td>-1.1901</td> <td>0.2340</td> <td>-0.1323</td> <td>0.0323</td> \n",
       "</tr>\n",
       "<tr>\n",
       "  <th>ohe__major_stem</th>                    <td>0.1700</td>   <td>0.0395</td>  <td>4.2995</td>  <td>0.0000</td> <td>0.0925</td>  <td>0.2474</td> \n",
       "</tr>\n",
       "<tr>\n",
       "  <th>ohe__major_undeclared</th>              <td>0.8541</td>   <td>0.0575</td>  <td>14.8610</td> <td>0.0000</td> <td>0.7415</td>  <td>0.9668</td> \n",
       "</tr>\n",
       "<tr>\n",
       "  <th>pass__sex</th>                          <td>-0.3049</td>  <td>0.0874</td>  <td>-3.4884</td> <td>0.0005</td> <td>-0.4762</td> <td>-0.1335</td>\n",
       "</tr>\n",
       "<tr>\n",
       "  <th>pass__body</th>                         <td>0.1197</td>   <td>0.1122</td>  <td>1.0676</td>  <td>0.2857</td> <td>-0.1001</td> <td>0.3396</td> \n",
       "</tr>\n",
       "<tr>\n",
       "  <th>pass__excretion</th>                    <td>-0.5477</td>  <td>0.1522</td>  <td>-3.5979</td> <td>0.0003</td> <td>-0.8461</td> <td>-0.2493</td>\n",
       "</tr>\n",
       "<tr>\n",
       "  <th>pass__slur</th>                         <td>2.2838</td>   <td>0.1129</td>  <td>20.2288</td> <td>0.0000</td> <td>2.0625</td>  <td>2.5051</td> \n",
       "</tr>\n",
       "<tr>\n",
       "  <th>pass__insult</th>                       <td>0.7524</td>   <td>0.0824</td>  <td>9.1337</td>  <td>0.0000</td> <td>0.5909</td>  <td>0.9139</td> \n",
       "</tr>\n",
       "<tr>\n",
       "  <th>pass__formal</th>                       <td>-0.4797</td>  <td>0.1662</td>  <td>-2.8861</td> <td>0.0039</td> <td>-0.8056</td> <td>-0.1539</td>\n",
       "</tr>\n",
       "<tr>\n",
       "  <th>pass__closed</th>                       <td>0.2529</td>   <td>0.0970</td>  <td>2.6084</td>  <td>0.0091</td> <td>0.0628</td>  <td>0.4430</td> \n",
       "</tr>\n",
       "</table>\n",
       "<table class=\"simpletable\">\n",
       "<tr>\n",
       "     <td>Omnibus:</td>    <td>1037.177</td>  <td>Durbin-Watson:</td>         <td>1.996</td>     \n",
       "</tr>\n",
       "<tr>\n",
       "  <td>Prob(Omnibus):</td>   <td>0.000</td>  <td>Jarque-Bera (JB):</td>     <td>2096.568</td>    \n",
       "</tr>\n",
       "<tr>\n",
       "       <td>Skew:</td>       <td>0.868</td>      <td>Prob(JB):</td>           <td>0.000</td>     \n",
       "</tr>\n",
       "<tr>\n",
       "     <td>Kurtosis:</td>     <td>4.955</td>   <td>Condition No.:</td>   <td>2314303253923808</td>\n",
       "</tr>\n",
       "</table>"
      ],
      "text/plain": [
       "<class 'statsmodels.iolib.summary2.Summary'>\n",
       "\"\"\"\n",
       "                         Results: Ordinary least squares\n",
       "==================================================================================\n",
       "Model:                   OLS                   Adj. R-squared:          0.406     \n",
       "Dependent Variable:      rating                AIC:                     28234.8344\n",
       "Date:                    2022-11-20 17:04      BIC:                     28718.1014\n",
       "No. Observations:        7360                  Log-Likelihood:          -14047.   \n",
       "Df Model:                69                    F-statistic:             74.01     \n",
       "Df Residuals:            7290                  Prob (F-statistic):      0.00      \n",
       "R-squared:               0.412                 Scale:                   2.6883    \n",
       "----------------------------------------------------------------------------------\n",
       "                                    Coef.  Std.Err.    t    P>|t|   [0.025  0.975]\n",
       "----------------------------------------------------------------------------------\n",
       "const                               1.0934   0.0648 16.8624 0.0000  0.9663  1.2205\n",
       "num__age                            0.2818   0.0202 13.9292 0.0000  0.2421  0.3214\n",
       "num__langs_other_than_eng          -0.0999   0.0203 -4.9163 0.0000 -0.1398 -0.0601\n",
       "num__religiosity                    0.1677   0.0198  8.4468 0.0000  0.1288  0.2066\n",
       "num__syllables                     -0.1206   0.0998 -1.2085 0.2269 -0.3162  0.0750\n",
       "num__vowels                         0.0328   0.1037  0.3166 0.7516 -0.1704  0.2361\n",
       "num__letters                        0.3015   0.0754  3.9964 0.0001  0.1536  0.4493\n",
       "num__v_0                            0.1737   0.1030  1.6858 0.0919 -0.0283  0.3756\n",
       "num__v_1                            0.9637   0.1351  7.1313 0.0000  0.6988  1.2286\n",
       "num__v_2                           -0.6052   0.1421 -4.2592 0.0000 -0.8838 -0.3267\n",
       "num__v_3                           -0.1016   0.1435 -0.7077 0.4792 -0.3829  0.1798\n",
       "num__v_4                            0.5354   0.1318  4.0613 0.0000  0.2770  0.7938\n",
       "num__v_5                           -0.1019   0.0873 -1.1672 0.2432 -0.2729  0.0692\n",
       "num__v_6                           -0.6837   0.1872 -3.6513 0.0003 -1.0508 -0.3166\n",
       "num__v_7                           -0.0059   0.1406 -0.0422 0.9664 -0.2816  0.2697\n",
       "num__v_8                           -0.2909   0.0723 -4.0211 0.0001 -0.4327 -0.1491\n",
       "num__v_9                            0.3085   0.1655  1.8643 0.0623 -0.0159  0.6329\n",
       "num__v_10                           1.7255   0.3231  5.3404 0.0000  1.0921  2.3589\n",
       "num__v_11                          -0.9303   0.1938 -4.8006 0.0000 -1.3102 -0.5504\n",
       "num__v_12                          -1.5116   0.2644 -5.7167 0.0000 -2.0299 -0.9933\n",
       "num__v_13                          -0.8884   0.1312 -6.7731 0.0000 -1.1455 -0.6313\n",
       "num__v_14                          -1.2024   0.2407 -4.9950 0.0000 -1.6744 -0.7305\n",
       "num__v_15                          -0.5394   0.1490 -3.6203 0.0003 -0.8314 -0.2473\n",
       "num__v_16                          -0.0780   0.0874 -0.8921 0.3724 -0.2494  0.0934\n",
       "num__v_17                          -0.2194   0.1803 -1.2168 0.2237 -0.5728  0.1340\n",
       "num__v_18                           0.6078   0.1259  4.8260 0.0000  0.3609  0.8547\n",
       "num__v_19                           0.1158   0.1650  0.7016 0.4830 -0.2077  0.4393\n",
       "num__v_20                           1.1624   0.1914  6.0746 0.0000  0.7873  1.5375\n",
       "num__v_21                          -1.4036   0.2281 -6.1542 0.0000 -1.8506 -0.9565\n",
       "num__v_22                           1.0580   0.1852  5.7115 0.0000  0.6949  1.4211\n",
       "num__v_23                          -0.3448   0.1781 -1.9360 0.0529 -0.6938  0.0043\n",
       "num__v_24                           1.0724   0.2326  4.6102 0.0000  0.6164  1.5284\n",
       "num__v_25                           0.4329   0.2066  2.0954 0.0362  0.0279  0.8379\n",
       "num__v_26                           0.1822   0.0977  1.8653 0.0622 -0.0093  0.3737\n",
       "num__v_27                           0.4307   0.2342  1.8390 0.0660 -0.0284  0.8897\n",
       "num__v_28                           0.0408   0.1346  0.3034 0.7616 -0.2231  0.3048\n",
       "num__v_29                          -0.1695   0.1770 -0.9579 0.3382 -0.5165  0.1774\n",
       "num__v_30                          -0.5000   0.1554 -3.2182 0.0013 -0.8046 -0.1954\n",
       "num__v_31                          -0.3903   0.1140 -3.4224 0.0006 -0.6139 -0.1668\n",
       "num__v_32                          -1.0414   0.1856 -5.6099 0.0000 -1.4053 -0.6775\n",
       "num__v_33                           0.3720   0.1145  3.2496 0.0012  0.1476  0.5964\n",
       "num__v_34                           0.0662   0.1290  0.5133 0.6078 -0.1867  0.3192\n",
       "num__v_35                           0.7831   0.2481  3.1568 0.0016  0.2968  1.2694\n",
       "num__v_36                           0.4514   0.1383  3.2634 0.0011  0.1802  0.7225\n",
       "num__v_37                          -1.3790   0.1930 -7.1440 0.0000 -1.7575 -1.0006\n",
       "num__v_38                           0.0060   0.1280  0.0471 0.9625 -0.2449  0.2569\n",
       "num__v_39                          -1.3419   0.1833 -7.3198 0.0000 -1.7013 -0.9826\n",
       "num__v_40                          -0.3794   0.1318 -2.8782 0.0040 -0.6379 -0.1210\n",
       "num__v_41                           1.5122   0.2309  6.5499 0.0000  1.0596  1.9648\n",
       "num__v_42                           0.9813   0.2042  4.8052 0.0000  0.5810  1.3816\n",
       "num__v_43                           1.2592   0.2041  6.1690 0.0000  0.8591  1.6593\n",
       "num__v_44                          -0.0347   0.0770 -0.4505 0.6524 -0.1856  0.1163\n",
       "num__v_45                           0.5908   0.1725  3.4251 0.0006  0.2527  0.9289\n",
       "num__v_46                          -0.3512   0.1814 -1.9367 0.0528 -0.7068  0.0043\n",
       "num__v_47                           0.0276   0.0728  0.3792 0.7045 -0.1152  0.1704\n",
       "num__v_48                          -0.3163   0.2438 -1.2974 0.1945 -0.7941  0.1616\n",
       "num__v_49                           1.0849   0.2258  4.8051 0.0000  0.6423  1.5275\n",
       "ohe__gender_Female                  0.7242   0.0379 19.1318 0.0000  0.6500  0.7984\n",
       "ohe__gender_Male                    0.3692   0.0382  9.6692 0.0000  0.2943  0.4440\n",
       "ohe__major_arts_humanities         -0.1869   0.0819 -2.2827 0.0225 -0.3473 -0.0264\n",
       "ohe__major_business                 0.1146   0.0683  1.6777 0.0935 -0.0193  0.2486\n",
       "ohe__major_multi_interdisciplinary  0.1915   0.0415  4.6159 0.0000  0.1102  0.2729\n",
       "ohe__major_social_science          -0.0500   0.0420 -1.1901 0.2340 -0.1323  0.0323\n",
       "ohe__major_stem                     0.1700   0.0395  4.2995 0.0000  0.0925  0.2474\n",
       "ohe__major_undeclared               0.8541   0.0575 14.8610 0.0000  0.7415  0.9668\n",
       "pass__sex                          -0.3049   0.0874 -3.4884 0.0005 -0.4762 -0.1335\n",
       "pass__body                          0.1197   0.1122  1.0676 0.2857 -0.1001  0.3396\n",
       "pass__excretion                    -0.5477   0.1522 -3.5979 0.0003 -0.8461 -0.2493\n",
       "pass__slur                          2.2838   0.1129 20.2288 0.0000  2.0625  2.5051\n",
       "pass__insult                        0.7524   0.0824  9.1337 0.0000  0.5909  0.9139\n",
       "pass__formal                       -0.4797   0.1662 -2.8861 0.0039 -0.8056 -0.1539\n",
       "pass__closed                        0.2529   0.0970  2.6084 0.0091  0.0628  0.4430\n",
       "----------------------------------------------------------------------------------\n",
       "Omnibus:               1037.177         Durbin-Watson:            1.996           \n",
       "Prob(Omnibus):         0.000            Jarque-Bera (JB):         2096.568        \n",
       "Skew:                  0.868            Prob(JB):                 0.000           \n",
       "Kurtosis:              4.955            Condition No.:            2314303253923808\n",
       "==================================================================================\n",
       "* The condition number is large (2e+15). This might indicate             strong\n",
       "multicollinearity or other numerical problems.\n",
       "\"\"\""
      ]
     },
     "execution_count": 44,
     "metadata": {},
     "output_type": "execute_result"
    }
   ],
   "source": [
    "ols_mdl_fit.summary2()"
   ]
  },
  {
   "cell_type": "markdown",
   "id": "5ca5f0a2-f953-4714-b10d-3e33db6d39af",
   "metadata": {
    "tags": []
   },
   "source": [
    "# Sci-Kit Models - Classification"
   ]
  },
  {
   "cell_type": "markdown",
   "id": "6bec752e-ee79-4a27-8379-230f48907e1e",
   "metadata": {
    "jp-MarkdownHeadingCollapsed": true,
    "tags": []
   },
   "source": [
    "### Create Training and Test Sets"
   ]
  },
  {
   "cell_type": "code",
   "execution_count": 45,
   "id": "94107ef1-e11c-42bc-94e5-51689d2f9157",
   "metadata": {},
   "outputs": [],
   "source": [
    "from sklearn.model_selection import train_test_split\n",
    "from sklearn.model_selection import cross_val_score\n",
    "from sklearn.metrics import make_scorer\n",
    "from sklearn.preprocessing import MultiLabelBinarizer\n",
    "from sklearn.metrics import confusion_matrix, ConfusionMatrixDisplay"
   ]
  },
  {
   "cell_type": "code",
   "execution_count": 46,
   "id": "6363e58c-2a93-4f65-b673-8a1c75bc0460",
   "metadata": {},
   "outputs": [],
   "source": [
    "classification_df = reformat_data(regression=False)"
   ]
  },
  {
   "cell_type": "code",
   "execution_count": 47,
   "id": "4cc2fae8-eb7b-4864-b694-13d2c560faf0",
   "metadata": {},
   "outputs": [
    {
     "data": {
      "text/html": [
       "<div>\n",
       "<style scoped>\n",
       "    .dataframe tbody tr th:only-of-type {\n",
       "        vertical-align: middle;\n",
       "    }\n",
       "\n",
       "    .dataframe tbody tr th {\n",
       "        vertical-align: top;\n",
       "    }\n",
       "\n",
       "    .dataframe thead th {\n",
       "        text-align: right;\n",
       "    }\n",
       "</style>\n",
       "<table border=\"1\" class=\"dataframe\">\n",
       "  <thead>\n",
       "    <tr style=\"text-align: right;\">\n",
       "      <th></th>\n",
       "      <th>participant</th>\n",
       "      <th>age</th>\n",
       "      <th>langs_other_than_eng</th>\n",
       "      <th>gender</th>\n",
       "      <th>religiosity</th>\n",
       "      <th>major</th>\n",
       "      <th>college</th>\n",
       "      <th>word</th>\n",
       "      <th>rating</th>\n",
       "      <th>syllables</th>\n",
       "      <th>...</th>\n",
       "      <th>v_48</th>\n",
       "      <th>v_49</th>\n",
       "      <th>religion</th>\n",
       "      <th>sex</th>\n",
       "      <th>body</th>\n",
       "      <th>excretion</th>\n",
       "      <th>slur</th>\n",
       "      <th>insult</th>\n",
       "      <th>formal</th>\n",
       "      <th>closed</th>\n",
       "    </tr>\n",
       "  </thead>\n",
       "  <tbody>\n",
       "    <tr>\n",
       "      <th>0</th>\n",
       "      <td>1</td>\n",
       "      <td>20</td>\n",
       "      <td>1</td>\n",
       "      <td>Male</td>\n",
       "      <td>1.0</td>\n",
       "      <td>social_science</td>\n",
       "      <td>Warren</td>\n",
       "      <td>nigger</td>\n",
       "      <td>1</td>\n",
       "      <td>2</td>\n",
       "      <td>...</td>\n",
       "      <td>0.21451</td>\n",
       "      <td>-0.04397</td>\n",
       "      <td>0</td>\n",
       "      <td>0</td>\n",
       "      <td>0</td>\n",
       "      <td>0</td>\n",
       "      <td>1</td>\n",
       "      <td>1</td>\n",
       "      <td>0</td>\n",
       "      <td>0</td>\n",
       "    </tr>\n",
       "    <tr>\n",
       "      <th>1</th>\n",
       "      <td>2</td>\n",
       "      <td>18</td>\n",
       "      <td>1</td>\n",
       "      <td>Male</td>\n",
       "      <td>1.0</td>\n",
       "      <td>arts_humanities</td>\n",
       "      <td>Sixth</td>\n",
       "      <td>nigger</td>\n",
       "      <td>1</td>\n",
       "      <td>2</td>\n",
       "      <td>...</td>\n",
       "      <td>0.21451</td>\n",
       "      <td>-0.04397</td>\n",
       "      <td>0</td>\n",
       "      <td>0</td>\n",
       "      <td>0</td>\n",
       "      <td>0</td>\n",
       "      <td>1</td>\n",
       "      <td>1</td>\n",
       "      <td>0</td>\n",
       "      <td>0</td>\n",
       "    </tr>\n",
       "    <tr>\n",
       "      <th>2</th>\n",
       "      <td>3</td>\n",
       "      <td>21</td>\n",
       "      <td>1</td>\n",
       "      <td>Male</td>\n",
       "      <td>3.0</td>\n",
       "      <td>social_science</td>\n",
       "      <td>Roosevelt</td>\n",
       "      <td>nigger</td>\n",
       "      <td>3</td>\n",
       "      <td>2</td>\n",
       "      <td>...</td>\n",
       "      <td>0.21451</td>\n",
       "      <td>-0.04397</td>\n",
       "      <td>0</td>\n",
       "      <td>0</td>\n",
       "      <td>0</td>\n",
       "      <td>0</td>\n",
       "      <td>1</td>\n",
       "      <td>1</td>\n",
       "      <td>0</td>\n",
       "      <td>0</td>\n",
       "    </tr>\n",
       "    <tr>\n",
       "      <th>3</th>\n",
       "      <td>4</td>\n",
       "      <td>20</td>\n",
       "      <td>0</td>\n",
       "      <td>Male</td>\n",
       "      <td>1.0</td>\n",
       "      <td>multi_interdisciplinary</td>\n",
       "      <td>Revelle</td>\n",
       "      <td>nigger</td>\n",
       "      <td>9</td>\n",
       "      <td>2</td>\n",
       "      <td>...</td>\n",
       "      <td>0.21451</td>\n",
       "      <td>-0.04397</td>\n",
       "      <td>0</td>\n",
       "      <td>0</td>\n",
       "      <td>0</td>\n",
       "      <td>0</td>\n",
       "      <td>1</td>\n",
       "      <td>1</td>\n",
       "      <td>0</td>\n",
       "      <td>0</td>\n",
       "    </tr>\n",
       "    <tr>\n",
       "      <th>4</th>\n",
       "      <td>5</td>\n",
       "      <td>22</td>\n",
       "      <td>0</td>\n",
       "      <td>Male</td>\n",
       "      <td>1.0</td>\n",
       "      <td>multi_interdisciplinary</td>\n",
       "      <td>Warren</td>\n",
       "      <td>nigger</td>\n",
       "      <td>9</td>\n",
       "      <td>2</td>\n",
       "      <td>...</td>\n",
       "      <td>0.21451</td>\n",
       "      <td>-0.04397</td>\n",
       "      <td>0</td>\n",
       "      <td>0</td>\n",
       "      <td>0</td>\n",
       "      <td>0</td>\n",
       "      <td>1</td>\n",
       "      <td>1</td>\n",
       "      <td>0</td>\n",
       "      <td>0</td>\n",
       "    </tr>\n",
       "  </tbody>\n",
       "</table>\n",
       "<p>5 rows × 70 columns</p>\n",
       "</div>"
      ],
      "text/plain": [
       "   participant  age  langs_other_than_eng gender  religiosity  \\\n",
       "0            1   20                     1   Male          1.0   \n",
       "1            2   18                     1   Male          1.0   \n",
       "2            3   21                     1   Male          3.0   \n",
       "3            4   20                     0   Male          1.0   \n",
       "4            5   22                     0   Male          1.0   \n",
       "\n",
       "                     major    college    word  rating  syllables  ...  \\\n",
       "0           social_science     Warren  nigger       1          2  ...   \n",
       "1          arts_humanities      Sixth  nigger       1          2  ...   \n",
       "2           social_science  Roosevelt  nigger       3          2  ...   \n",
       "3  multi_interdisciplinary    Revelle  nigger       9          2  ...   \n",
       "4  multi_interdisciplinary     Warren  nigger       9          2  ...   \n",
       "\n",
       "      v_48     v_49  religion  sex  body  excretion  slur  insult  formal  \\\n",
       "0  0.21451 -0.04397         0    0     0          0     1       1       0   \n",
       "1  0.21451 -0.04397         0    0     0          0     1       1       0   \n",
       "2  0.21451 -0.04397         0    0     0          0     1       1       0   \n",
       "3  0.21451 -0.04397         0    0     0          0     1       1       0   \n",
       "4  0.21451 -0.04397         0    0     0          0     1       1       0   \n",
       "\n",
       "   closed  \n",
       "0       0  \n",
       "1       0  \n",
       "2       0  \n",
       "3       0  \n",
       "4       0  \n",
       "\n",
       "[5 rows x 70 columns]"
      ]
     },
     "execution_count": 47,
     "metadata": {},
     "output_type": "execute_result"
    }
   ],
   "source": [
    "classification_df.head()"
   ]
  },
  {
   "cell_type": "code",
   "execution_count": 48,
   "id": "76d5f0ce-71e2-45c3-9d8e-3d2a15c52002",
   "metadata": {},
   "outputs": [],
   "source": [
    "X = classification_df.drop(['rating'], axis=1)\n",
    "# y = pd.DataFrame(classification_df['rating'].to_list(), columns=label_columns)\n",
    "# y = MultiLabelBinarizer().fit_transform(classification_df['rating'])\n",
    "y = classification_df['rating']"
   ]
  },
  {
   "cell_type": "code",
   "execution_count": 49,
   "id": "00a7fd7c-2c1f-4f99-957d-56cfc8349643",
   "metadata": {},
   "outputs": [],
   "source": [
    "X_train, X_test, y_train, y_test = train_test_split(X, y, test_size=0.2, random_state=39)"
   ]
  },
  {
   "cell_type": "code",
   "execution_count": 50,
   "id": "59f2040c-d19c-4155-a256-89bc790da188",
   "metadata": {},
   "outputs": [
    {
     "data": {
      "text/plain": [
       "(6384, 69)"
      ]
     },
     "execution_count": 50,
     "metadata": {},
     "output_type": "execute_result"
    }
   ],
   "source": [
    "X_train.shape"
   ]
  },
  {
   "cell_type": "code",
   "execution_count": 51,
   "id": "4357ca0d-1fc3-4a86-8258-5768ad9dd3ab",
   "metadata": {},
   "outputs": [
    {
     "data": {
      "text/plain": [
       "(6384,)"
      ]
     },
     "execution_count": 51,
     "metadata": {},
     "output_type": "execute_result"
    }
   ],
   "source": [
    "y_train.shape"
   ]
  },
  {
   "cell_type": "code",
   "execution_count": 52,
   "id": "4d87c0a1-929f-4281-9b35-e0a7ce7f7167",
   "metadata": {},
   "outputs": [
    {
     "data": {
      "text/plain": [
       "790     7\n",
       "4052    1\n",
       "2159    2\n",
       "7258    1\n",
       "3611    1\n",
       "       ..\n",
       "7060    5\n",
       "1088    3\n",
       "7209    1\n",
       "105     8\n",
       "3465    3\n",
       "Name: rating, Length: 6384, dtype: int64"
      ]
     },
     "execution_count": 52,
     "metadata": {},
     "output_type": "execute_result"
    }
   ],
   "source": [
    "y_train"
   ]
  },
  {
   "cell_type": "code",
   "execution_count": 53,
   "id": "aa1c88f3-1295-40dc-9671-652c93dc4a23",
   "metadata": {},
   "outputs": [],
   "source": [
    "X_train_processed = full_pipeline.fit_transform(X_train)"
   ]
  },
  {
   "cell_type": "code",
   "execution_count": 54,
   "id": "beca4171-3b20-4c87-8dab-013ebe2eeedf",
   "metadata": {},
   "outputs": [],
   "source": [
    "X_test_processed = full_pipeline.transform(X_test)"
   ]
  },
  {
   "cell_type": "code",
   "execution_count": 55,
   "id": "ae957c56-c2ac-450d-8988-029a1aa937ef",
   "metadata": {},
   "outputs": [],
   "source": [
    "def cross_validation_report(model):\n",
    "    scores = cross_val_score(\n",
    "        model, \n",
    "        X_train_processed, y_train,\n",
    "        scoring=make_scorer(f1_score, average='weighted'), \n",
    "        # scoring='accuracy',\n",
    "        # scoring='neg_mean_squared_error',\n",
    "        cv=10\n",
    "    )\n",
    "    print('Avg:', scores.mean())\n",
    "    print('Std:', scores.std())\n",
    "    print('Scores:', scores)"
   ]
  },
  {
   "cell_type": "code",
   "execution_count": 56,
   "id": "1349face-916d-49b7-b7ef-5ce594c2882f",
   "metadata": {},
   "outputs": [],
   "source": [
    "def training_confusion_matrix(model):\n",
    "    model.fit(X_train_processed, y_train)\n",
    "    conf_matrix = confusion_matrix(y_train, model.predict(X_train_processed))\n",
    "    return ConfusionMatrixDisplay(confusion_matrix=conf_matrix).plot()"
   ]
  },
  {
   "cell_type": "markdown",
   "id": "4b3aec34-5ee5-4879-bd8d-3a46e91e9d90",
   "metadata": {
    "tags": []
   },
   "source": [
    "### Logistic Regression"
   ]
  },
  {
   "cell_type": "code",
   "execution_count": 57,
   "id": "9f18e274-c550-4bc1-8d33-eae69ae83e7f",
   "metadata": {},
   "outputs": [],
   "source": [
    "from sklearn.linear_model import LogisticRegression\n",
    "from sklearn.metrics import f1_score"
   ]
  },
  {
   "cell_type": "code",
   "execution_count": 58,
   "id": "c60c9ba7-c065-401c-ba92-e3d4988217a8",
   "metadata": {},
   "outputs": [],
   "source": [
    "log_reg = LogisticRegression(multi_class='ovr')"
   ]
  },
  {
   "cell_type": "code",
   "execution_count": 59,
   "id": "9afb1174-e8f9-4537-8fbb-0ba2854ffdc7",
   "metadata": {},
   "outputs": [
    {
     "name": "stderr",
     "output_type": "stream",
     "text": [
      "/Users/alexz./Desktop/cogs_15_analysis/env/lib/python3.8/site-packages/sklearn/linear_model/_logistic.py:444: ConvergenceWarning: lbfgs failed to converge (status=1):\n",
      "STOP: TOTAL NO. of ITERATIONS REACHED LIMIT.\n",
      "\n",
      "Increase the number of iterations (max_iter) or scale the data as shown in:\n",
      "    https://scikit-learn.org/stable/modules/preprocessing.html\n",
      "Please also refer to the documentation for alternative solver options:\n",
      "    https://scikit-learn.org/stable/modules/linear_model.html#logistic-regression\n",
      "  n_iter_i = _check_optimize_result(\n",
      "/Users/alexz./Desktop/cogs_15_analysis/env/lib/python3.8/site-packages/sklearn/linear_model/_logistic.py:444: ConvergenceWarning: lbfgs failed to converge (status=1):\n",
      "STOP: TOTAL NO. of ITERATIONS REACHED LIMIT.\n",
      "\n",
      "Increase the number of iterations (max_iter) or scale the data as shown in:\n",
      "    https://scikit-learn.org/stable/modules/preprocessing.html\n",
      "Please also refer to the documentation for alternative solver options:\n",
      "    https://scikit-learn.org/stable/modules/linear_model.html#logistic-regression\n",
      "  n_iter_i = _check_optimize_result(\n",
      "/Users/alexz./Desktop/cogs_15_analysis/env/lib/python3.8/site-packages/sklearn/linear_model/_logistic.py:444: ConvergenceWarning: lbfgs failed to converge (status=1):\n",
      "STOP: TOTAL NO. of ITERATIONS REACHED LIMIT.\n",
      "\n",
      "Increase the number of iterations (max_iter) or scale the data as shown in:\n",
      "    https://scikit-learn.org/stable/modules/preprocessing.html\n",
      "Please also refer to the documentation for alternative solver options:\n",
      "    https://scikit-learn.org/stable/modules/linear_model.html#logistic-regression\n",
      "  n_iter_i = _check_optimize_result(\n",
      "/Users/alexz./Desktop/cogs_15_analysis/env/lib/python3.8/site-packages/sklearn/linear_model/_logistic.py:444: ConvergenceWarning: lbfgs failed to converge (status=1):\n",
      "STOP: TOTAL NO. of ITERATIONS REACHED LIMIT.\n",
      "\n",
      "Increase the number of iterations (max_iter) or scale the data as shown in:\n",
      "    https://scikit-learn.org/stable/modules/preprocessing.html\n",
      "Please also refer to the documentation for alternative solver options:\n",
      "    https://scikit-learn.org/stable/modules/linear_model.html#logistic-regression\n",
      "  n_iter_i = _check_optimize_result(\n",
      "/Users/alexz./Desktop/cogs_15_analysis/env/lib/python3.8/site-packages/sklearn/linear_model/_logistic.py:444: ConvergenceWarning: lbfgs failed to converge (status=1):\n",
      "STOP: TOTAL NO. of ITERATIONS REACHED LIMIT.\n",
      "\n",
      "Increase the number of iterations (max_iter) or scale the data as shown in:\n",
      "    https://scikit-learn.org/stable/modules/preprocessing.html\n",
      "Please also refer to the documentation for alternative solver options:\n",
      "    https://scikit-learn.org/stable/modules/linear_model.html#logistic-regression\n",
      "  n_iter_i = _check_optimize_result(\n",
      "/Users/alexz./Desktop/cogs_15_analysis/env/lib/python3.8/site-packages/sklearn/linear_model/_logistic.py:444: ConvergenceWarning: lbfgs failed to converge (status=1):\n",
      "STOP: TOTAL NO. of ITERATIONS REACHED LIMIT.\n",
      "\n",
      "Increase the number of iterations (max_iter) or scale the data as shown in:\n",
      "    https://scikit-learn.org/stable/modules/preprocessing.html\n",
      "Please also refer to the documentation for alternative solver options:\n",
      "    https://scikit-learn.org/stable/modules/linear_model.html#logistic-regression\n",
      "  n_iter_i = _check_optimize_result(\n",
      "/Users/alexz./Desktop/cogs_15_analysis/env/lib/python3.8/site-packages/sklearn/linear_model/_logistic.py:444: ConvergenceWarning: lbfgs failed to converge (status=1):\n",
      "STOP: TOTAL NO. of ITERATIONS REACHED LIMIT.\n",
      "\n",
      "Increase the number of iterations (max_iter) or scale the data as shown in:\n",
      "    https://scikit-learn.org/stable/modules/preprocessing.html\n",
      "Please also refer to the documentation for alternative solver options:\n",
      "    https://scikit-learn.org/stable/modules/linear_model.html#logistic-regression\n",
      "  n_iter_i = _check_optimize_result(\n",
      "/Users/alexz./Desktop/cogs_15_analysis/env/lib/python3.8/site-packages/sklearn/linear_model/_logistic.py:444: ConvergenceWarning: lbfgs failed to converge (status=1):\n",
      "STOP: TOTAL NO. of ITERATIONS REACHED LIMIT.\n",
      "\n",
      "Increase the number of iterations (max_iter) or scale the data as shown in:\n",
      "    https://scikit-learn.org/stable/modules/preprocessing.html\n",
      "Please also refer to the documentation for alternative solver options:\n",
      "    https://scikit-learn.org/stable/modules/linear_model.html#logistic-regression\n",
      "  n_iter_i = _check_optimize_result(\n",
      "/Users/alexz./Desktop/cogs_15_analysis/env/lib/python3.8/site-packages/sklearn/linear_model/_logistic.py:444: ConvergenceWarning: lbfgs failed to converge (status=1):\n",
      "STOP: TOTAL NO. of ITERATIONS REACHED LIMIT.\n",
      "\n",
      "Increase the number of iterations (max_iter) or scale the data as shown in:\n",
      "    https://scikit-learn.org/stable/modules/preprocessing.html\n",
      "Please also refer to the documentation for alternative solver options:\n",
      "    https://scikit-learn.org/stable/modules/linear_model.html#logistic-regression\n",
      "  n_iter_i = _check_optimize_result(\n",
      "/Users/alexz./Desktop/cogs_15_analysis/env/lib/python3.8/site-packages/sklearn/linear_model/_logistic.py:444: ConvergenceWarning: lbfgs failed to converge (status=1):\n",
      "STOP: TOTAL NO. of ITERATIONS REACHED LIMIT.\n",
      "\n",
      "Increase the number of iterations (max_iter) or scale the data as shown in:\n",
      "    https://scikit-learn.org/stable/modules/preprocessing.html\n",
      "Please also refer to the documentation for alternative solver options:\n",
      "    https://scikit-learn.org/stable/modules/linear_model.html#logistic-regression\n",
      "  n_iter_i = _check_optimize_result(\n"
     ]
    },
    {
     "name": "stdout",
     "output_type": "stream",
     "text": [
      "Avg: 0.4251187326417849\n",
      "Std: 0.016346539344376184\n",
      "Scores: [0.39303129 0.4369427  0.42861837 0.43066916 0.43368169 0.42127367\n",
      " 0.41377013 0.4140343  0.42085556 0.45831045]\n"
     ]
    }
   ],
   "source": [
    "cross_validation_report(log_reg)"
   ]
  },
  {
   "cell_type": "code",
   "execution_count": 60,
   "id": "5f79398e-62e1-4365-84f6-3dcc8b6cc424",
   "metadata": {},
   "outputs": [
    {
     "name": "stderr",
     "output_type": "stream",
     "text": [
      "/Users/alexz./Desktop/cogs_15_analysis/env/lib/python3.8/site-packages/sklearn/linear_model/_logistic.py:444: ConvergenceWarning: lbfgs failed to converge (status=1):\n",
      "STOP: TOTAL NO. of ITERATIONS REACHED LIMIT.\n",
      "\n",
      "Increase the number of iterations (max_iter) or scale the data as shown in:\n",
      "    https://scikit-learn.org/stable/modules/preprocessing.html\n",
      "Please also refer to the documentation for alternative solver options:\n",
      "    https://scikit-learn.org/stable/modules/linear_model.html#logistic-regression\n",
      "  n_iter_i = _check_optimize_result(\n"
     ]
    },
    {
     "data": {
      "text/html": [
       "<style>#sk-container-id-1 {color: black;background-color: white;}#sk-container-id-1 pre{padding: 0;}#sk-container-id-1 div.sk-toggleable {background-color: white;}#sk-container-id-1 label.sk-toggleable__label {cursor: pointer;display: block;width: 100%;margin-bottom: 0;padding: 0.3em;box-sizing: border-box;text-align: center;}#sk-container-id-1 label.sk-toggleable__label-arrow:before {content: \"▸\";float: left;margin-right: 0.25em;color: #696969;}#sk-container-id-1 label.sk-toggleable__label-arrow:hover:before {color: black;}#sk-container-id-1 div.sk-estimator:hover label.sk-toggleable__label-arrow:before {color: black;}#sk-container-id-1 div.sk-toggleable__content {max-height: 0;max-width: 0;overflow: hidden;text-align: left;background-color: #f0f8ff;}#sk-container-id-1 div.sk-toggleable__content pre {margin: 0.2em;color: black;border-radius: 0.25em;background-color: #f0f8ff;}#sk-container-id-1 input.sk-toggleable__control:checked~div.sk-toggleable__content {max-height: 200px;max-width: 100%;overflow: auto;}#sk-container-id-1 input.sk-toggleable__control:checked~label.sk-toggleable__label-arrow:before {content: \"▾\";}#sk-container-id-1 div.sk-estimator input.sk-toggleable__control:checked~label.sk-toggleable__label {background-color: #d4ebff;}#sk-container-id-1 div.sk-label input.sk-toggleable__control:checked~label.sk-toggleable__label {background-color: #d4ebff;}#sk-container-id-1 input.sk-hidden--visually {border: 0;clip: rect(1px 1px 1px 1px);clip: rect(1px, 1px, 1px, 1px);height: 1px;margin: -1px;overflow: hidden;padding: 0;position: absolute;width: 1px;}#sk-container-id-1 div.sk-estimator {font-family: monospace;background-color: #f0f8ff;border: 1px dotted black;border-radius: 0.25em;box-sizing: border-box;margin-bottom: 0.5em;}#sk-container-id-1 div.sk-estimator:hover {background-color: #d4ebff;}#sk-container-id-1 div.sk-parallel-item::after {content: \"\";width: 100%;border-bottom: 1px solid gray;flex-grow: 1;}#sk-container-id-1 div.sk-label:hover label.sk-toggleable__label {background-color: #d4ebff;}#sk-container-id-1 div.sk-serial::before {content: \"\";position: absolute;border-left: 1px solid gray;box-sizing: border-box;top: 0;bottom: 0;left: 50%;z-index: 0;}#sk-container-id-1 div.sk-serial {display: flex;flex-direction: column;align-items: center;background-color: white;padding-right: 0.2em;padding-left: 0.2em;position: relative;}#sk-container-id-1 div.sk-item {position: relative;z-index: 1;}#sk-container-id-1 div.sk-parallel {display: flex;align-items: stretch;justify-content: center;background-color: white;position: relative;}#sk-container-id-1 div.sk-item::before, #sk-container-id-1 div.sk-parallel-item::before {content: \"\";position: absolute;border-left: 1px solid gray;box-sizing: border-box;top: 0;bottom: 0;left: 50%;z-index: -1;}#sk-container-id-1 div.sk-parallel-item {display: flex;flex-direction: column;z-index: 1;position: relative;background-color: white;}#sk-container-id-1 div.sk-parallel-item:first-child::after {align-self: flex-end;width: 50%;}#sk-container-id-1 div.sk-parallel-item:last-child::after {align-self: flex-start;width: 50%;}#sk-container-id-1 div.sk-parallel-item:only-child::after {width: 0;}#sk-container-id-1 div.sk-dashed-wrapped {border: 1px dashed gray;margin: 0 0.4em 0.5em 0.4em;box-sizing: border-box;padding-bottom: 0.4em;background-color: white;}#sk-container-id-1 div.sk-label label {font-family: monospace;font-weight: bold;display: inline-block;line-height: 1.2em;}#sk-container-id-1 div.sk-label-container {text-align: center;}#sk-container-id-1 div.sk-container {/* jupyter's `normalize.less` sets `[hidden] { display: none; }` but bootstrap.min.css set `[hidden] { display: none !important; }` so we also need the `!important` here to be able to override the default hidden behavior on the sphinx rendered scikit-learn.org. See: https://github.com/scikit-learn/scikit-learn/issues/21755 */display: inline-block !important;position: relative;}#sk-container-id-1 div.sk-text-repr-fallback {display: none;}</style><div id=\"sk-container-id-1\" class=\"sk-top-container\"><div class=\"sk-text-repr-fallback\"><pre>LogisticRegression(multi_class=&#x27;ovr&#x27;)</pre><b>In a Jupyter environment, please rerun this cell to show the HTML representation or trust the notebook. <br />On GitHub, the HTML representation is unable to render, please try loading this page with nbviewer.org.</b></div><div class=\"sk-container\" hidden><div class=\"sk-item\"><div class=\"sk-estimator sk-toggleable\"><input class=\"sk-toggleable__control sk-hidden--visually\" id=\"sk-estimator-id-1\" type=\"checkbox\" checked><label for=\"sk-estimator-id-1\" class=\"sk-toggleable__label sk-toggleable__label-arrow\">LogisticRegression</label><div class=\"sk-toggleable__content\"><pre>LogisticRegression(multi_class=&#x27;ovr&#x27;)</pre></div></div></div></div></div>"
      ],
      "text/plain": [
       "LogisticRegression(multi_class='ovr')"
      ]
     },
     "execution_count": 60,
     "metadata": {},
     "output_type": "execute_result"
    }
   ],
   "source": [
    "log_reg.fit(X_train_processed, y_train)"
   ]
  },
  {
   "cell_type": "code",
   "execution_count": 61,
   "id": "2874e8c9-71ee-414d-adf8-17d2d4d0e942",
   "metadata": {},
   "outputs": [],
   "source": [
    "conf_matrix = confusion_matrix(y_train, log_reg.predict(X_train_processed))"
   ]
  },
  {
   "cell_type": "code",
   "execution_count": 62,
   "id": "074535a2-fbe8-4569-93a9-4e9dd0c72674",
   "metadata": {},
   "outputs": [
    {
     "data": {
      "text/plain": [
       "<sklearn.metrics._plot.confusion_matrix.ConfusionMatrixDisplay at 0x12c118070>"
      ]
     },
     "execution_count": 62,
     "metadata": {},
     "output_type": "execute_result"
    },
    {
     "data": {
      "image/png": "[encoded data removed]",
      "text/plain": [
       "<Figure size 640x480 with 2 Axes>"
      ]
     },
     "metadata": {},
     "output_type": "display_data"
    }
   ],
   "source": [
    "ConfusionMatrixDisplay(confusion_matrix=conf_matrix).plot()"
   ]
  },
  {
   "cell_type": "markdown",
   "id": "d0ccb9a1-d3d7-47f0-8226-b21ab03510ce",
   "metadata": {
    "tags": []
   },
   "source": [
    "### Random Forest Classifier"
   ]
  },
  {
   "cell_type": "code",
   "execution_count": 63,
   "id": "d92730ae-d631-448e-9a82-320f0e119bc5",
   "metadata": {},
   "outputs": [],
   "source": [
    "from sklearn.ensemble import RandomForestClassifier"
   ]
  },
  {
   "cell_type": "code",
   "execution_count": 64,
   "id": "abf91a69-6505-4ab4-a4a9-6f8e05345c80",
   "metadata": {},
   "outputs": [],
   "source": [
    "forest_clf = RandomForestClassifier()"
   ]
  },
  {
   "cell_type": "code",
   "execution_count": 65,
   "id": "a41e3cae-cd7b-464f-a3c8-05ba2de1bff6",
   "metadata": {},
   "outputs": [
    {
     "name": "stdout",
     "output_type": "stream",
     "text": [
      "Avg: 0.3956396144750932\n",
      "Std: 0.011404123885719658\n",
      "Scores: [0.38414461 0.39854485 0.38135548 0.41733743 0.38784071 0.38779614\n",
      " 0.39243563 0.39321575 0.39998051 0.41374503]\n"
     ]
    }
   ],
   "source": [
    "cross_validation_report(forest_clf)"
   ]
  },
  {
   "cell_type": "code",
   "execution_count": 66,
   "id": "7a9a38a2-e818-4c94-ba47-db2a24172760",
   "metadata": {},
   "outputs": [
    {
     "data": {
      "text/html": [
       "<style>#sk-container-id-2 {color: black;background-color: white;}#sk-container-id-2 pre{padding: 0;}#sk-container-id-2 div.sk-toggleable {background-color: white;}#sk-container-id-2 label.sk-toggleable__label {cursor: pointer;display: block;width: 100%;margin-bottom: 0;padding: 0.3em;box-sizing: border-box;text-align: center;}#sk-container-id-2 label.sk-toggleable__label-arrow:before {content: \"▸\";float: left;margin-right: 0.25em;color: #696969;}#sk-container-id-2 label.sk-toggleable__label-arrow:hover:before {color: black;}#sk-container-id-2 div.sk-estimator:hover label.sk-toggleable__label-arrow:before {color: black;}#sk-container-id-2 div.sk-toggleable__content {max-height: 0;max-width: 0;overflow: hidden;text-align: left;background-color: #f0f8ff;}#sk-container-id-2 div.sk-toggleable__content pre {margin: 0.2em;color: black;border-radius: 0.25em;background-color: #f0f8ff;}#sk-container-id-2 input.sk-toggleable__control:checked~div.sk-toggleable__content {max-height: 200px;max-width: 100%;overflow: auto;}#sk-container-id-2 input.sk-toggleable__control:checked~label.sk-toggleable__label-arrow:before {content: \"▾\";}#sk-container-id-2 div.sk-estimator input.sk-toggleable__control:checked~label.sk-toggleable__label {background-color: #d4ebff;}#sk-container-id-2 div.sk-label input.sk-toggleable__control:checked~label.sk-toggleable__label {background-color: #d4ebff;}#sk-container-id-2 input.sk-hidden--visually {border: 0;clip: rect(1px 1px 1px 1px);clip: rect(1px, 1px, 1px, 1px);height: 1px;margin: -1px;overflow: hidden;padding: 0;position: absolute;width: 1px;}#sk-container-id-2 div.sk-estimator {font-family: monospace;background-color: #f0f8ff;border: 1px dotted black;border-radius: 0.25em;box-sizing: border-box;margin-bottom: 0.5em;}#sk-container-id-2 div.sk-estimator:hover {background-color: #d4ebff;}#sk-container-id-2 div.sk-parallel-item::after {content: \"\";width: 100%;border-bottom: 1px solid gray;flex-grow: 1;}#sk-container-id-2 div.sk-label:hover label.sk-toggleable__label {background-color: #d4ebff;}#sk-container-id-2 div.sk-serial::before {content: \"\";position: absolute;border-left: 1px solid gray;box-sizing: border-box;top: 0;bottom: 0;left: 50%;z-index: 0;}#sk-container-id-2 div.sk-serial {display: flex;flex-direction: column;align-items: center;background-color: white;padding-right: 0.2em;padding-left: 0.2em;position: relative;}#sk-container-id-2 div.sk-item {position: relative;z-index: 1;}#sk-container-id-2 div.sk-parallel {display: flex;align-items: stretch;justify-content: center;background-color: white;position: relative;}#sk-container-id-2 div.sk-item::before, #sk-container-id-2 div.sk-parallel-item::before {content: \"\";position: absolute;border-left: 1px solid gray;box-sizing: border-box;top: 0;bottom: 0;left: 50%;z-index: -1;}#sk-container-id-2 div.sk-parallel-item {display: flex;flex-direction: column;z-index: 1;position: relative;background-color: white;}#sk-container-id-2 div.sk-parallel-item:first-child::after {align-self: flex-end;width: 50%;}#sk-container-id-2 div.sk-parallel-item:last-child::after {align-self: flex-start;width: 50%;}#sk-container-id-2 div.sk-parallel-item:only-child::after {width: 0;}#sk-container-id-2 div.sk-dashed-wrapped {border: 1px dashed gray;margin: 0 0.4em 0.5em 0.4em;box-sizing: border-box;padding-bottom: 0.4em;background-color: white;}#sk-container-id-2 div.sk-label label {font-family: monospace;font-weight: bold;display: inline-block;line-height: 1.2em;}#sk-container-id-2 div.sk-label-container {text-align: center;}#sk-container-id-2 div.sk-container {/* jupyter's `normalize.less` sets `[hidden] { display: none; }` but bootstrap.min.css set `[hidden] { display: none !important; }` so we also need the `!important` here to be able to override the default hidden behavior on the sphinx rendered scikit-learn.org. See: https://github.com/scikit-learn/scikit-learn/issues/21755 */display: inline-block !important;position: relative;}#sk-container-id-2 div.sk-text-repr-fallback {display: none;}</style><div id=\"sk-container-id-2\" class=\"sk-top-container\"><div class=\"sk-text-repr-fallback\"><pre>RandomForestClassifier()</pre><b>In a Jupyter environment, please rerun this cell to show the HTML representation or trust the notebook. <br />On GitHub, the HTML representation is unable to render, please try loading this page with nbviewer.org.</b></div><div class=\"sk-container\" hidden><div class=\"sk-item\"><div class=\"sk-estimator sk-toggleable\"><input class=\"sk-toggleable__control sk-hidden--visually\" id=\"sk-estimator-id-2\" type=\"checkbox\" checked><label for=\"sk-estimator-id-2\" class=\"sk-toggleable__label sk-toggleable__label-arrow\">RandomForestClassifier</label><div class=\"sk-toggleable__content\"><pre>RandomForestClassifier()</pre></div></div></div></div></div>"
      ],
      "text/plain": [
       "RandomForestClassifier()"
      ]
     },
     "execution_count": 66,
     "metadata": {},
     "output_type": "execute_result"
    }
   ],
   "source": [
    "forest_clf.fit(X_train_processed, y_train)"
   ]
  },
  {
   "cell_type": "code",
   "execution_count": 67,
   "id": "36493270-690d-4105-a305-0819f3e243ab",
   "metadata": {},
   "outputs": [],
   "source": [
    "conf_m = confusion_matrix(y_test, forest_clf.predict(X_test_processed))"
   ]
  },
  {
   "cell_type": "code",
   "execution_count": 68,
   "id": "8123667a-3f50-4650-9e6b-893050d5cfa6",
   "metadata": {},
   "outputs": [
    {
     "data": {
      "text/plain": [
       "<sklearn.metrics._plot.confusion_matrix.ConfusionMatrixDisplay at 0x12c73c730>"
      ]
     },
     "execution_count": 68,
     "metadata": {},
     "output_type": "execute_result"
    },
    {
     "data": {
      "image/png": "[encoded data removed]",
      "text/plain": [
       "<Figure size 640x480 with 2 Axes>"
      ]
     },
     "metadata": {},
     "output_type": "display_data"
    }
   ],
   "source": [
    "ConfusionMatrixDisplay(confusion_matrix=conf_m).plot()"
   ]
  },
  {
   "cell_type": "code",
   "execution_count": 69,
   "id": "0e624ba9-d7ed-4631-b576-6bd436dc92bd",
   "metadata": {},
   "outputs": [],
   "source": [
    "from sklearn.metrics import accuracy_score"
   ]
  },
  {
   "cell_type": "code",
   "execution_count": 70,
   "id": "bdb73bf3-aa7b-4f40-b607-ce79581f00c7",
   "metadata": {},
   "outputs": [
    {
     "data": {
      "text/plain": [
       "0.43358395989974935"
      ]
     },
     "execution_count": 70,
     "metadata": {},
     "output_type": "execute_result"
    }
   ],
   "source": [
    "accuracy_score(y_test, forest_clf.predict(X_test_processed))"
   ]
  },
  {
   "cell_type": "code",
   "execution_count": 71,
   "id": "ac96c409-a50c-4fdb-bbe5-c056af4e42e4",
   "metadata": {},
   "outputs": [
    {
     "data": {
      "text/plain": [
       "0.4033341217966126"
      ]
     },
     "execution_count": 71,
     "metadata": {},
     "output_type": "execute_result"
    }
   ],
   "source": [
    "f1_score(y_test, forest_clf.predict(X_test_processed), average='weighted')"
   ]
  },
  {
   "cell_type": "markdown",
   "id": "81355168-2646-444e-80c8-112e308fa722",
   "metadata": {
    "tags": []
   },
   "source": [
    "### K Nearest Neighbors"
   ]
  },
  {
   "cell_type": "code",
   "execution_count": 72,
   "id": "e7d24d38-eb79-4bd1-a0f9-8a9806e5f7de",
   "metadata": {},
   "outputs": [],
   "source": [
    "from sklearn.neighbors import KNeighborsClassifier"
   ]
  },
  {
   "cell_type": "code",
   "execution_count": 73,
   "id": "91466610-4908-4912-a1ce-b6a11eae7769",
   "metadata": {},
   "outputs": [],
   "source": [
    "knn_clf = KNeighborsClassifier()"
   ]
  },
  {
   "cell_type": "code",
   "execution_count": 74,
   "id": "af7cb99c-5faa-4d49-9e7d-70bbb65ba1ff",
   "metadata": {},
   "outputs": [
    {
     "name": "stdout",
     "output_type": "stream",
     "text": [
      "Avg: 0.4018763026143858\n",
      "Std: 0.013222225284739724\n",
      "Scores: [0.39013253 0.42095422 0.39344808 0.42078415 0.40738196 0.37792864\n",
      " 0.39422511 0.39524748 0.40979666 0.4088642 ]\n"
     ]
    }
   ],
   "source": [
    "cross_validation_report(knn_clf)"
   ]
  },
  {
   "cell_type": "code",
   "execution_count": 75,
   "id": "87cb2bf0-cf08-4409-a881-b662ea0b47dc",
   "metadata": {},
   "outputs": [
    {
     "data": {
      "text/html": [
       "<style>#sk-container-id-3 {color: black;background-color: white;}#sk-container-id-3 pre{padding: 0;}#sk-container-id-3 div.sk-toggleable {background-color: white;}#sk-container-id-3 label.sk-toggleable__label {cursor: pointer;display: block;width: 100%;margin-bottom: 0;padding: 0.3em;box-sizing: border-box;text-align: center;}#sk-container-id-3 label.sk-toggleable__label-arrow:before {content: \"▸\";float: left;margin-right: 0.25em;color: #696969;}#sk-container-id-3 label.sk-toggleable__label-arrow:hover:before {color: black;}#sk-container-id-3 div.sk-estimator:hover label.sk-toggleable__label-arrow:before {color: black;}#sk-container-id-3 div.sk-toggleable__content {max-height: 0;max-width: 0;overflow: hidden;text-align: left;background-color: #f0f8ff;}#sk-container-id-3 div.sk-toggleable__content pre {margin: 0.2em;color: black;border-radius: 0.25em;background-color: #f0f8ff;}#sk-container-id-3 input.sk-toggleable__control:checked~div.sk-toggleable__content {max-height: 200px;max-width: 100%;overflow: auto;}#sk-container-id-3 input.sk-toggleable__control:checked~label.sk-toggleable__label-arrow:before {content: \"▾\";}#sk-container-id-3 div.sk-estimator input.sk-toggleable__control:checked~label.sk-toggleable__label {background-color: #d4ebff;}#sk-container-id-3 div.sk-label input.sk-toggleable__control:checked~label.sk-toggleable__label {background-color: #d4ebff;}#sk-container-id-3 input.sk-hidden--visually {border: 0;clip: rect(1px 1px 1px 1px);clip: rect(1px, 1px, 1px, 1px);height: 1px;margin: -1px;overflow: hidden;padding: 0;position: absolute;width: 1px;}#sk-container-id-3 div.sk-estimator {font-family: monospace;background-color: #f0f8ff;border: 1px dotted black;border-radius: 0.25em;box-sizing: border-box;margin-bottom: 0.5em;}#sk-container-id-3 div.sk-estimator:hover {background-color: #d4ebff;}#sk-container-id-3 div.sk-parallel-item::after {content: \"\";width: 100%;border-bottom: 1px solid gray;flex-grow: 1;}#sk-container-id-3 div.sk-label:hover label.sk-toggleable__label {background-color: #d4ebff;}#sk-container-id-3 div.sk-serial::before {content: \"\";position: absolute;border-left: 1px solid gray;box-sizing: border-box;top: 0;bottom: 0;left: 50%;z-index: 0;}#sk-container-id-3 div.sk-serial {display: flex;flex-direction: column;align-items: center;background-color: white;padding-right: 0.2em;padding-left: 0.2em;position: relative;}#sk-container-id-3 div.sk-item {position: relative;z-index: 1;}#sk-container-id-3 div.sk-parallel {display: flex;align-items: stretch;justify-content: center;background-color: white;position: relative;}#sk-container-id-3 div.sk-item::before, #sk-container-id-3 div.sk-parallel-item::before {content: \"\";position: absolute;border-left: 1px solid gray;box-sizing: border-box;top: 0;bottom: 0;left: 50%;z-index: -1;}#sk-container-id-3 div.sk-parallel-item {display: flex;flex-direction: column;z-index: 1;position: relative;background-color: white;}#sk-container-id-3 div.sk-parallel-item:first-child::after {align-self: flex-end;width: 50%;}#sk-container-id-3 div.sk-parallel-item:last-child::after {align-self: flex-start;width: 50%;}#sk-container-id-3 div.sk-parallel-item:only-child::after {width: 0;}#sk-container-id-3 div.sk-dashed-wrapped {border: 1px dashed gray;margin: 0 0.4em 0.5em 0.4em;box-sizing: border-box;padding-bottom: 0.4em;background-color: white;}#sk-container-id-3 div.sk-label label {font-family: monospace;font-weight: bold;display: inline-block;line-height: 1.2em;}#sk-container-id-3 div.sk-label-container {text-align: center;}#sk-container-id-3 div.sk-container {/* jupyter's `normalize.less` sets `[hidden] { display: none; }` but bootstrap.min.css set `[hidden] { display: none !important; }` so we also need the `!important` here to be able to override the default hidden behavior on the sphinx rendered scikit-learn.org. See: https://github.com/scikit-learn/scikit-learn/issues/21755 */display: inline-block !important;position: relative;}#sk-container-id-3 div.sk-text-repr-fallback {display: none;}</style><div id=\"sk-container-id-3\" class=\"sk-top-container\"><div class=\"sk-text-repr-fallback\"><pre>KNeighborsClassifier()</pre><b>In a Jupyter environment, please rerun this cell to show the HTML representation or trust the notebook. <br />On GitHub, the HTML representation is unable to render, please try loading this page with nbviewer.org.</b></div><div class=\"sk-container\" hidden><div class=\"sk-item\"><div class=\"sk-estimator sk-toggleable\"><input class=\"sk-toggleable__control sk-hidden--visually\" id=\"sk-estimator-id-3\" type=\"checkbox\" checked><label for=\"sk-estimator-id-3\" class=\"sk-toggleable__label sk-toggleable__label-arrow\">KNeighborsClassifier</label><div class=\"sk-toggleable__content\"><pre>KNeighborsClassifier()</pre></div></div></div></div></div>"
      ],
      "text/plain": [
       "KNeighborsClassifier()"
      ]
     },
     "execution_count": 75,
     "metadata": {},
     "output_type": "execute_result"
    }
   ],
   "source": [
    "knn_clf.fit(X_train_processed, y_train)"
   ]
  },
  {
   "cell_type": "code",
   "execution_count": 76,
   "id": "d8a16ae4-0efd-4b8b-b78f-2b2b4683656e",
   "metadata": {},
   "outputs": [],
   "source": [
    "conf_m = confusion_matrix(y_test, knn_clf.predict(X_test_processed))"
   ]
  },
  {
   "cell_type": "code",
   "execution_count": 77,
   "id": "80f46a23-8365-4ff5-bdee-da5f00f53fbc",
   "metadata": {},
   "outputs": [
    {
     "data": {
      "text/plain": [
       "<sklearn.metrics._plot.confusion_matrix.ConfusionMatrixDisplay at 0x12cab11f0>"
      ]
     },
     "execution_count": 77,
     "metadata": {},
     "output_type": "execute_result"
    },
    {
     "data": {
      "image/png": "[encoded data removed]",
      "text/plain": [
       "<Figure size 640x480 with 2 Axes>"
      ]
     },
     "metadata": {},
     "output_type": "display_data"
    }
   ],
   "source": [
    "ConfusionMatrixDisplay(confusion_matrix=conf_m).plot()"
   ]
  },
  {
   "cell_type": "code",
   "execution_count": 78,
   "id": "5aa6c8c7-a86c-46aa-9e97-cce41d0500bf",
   "metadata": {},
   "outputs": [
    {
     "data": {
      "text/plain": [
       "0.4924812030075188"
      ]
     },
     "execution_count": 78,
     "metadata": {},
     "output_type": "execute_result"
    }
   ],
   "source": [
    "accuracy_score(y_test, knn_clf.predict(X_test_processed))"
   ]
  },
  {
   "cell_type": "code",
   "execution_count": 79,
   "id": "b4339a27-7304-463e-9a6d-33696e95d868",
   "metadata": {},
   "outputs": [
    {
     "data": {
      "text/plain": [
       "0.42117138265902193"
      ]
     },
     "execution_count": 79,
     "metadata": {},
     "output_type": "execute_result"
    }
   ],
   "source": [
    "f1_score(y_test, knn_clf.predict(X_test_processed), average='weighted')"
   ]
  },
  {
   "cell_type": "markdown",
   "id": "d4b50ab8-61e2-454d-b0a1-b68c9b23430d",
   "metadata": {},
   "source": [
    "# Sci-Kit Models - Regression"
   ]
  },
  {
   "cell_type": "markdown",
   "id": "28112590-316d-4232-aa9f-15f2c315fb53",
   "metadata": {
    "tags": []
   },
   "source": [
    "#### Create Training and Testing Sets"
   ]
  },
  {
   "cell_type": "code",
   "execution_count": 80,
   "id": "296b09c4-42d7-4f61-9bc2-cf3bfa1576fb",
   "metadata": {},
   "outputs": [],
   "source": [
    "sk_regression = reformat_data()"
   ]
  },
  {
   "cell_type": "code",
   "execution_count": 81,
   "id": "7aed9199-48d5-45c8-892e-3d6788c7c722",
   "metadata": {},
   "outputs": [],
   "source": [
    "X = sk_regression.drop(['rating'], axis=1)\n",
    "y = sk_regression['rating']"
   ]
  },
  {
   "cell_type": "code",
   "execution_count": 82,
   "id": "31952a8a-c861-441e-8c3e-7b58b117d0a4",
   "metadata": {},
   "outputs": [],
   "source": [
    "X_train, X_test, y_train, y_test = train_test_split(X, y, test_size=0.2, random_state=39)"
   ]
  },
  {
   "cell_type": "code",
   "execution_count": 83,
   "id": "6d40a72d-8b74-4b91-9a32-4673b466775e",
   "metadata": {},
   "outputs": [
    {
     "data": {
      "text/plain": [
       "(5888, 69)"
      ]
     },
     "execution_count": 83,
     "metadata": {},
     "output_type": "execute_result"
    }
   ],
   "source": [
    "X_train.shape"
   ]
  },
  {
   "cell_type": "code",
   "execution_count": 84,
   "id": "319192a6-207b-4945-9d59-d445e67de500",
   "metadata": {},
   "outputs": [
    {
     "data": {
      "text/plain": [
       "(5888,)"
      ]
     },
     "execution_count": 84,
     "metadata": {},
     "output_type": "execute_result"
    }
   ],
   "source": [
    "y_train.shape"
   ]
  },
  {
   "cell_type": "code",
   "execution_count": 85,
   "id": "84bf447d-0b01-4f3d-8347-bc0c20914fd9",
   "metadata": {},
   "outputs": [],
   "source": [
    "X_train_processed = full_pipeline.fit_transform(X_train)"
   ]
  },
  {
   "cell_type": "code",
   "execution_count": 86,
   "id": "c39d7ebc-d914-4fb6-ad31-265f5ee8f797",
   "metadata": {},
   "outputs": [],
   "source": [
    "X_test_processed = full_pipeline.transform(X_test)"
   ]
  },
  {
   "cell_type": "code",
   "execution_count": 87,
   "id": "bb6418eb-fe9c-40d9-b44d-3c07e519d847",
   "metadata": {},
   "outputs": [],
   "source": [
    "def rmse_cross_validation(model):\n",
    "    scores = cross_val_score(\n",
    "        model, \n",
    "        X_train_processed, y_train,\n",
    "        scoring='neg_mean_squared_error',\n",
    "        cv=10\n",
    "    )\n",
    "    scores = np.sqrt(-scores)\n",
    "    print('Avg:', scores.mean())\n",
    "    print('Std:', scores.std())\n",
    "    print('Scores:', scores)"
   ]
  },
  {
   "cell_type": "markdown",
   "id": "0e945828-e19b-4dec-91bd-f0ebda43bf42",
   "metadata": {
    "tags": []
   },
   "source": [
    "### Linear Regression"
   ]
  },
  {
   "cell_type": "code",
   "execution_count": 88,
   "id": "f4536c0e-60f4-4fed-9e00-d6b8177ce163",
   "metadata": {},
   "outputs": [],
   "source": [
    "from sklearn.linear_model import LinearRegression"
   ]
  },
  {
   "cell_type": "code",
   "execution_count": 89,
   "id": "3405f714-c434-4460-9364-54c0c8ea1700",
   "metadata": {},
   "outputs": [],
   "source": [
    "lin_reg = LinearRegression()"
   ]
  },
  {
   "cell_type": "code",
   "execution_count": 90,
   "id": "4fb8a27a-2004-4a21-ad46-f54ee73d570d",
   "metadata": {},
   "outputs": [
    {
     "name": "stdout",
     "output_type": "stream",
     "text": [
      "Avg: 1.646471223533835\n",
      "Std: 0.06681651907649783\n",
      "Scores: [1.64081757 1.69260467 1.68195886 1.63202569 1.71598984 1.54748954\n",
      " 1.55226849 1.62852506 1.77013004 1.60290248]\n"
     ]
    }
   ],
   "source": [
    "rmse_cross_validation(lin_reg)"
   ]
  },
  {
   "cell_type": "markdown",
   "id": "0cd1892e-9ffa-4add-98fe-5749c5c9d8a5",
   "metadata": {
    "tags": []
   },
   "source": [
    "### Random Forest"
   ]
  },
  {
   "cell_type": "code",
   "execution_count": 91,
   "id": "d03cbd75-2b6f-485d-adeb-06c1d3940114",
   "metadata": {},
   "outputs": [],
   "source": [
    "from sklearn.ensemble import RandomForestRegressor"
   ]
  },
  {
   "cell_type": "code",
   "execution_count": 92,
   "id": "fcc3ed72-1741-4019-9ad0-0f4c09d508ee",
   "metadata": {},
   "outputs": [],
   "source": [
    "forest_reg = RandomForestRegressor()"
   ]
  },
  {
   "cell_type": "code",
   "execution_count": 93,
   "id": "16cadd4f-bc6e-4cb2-b140-7b5e59a5039a",
   "metadata": {},
   "outputs": [
    {
     "name": "stdout",
     "output_type": "stream",
     "text": [
      "Avg: 1.6328663411578586\n",
      "Std: 0.0658372185005234\n",
      "Scores: [1.602869   1.61554274 1.6723265  1.53839738 1.63963388 1.55292208\n",
      " 1.61954541 1.66246172 1.78829897 1.63666573]\n"
     ]
    }
   ],
   "source": [
    "rmse_cross_validation(forest_reg)"
   ]
  },
  {
   "cell_type": "markdown",
   "id": "e11c0ce4-11b4-4226-917f-5fda10bd8906",
   "metadata": {
    "tags": []
   },
   "source": [
    "### K Nearest Neighbors"
   ]
  },
  {
   "cell_type": "code",
   "execution_count": 94,
   "id": "d27e7502-36b8-422c-bae6-d52d060c7941",
   "metadata": {},
   "outputs": [],
   "source": [
    "from sklearn.neighbors import KNeighborsRegressor"
   ]
  },
  {
   "cell_type": "code",
   "execution_count": 95,
   "id": "2befe26e-eb81-4e6f-ad09-279b45ef7018",
   "metadata": {},
   "outputs": [],
   "source": [
    "knn_reg = KNeighborsRegressor()"
   ]
  },
  {
   "cell_type": "code",
   "execution_count": 96,
   "id": "f8704220-bcad-4716-9918-0b9a04269512",
   "metadata": {},
   "outputs": [
    {
     "name": "stdout",
     "output_type": "stream",
     "text": [
      "Avg: 1.8086943779356108\n",
      "Std: 0.06069920397876369\n",
      "Scores: [1.77314431 1.80884452 1.89173881 1.78896827 1.83654655 1.70693184\n",
      " 1.74783883 1.84178993 1.91501408 1.77612664]\n"
     ]
    }
   ],
   "source": [
    "rmse_cross_validation(knn_reg)"
   ]
  },
  {
   "cell_type": "markdown",
   "id": "3d634d70-8c60-452f-b67f-fa0709ee2d4f",
   "metadata": {
    "tags": []
   },
   "source": [
    "### Hypertuning - Random Forest"
   ]
  },
  {
   "cell_type": "code",
   "execution_count": 97,
   "id": "e27aa44a-5582-4e62-95b9-b74c02f5cd21",
   "metadata": {},
   "outputs": [],
   "source": [
    "from sklearn.model_selection import GridSearchCV"
   ]
  },
  {
   "cell_type": "code",
   "execution_count": 98,
   "id": "85c3ad8e-eea1-4341-b8a9-e2539c3ce404",
   "metadata": {},
   "outputs": [],
   "source": [
    "param_grid = [{\n",
    "    'n_estimators': [100, 200, 300],\n",
    "}]"
   ]
  },
  {
   "cell_type": "code",
   "execution_count": 99,
   "id": "61efbca0-dc9d-4e35-b4c5-8013ecef79df",
   "metadata": {},
   "outputs": [],
   "source": [
    "model = RandomForestRegressor(random_state=39)"
   ]
  },
  {
   "cell_type": "code",
   "execution_count": 100,
   "id": "dea75b06-6c36-422a-9fdc-cf9f4fd2e419",
   "metadata": {},
   "outputs": [],
   "source": [
    "grid_search = GridSearchCV(model, param_grid, cv=5, scoring='neg_mean_squared_error', return_train_score=True, verbose=5)"
   ]
  },
  {
   "cell_type": "code",
   "execution_count": 101,
   "id": "856e8749-673d-4734-98a7-36fd60a5c164",
   "metadata": {},
   "outputs": [],
   "source": [
    "# grid_search.fit(X_train_processed, y_train)"
   ]
  },
  {
   "cell_type": "code",
   "execution_count": 102,
   "id": "173ed322-2b0b-45b9-90c2-35587e0b4f5e",
   "metadata": {},
   "outputs": [],
   "source": [
    "# grid_search.best_params_\n",
    "# n_estimators: 200"
   ]
  },
  {
   "cell_type": "code",
   "execution_count": 103,
   "id": "f4deb029-5800-4dbf-b030-9465d71946ef",
   "metadata": {},
   "outputs": [],
   "source": [
    "final_model = RandomForestRegressor(n_estimators=200)"
   ]
  },
  {
   "cell_type": "code",
   "execution_count": 104,
   "id": "893a57e5-cb22-4bba-8782-89dcff5a4506",
   "metadata": {},
   "outputs": [
    {
     "data": {
      "text/html": [
       "<style>#sk-container-id-4 {color: black;background-color: white;}#sk-container-id-4 pre{padding: 0;}#sk-container-id-4 div.sk-toggleable {background-color: white;}#sk-container-id-4 label.sk-toggleable__label {cursor: pointer;display: block;width: 100%;margin-bottom: 0;padding: 0.3em;box-sizing: border-box;text-align: center;}#sk-container-id-4 label.sk-toggleable__label-arrow:before {content: \"▸\";float: left;margin-right: 0.25em;color: #696969;}#sk-container-id-4 label.sk-toggleable__label-arrow:hover:before {color: black;}#sk-container-id-4 div.sk-estimator:hover label.sk-toggleable__label-arrow:before {color: black;}#sk-container-id-4 div.sk-toggleable__content {max-height: 0;max-width: 0;overflow: hidden;text-align: left;background-color: #f0f8ff;}#sk-container-id-4 div.sk-toggleable__content pre {margin: 0.2em;color: black;border-radius: 0.25em;background-color: #f0f8ff;}#sk-container-id-4 input.sk-toggleable__control:checked~div.sk-toggleable__content {max-height: 200px;max-width: 100%;overflow: auto;}#sk-container-id-4 input.sk-toggleable__control:checked~label.sk-toggleable__label-arrow:before {content: \"▾\";}#sk-container-id-4 div.sk-estimator input.sk-toggleable__control:checked~label.sk-toggleable__label {background-color: #d4ebff;}#sk-container-id-4 div.sk-label input.sk-toggleable__control:checked~label.sk-toggleable__label {background-color: #d4ebff;}#sk-container-id-4 input.sk-hidden--visually {border: 0;clip: rect(1px 1px 1px 1px);clip: rect(1px, 1px, 1px, 1px);height: 1px;margin: -1px;overflow: hidden;padding: 0;position: absolute;width: 1px;}#sk-container-id-4 div.sk-estimator {font-family: monospace;background-color: #f0f8ff;border: 1px dotted black;border-radius: 0.25em;box-sizing: border-box;margin-bottom: 0.5em;}#sk-container-id-4 div.sk-estimator:hover {background-color: #d4ebff;}#sk-container-id-4 div.sk-parallel-item::after {content: \"\";width: 100%;border-bottom: 1px solid gray;flex-grow: 1;}#sk-container-id-4 div.sk-label:hover label.sk-toggleable__label {background-color: #d4ebff;}#sk-container-id-4 div.sk-serial::before {content: \"\";position: absolute;border-left: 1px solid gray;box-sizing: border-box;top: 0;bottom: 0;left: 50%;z-index: 0;}#sk-container-id-4 div.sk-serial {display: flex;flex-direction: column;align-items: center;background-color: white;padding-right: 0.2em;padding-left: 0.2em;position: relative;}#sk-container-id-4 div.sk-item {position: relative;z-index: 1;}#sk-container-id-4 div.sk-parallel {display: flex;align-items: stretch;justify-content: center;background-color: white;position: relative;}#sk-container-id-4 div.sk-item::before, #sk-container-id-4 div.sk-parallel-item::before {content: \"\";position: absolute;border-left: 1px solid gray;box-sizing: border-box;top: 0;bottom: 0;left: 50%;z-index: -1;}#sk-container-id-4 div.sk-parallel-item {display: flex;flex-direction: column;z-index: 1;position: relative;background-color: white;}#sk-container-id-4 div.sk-parallel-item:first-child::after {align-self: flex-end;width: 50%;}#sk-container-id-4 div.sk-parallel-item:last-child::after {align-self: flex-start;width: 50%;}#sk-container-id-4 div.sk-parallel-item:only-child::after {width: 0;}#sk-container-id-4 div.sk-dashed-wrapped {border: 1px dashed gray;margin: 0 0.4em 0.5em 0.4em;box-sizing: border-box;padding-bottom: 0.4em;background-color: white;}#sk-container-id-4 div.sk-label label {font-family: monospace;font-weight: bold;display: inline-block;line-height: 1.2em;}#sk-container-id-4 div.sk-label-container {text-align: center;}#sk-container-id-4 div.sk-container {/* jupyter's `normalize.less` sets `[hidden] { display: none; }` but bootstrap.min.css set `[hidden] { display: none !important; }` so we also need the `!important` here to be able to override the default hidden behavior on the sphinx rendered scikit-learn.org. See: https://github.com/scikit-learn/scikit-learn/issues/21755 */display: inline-block !important;position: relative;}#sk-container-id-4 div.sk-text-repr-fallback {display: none;}</style><div id=\"sk-container-id-4\" class=\"sk-top-container\"><div class=\"sk-text-repr-fallback\"><pre>RandomForestRegressor(n_estimators=200)</pre><b>In a Jupyter environment, please rerun this cell to show the HTML representation or trust the notebook. <br />On GitHub, the HTML representation is unable to render, please try loading this page with nbviewer.org.</b></div><div class=\"sk-container\" hidden><div class=\"sk-item\"><div class=\"sk-estimator sk-toggleable\"><input class=\"sk-toggleable__control sk-hidden--visually\" id=\"sk-estimator-id-4\" type=\"checkbox\" checked><label for=\"sk-estimator-id-4\" class=\"sk-toggleable__label sk-toggleable__label-arrow\">RandomForestRegressor</label><div class=\"sk-toggleable__content\"><pre>RandomForestRegressor(n_estimators=200)</pre></div></div></div></div></div>"
      ],
      "text/plain": [
       "RandomForestRegressor(n_estimators=200)"
      ]
     },
     "execution_count": 104,
     "metadata": {},
     "output_type": "execute_result"
    }
   ],
   "source": [
    "final_model.fit(X_train_processed, y_train)"
   ]
  },
  {
   "cell_type": "code",
   "execution_count": 105,
   "id": "06491b4c-1d9e-4bd1-99f5-cd31d00e66c2",
   "metadata": {},
   "outputs": [],
   "source": [
    "from sklearn.metrics import mean_squared_error, r2_score"
   ]
  },
  {
   "cell_type": "code",
   "execution_count": 106,
   "id": "e3e1a0a5-61c3-4686-8edd-eef0eb3b77f2",
   "metadata": {},
   "outputs": [
    {
     "data": {
      "text/plain": [
       "8.88"
      ]
     },
     "execution_count": 106,
     "metadata": {},
     "output_type": "execute_result"
    }
   ],
   "source": [
    "np.amax(final_model.predict(X_test_processed))"
   ]
  },
  {
   "cell_type": "code",
   "execution_count": 107,
   "id": "e210e734-e1e4-47d5-8a1e-66c7196b55e8",
   "metadata": {},
   "outputs": [
    {
     "data": {
      "text/plain": [
       "1.0"
      ]
     },
     "execution_count": 107,
     "metadata": {},
     "output_type": "execute_result"
    }
   ],
   "source": [
    "np.amin(final_model.predict(X_test_processed))"
   ]
  },
  {
   "cell_type": "code",
   "execution_count": 108,
   "id": "7e0937ba-1f4e-4e24-97bb-e27094ce2dfb",
   "metadata": {},
   "outputs": [
    {
     "data": {
      "text/plain": [
       "1.6715899203058964"
      ]
     },
     "execution_count": 108,
     "metadata": {},
     "output_type": "execute_result"
    }
   ],
   "source": [
    "mean_squared_error(y_test, final_model.predict(X_test_processed), squared=False)"
   ]
  },
  {
   "cell_type": "code",
   "execution_count": 109,
   "id": "7db29d4c-1bac-430c-8b2d-68bf42f17ffe",
   "metadata": {},
   "outputs": [
    {
     "data": {
      "text/plain": [
       "0.3589461290304893"
      ]
     },
     "execution_count": 109,
     "metadata": {},
     "output_type": "execute_result"
    }
   ],
   "source": [
    "r2_score(y_test, final_model.predict(X_test_processed))"
   ]
  },
  {
   "cell_type": "code",
   "execution_count": 110,
   "id": "0a2b4c67-211f-4dfc-814a-4603f3cbcfde",
   "metadata": {},
   "outputs": [],
   "source": [
    "def sample_prediction(index, model):\n",
    "    truth = y_test.values[index]\n",
    "    prediction = model.predict(X_test_processed[index:index+1])\n",
    "    print('Pred:', prediction)\n",
    "    print('Truth:', truth)"
   ]
  },
  {
   "cell_type": "code",
   "execution_count": 111,
   "id": "a2c3ef84-1db1-47ae-ab96-ccbc8e1e9617",
   "metadata": {},
   "outputs": [
    {
     "name": "stdout",
     "output_type": "stream",
     "text": [
      "Pred: [1.54]\n",
      "Truth: 2\n",
      "Pred: [1.01416667]\n",
      "Truth: 3\n",
      "Pred: [1.9775]\n",
      "Truth: 1\n",
      "Pred: [1.33]\n",
      "Truth: 1\n",
      "Pred: [1.38841667]\n",
      "Truth: 1\n",
      "Pred: [3.63028571]\n",
      "Truth: 1\n",
      "Pred: [1.41708333]\n",
      "Truth: 1\n",
      "Pred: [3.205]\n",
      "Truth: 3\n",
      "Pred: [2.4925]\n",
      "Truth: 5\n",
      "Pred: [4.0125]\n",
      "Truth: 5\n",
      "Pred: [1.72433333]\n",
      "Truth: 1\n",
      "Pred: [4.9185]\n",
      "Truth: 5\n",
      "Pred: [3.34825]\n",
      "Truth: 2\n",
      "Pred: [1.84]\n",
      "Truth: 2\n",
      "Pred: [4.095]\n",
      "Truth: 9\n",
      "Pred: [4.4725]\n",
      "Truth: 3\n",
      "Pred: [1.59733333]\n",
      "Truth: 1\n",
      "Pred: [1.03416667]\n",
      "Truth: 1\n",
      "Pred: [3.219]\n",
      "Truth: 2\n",
      "Pred: [1.00266667]\n",
      "Truth: 1\n"
     ]
    }
   ],
   "source": [
    "for i in range(70, 90):\n",
    "    sample_prediction(i, final_model)"
   ]
  },
  {
   "cell_type": "code",
   "execution_count": 112,
   "id": "f5e9267a-dd93-4285-b086-129a1897206f",
   "metadata": {},
   "outputs": [],
   "source": [
    "conf_m = confusion_matrix(y_test, np.rint(final_model.predict(X_test_processed)))"
   ]
  },
  {
   "cell_type": "code",
   "execution_count": 113,
   "id": "bb82ca94-a275-466c-87f1-47bef79c4be7",
   "metadata": {},
   "outputs": [
    {
     "data": {
      "text/plain": [
       "<sklearn.metrics._plot.confusion_matrix.ConfusionMatrixDisplay at 0x134e6c3a0>"
      ]
     },
     "execution_count": 113,
     "metadata": {},
     "output_type": "execute_result"
    },
    {
     "data": {
      "image/png": "[encoded data removed]",
      "text/plain": [
       "<Figure size 640x480 with 2 Axes>"
      ]
     },
     "metadata": {},
     "output_type": "display_data"
    }
   ],
   "source": [
    "ConfusionMatrixDisplay(conf_m, display_labels=[1,2,3,4,5,6,7,8,9]).plot()"
   ]
  },
  {
   "cell_type": "code",
   "execution_count": 114,
   "id": "f91762af-9416-47c0-b271-f1f7c9f06cb0",
   "metadata": {},
   "outputs": [
    {
     "data": {
      "text/plain": [
       "0.39877717391304346"
      ]
     },
     "execution_count": 114,
     "metadata": {},
     "output_type": "execute_result"
    }
   ],
   "source": [
    "accuracy_score(y_test, np.rint(final_model.predict(X_test_processed)))"
   ]
  },
  {
   "cell_type": "markdown",
   "id": "6863c83f-9d54-4921-8556-3cf4bde88ebd",
   "metadata": {},
   "source": [
    "### Hypertuning - KNN"
   ]
  },
  {
   "cell_type": "code",
   "execution_count": 115,
   "id": "364c3cc7-1dd5-4783-b9d6-1625bad62eea",
   "metadata": {},
   "outputs": [],
   "source": [
    "param_grid = [{\n",
    "    'n_neighbors': [5, 10, 30],\n",
    "    'leaf_size': [1],\n",
    "    'p': [1, 2],\n",
    "}]"
   ]
  },
  {
   "cell_type": "code",
   "execution_count": 116,
   "id": "60a04739-9bd0-4844-a81f-39206fa6deb3",
   "metadata": {},
   "outputs": [],
   "source": [
    "model = KNeighborsRegressor()"
   ]
  },
  {
   "cell_type": "code",
   "execution_count": 117,
   "id": "e7212a5d-428f-4011-bac8-d13bc1cb9abd",
   "metadata": {},
   "outputs": [],
   "source": [
    "grid_search = GridSearchCV(model, param_grid, cv=5, scoring='neg_mean_squared_error', return_train_score=True, verbose=5)"
   ]
  },
  {
   "cell_type": "code",
   "execution_count": 118,
   "id": "fd271bbc-c330-47e4-ade9-d95db3cce9b7",
   "metadata": {},
   "outputs": [],
   "source": [
    "# grid_search.fit(X_train_processed, y_train)"
   ]
  },
  {
   "cell_type": "code",
   "execution_count": 119,
   "id": "da563b41-f27a-4e37-a70b-94215633184f",
   "metadata": {},
   "outputs": [],
   "source": [
    "# grid_search.best_params_\n",
    "# leaf_size: 1\n",
    "# n_neighbors: 40\n",
    "# p: 2"
   ]
  },
  {
   "cell_type": "code",
   "execution_count": 120,
   "id": "c84189f3-79ca-427d-9526-c4ca3aae8e1c",
   "metadata": {},
   "outputs": [],
   "source": [
    "final_model = KNeighborsRegressor(leaf_size=1, n_neighbors=40, p=2)"
   ]
  },
  {
   "cell_type": "code",
   "execution_count": 121,
   "id": "c6f3dbbb-5180-4550-ba45-944a1396e4f3",
   "metadata": {},
   "outputs": [
    {
     "data": {
      "text/html": [
       "<style>#sk-container-id-5 {color: black;background-color: white;}#sk-container-id-5 pre{padding: 0;}#sk-container-id-5 div.sk-toggleable {background-color: white;}#sk-container-id-5 label.sk-toggleable__label {cursor: pointer;display: block;width: 100%;margin-bottom: 0;padding: 0.3em;box-sizing: border-box;text-align: center;}#sk-container-id-5 label.sk-toggleable__label-arrow:before {content: \"▸\";float: left;margin-right: 0.25em;color: #696969;}#sk-container-id-5 label.sk-toggleable__label-arrow:hover:before {color: black;}#sk-container-id-5 div.sk-estimator:hover label.sk-toggleable__label-arrow:before {color: black;}#sk-container-id-5 div.sk-toggleable__content {max-height: 0;max-width: 0;overflow: hidden;text-align: left;background-color: #f0f8ff;}#sk-container-id-5 div.sk-toggleable__content pre {margin: 0.2em;color: black;border-radius: 0.25em;background-color: #f0f8ff;}#sk-container-id-5 input.sk-toggleable__control:checked~div.sk-toggleable__content {max-height: 200px;max-width: 100%;overflow: auto;}#sk-container-id-5 input.sk-toggleable__control:checked~label.sk-toggleable__label-arrow:before {content: \"▾\";}#sk-container-id-5 div.sk-estimator input.sk-toggleable__control:checked~label.sk-toggleable__label {background-color: #d4ebff;}#sk-container-id-5 div.sk-label input.sk-toggleable__control:checked~label.sk-toggleable__label {background-color: #d4ebff;}#sk-container-id-5 input.sk-hidden--visually {border: 0;clip: rect(1px 1px 1px 1px);clip: rect(1px, 1px, 1px, 1px);height: 1px;margin: -1px;overflow: hidden;padding: 0;position: absolute;width: 1px;}#sk-container-id-5 div.sk-estimator {font-family: monospace;background-color: #f0f8ff;border: 1px dotted black;border-radius: 0.25em;box-sizing: border-box;margin-bottom: 0.5em;}#sk-container-id-5 div.sk-estimator:hover {background-color: #d4ebff;}#sk-container-id-5 div.sk-parallel-item::after {content: \"\";width: 100%;border-bottom: 1px solid gray;flex-grow: 1;}#sk-container-id-5 div.sk-label:hover label.sk-toggleable__label {background-color: #d4ebff;}#sk-container-id-5 div.sk-serial::before {content: \"\";position: absolute;border-left: 1px solid gray;box-sizing: border-box;top: 0;bottom: 0;left: 50%;z-index: 0;}#sk-container-id-5 div.sk-serial {display: flex;flex-direction: column;align-items: center;background-color: white;padding-right: 0.2em;padding-left: 0.2em;position: relative;}#sk-container-id-5 div.sk-item {position: relative;z-index: 1;}#sk-container-id-5 div.sk-parallel {display: flex;align-items: stretch;justify-content: center;background-color: white;position: relative;}#sk-container-id-5 div.sk-item::before, #sk-container-id-5 div.sk-parallel-item::before {content: \"\";position: absolute;border-left: 1px solid gray;box-sizing: border-box;top: 0;bottom: 0;left: 50%;z-index: -1;}#sk-container-id-5 div.sk-parallel-item {display: flex;flex-direction: column;z-index: 1;position: relative;background-color: white;}#sk-container-id-5 div.sk-parallel-item:first-child::after {align-self: flex-end;width: 50%;}#sk-container-id-5 div.sk-parallel-item:last-child::after {align-self: flex-start;width: 50%;}#sk-container-id-5 div.sk-parallel-item:only-child::after {width: 0;}#sk-container-id-5 div.sk-dashed-wrapped {border: 1px dashed gray;margin: 0 0.4em 0.5em 0.4em;box-sizing: border-box;padding-bottom: 0.4em;background-color: white;}#sk-container-id-5 div.sk-label label {font-family: monospace;font-weight: bold;display: inline-block;line-height: 1.2em;}#sk-container-id-5 div.sk-label-container {text-align: center;}#sk-container-id-5 div.sk-container {/* jupyter's `normalize.less` sets `[hidden] { display: none; }` but bootstrap.min.css set `[hidden] { display: none !important; }` so we also need the `!important` here to be able to override the default hidden behavior on the sphinx rendered scikit-learn.org. See: https://github.com/scikit-learn/scikit-learn/issues/21755 */display: inline-block !important;position: relative;}#sk-container-id-5 div.sk-text-repr-fallback {display: none;}</style><div id=\"sk-container-id-5\" class=\"sk-top-container\"><div class=\"sk-text-repr-fallback\"><pre>KNeighborsRegressor(leaf_size=1, n_neighbors=40)</pre><b>In a Jupyter environment, please rerun this cell to show the HTML representation or trust the notebook. <br />On GitHub, the HTML representation is unable to render, please try loading this page with nbviewer.org.</b></div><div class=\"sk-container\" hidden><div class=\"sk-item\"><div class=\"sk-estimator sk-toggleable\"><input class=\"sk-toggleable__control sk-hidden--visually\" id=\"sk-estimator-id-5\" type=\"checkbox\" checked><label for=\"sk-estimator-id-5\" class=\"sk-toggleable__label sk-toggleable__label-arrow\">KNeighborsRegressor</label><div class=\"sk-toggleable__content\"><pre>KNeighborsRegressor(leaf_size=1, n_neighbors=40)</pre></div></div></div></div></div>"
      ],
      "text/plain": [
       "KNeighborsRegressor(leaf_size=1, n_neighbors=40)"
      ]
     },
     "execution_count": 121,
     "metadata": {},
     "output_type": "execute_result"
    }
   ],
   "source": [
    "final_model.fit(X_train_processed, y_train)"
   ]
  },
  {
   "cell_type": "code",
   "execution_count": 122,
   "id": "14ac323b-3282-4d25-b62c-8ecf67001c55",
   "metadata": {},
   "outputs": [
    {
     "data": {
      "text/plain": [
       "8.175"
      ]
     },
     "execution_count": 122,
     "metadata": {},
     "output_type": "execute_result"
    }
   ],
   "source": [
    "np.amax(final_model.predict(X_test_processed))"
   ]
  },
  {
   "cell_type": "code",
   "execution_count": 123,
   "id": "054acd65-44b6-4233-b6d8-5b0da4528c50",
   "metadata": {},
   "outputs": [
    {
     "data": {
      "text/plain": [
       "1.025"
      ]
     },
     "execution_count": 123,
     "metadata": {},
     "output_type": "execute_result"
    }
   ],
   "source": [
    "np.amin(final_model.predict(X_test_processed))"
   ]
  },
  {
   "cell_type": "code",
   "execution_count": 124,
   "id": "78e72992-7d70-4aa1-8d4d-a84b916ca6c8",
   "metadata": {},
   "outputs": [
    {
     "data": {
      "text/plain": [
       "1.7036298862728882"
      ]
     },
     "execution_count": 124,
     "metadata": {},
     "output_type": "execute_result"
    }
   ],
   "source": [
    "mean_squared_error(y_test, final_model.predict(X_test_processed), squared=False)"
   ]
  },
  {
   "cell_type": "code",
   "execution_count": 125,
   "id": "744158f2-93c7-4b20-83ba-4dd8aac4c4e6",
   "metadata": {},
   "outputs": [
    {
     "data": {
      "text/plain": [
       "0.33413599293136165"
      ]
     },
     "execution_count": 125,
     "metadata": {},
     "output_type": "execute_result"
    }
   ],
   "source": [
    "r2_score(y_test, final_model.predict(X_test_processed))"
   ]
  },
  {
   "cell_type": "code",
   "execution_count": 126,
   "id": "64625245-b2c7-43ae-b736-9c1479def3a6",
   "metadata": {},
   "outputs": [
    {
     "name": "stdout",
     "output_type": "stream",
     "text": [
      "Pred: [1.9]\n",
      "Truth: 1\n",
      "Pred: [1.4]\n",
      "Truth: 7\n",
      "Pred: [1.6]\n",
      "Truth: 2\n",
      "Pred: [1.85]\n",
      "Truth: 4\n",
      "Pred: [2.4]\n",
      "Truth: 1\n",
      "Pred: [1.175]\n",
      "Truth: 1\n",
      "Pred: [1.3]\n",
      "Truth: 1\n",
      "Pred: [1.575]\n",
      "Truth: 1\n",
      "Pred: [1.475]\n",
      "Truth: 1\n",
      "Pred: [1.575]\n",
      "Truth: 2\n",
      "Pred: [1.85]\n",
      "Truth: 2\n",
      "Pred: [2.175]\n",
      "Truth: 1\n",
      "Pred: [1.75]\n",
      "Truth: 1\n",
      "Pred: [1.425]\n",
      "Truth: 1\n",
      "Pred: [1.625]\n",
      "Truth: 2\n",
      "Pred: [1.95]\n",
      "Truth: 1\n",
      "Pred: [3.1]\n",
      "Truth: 4\n",
      "Pred: [1.225]\n",
      "Truth: 1\n",
      "Pred: [7.825]\n",
      "Truth: 1\n",
      "Pred: [1.75]\n",
      "Truth: 1\n",
      "Pred: [1.35]\n",
      "Truth: 2\n",
      "Pred: [1.9]\n",
      "Truth: 1\n",
      "Pred: [1.975]\n",
      "Truth: 1\n",
      "Pred: [2.45]\n",
      "Truth: 1\n",
      "Pred: [3.075]\n",
      "Truth: 5\n",
      "Pred: [2.2]\n",
      "Truth: 1\n",
      "Pred: [2.2]\n",
      "Truth: 3\n",
      "Pred: [2.45]\n",
      "Truth: 1\n",
      "Pred: [2.325]\n",
      "Truth: 3\n",
      "Pred: [2.525]\n",
      "Truth: 1\n"
     ]
    }
   ],
   "source": [
    "for i in range(90, 120):\n",
    "    sample_prediction(i, final_model)"
   ]
  },
  {
   "cell_type": "code",
   "execution_count": 127,
   "id": "87055c8c-6680-4e70-8772-546fbc6fd73f",
   "metadata": {},
   "outputs": [],
   "source": [
    "conf_m = confusion_matrix(y_test, np.rint(final_model.predict(X_test_processed)))"
   ]
  },
  {
   "cell_type": "code",
   "execution_count": 128,
   "id": "8e5d45e8-4864-449d-9107-650ddb40bf1b",
   "metadata": {},
   "outputs": [
    {
     "data": {
      "text/plain": [
       "<sklearn.metrics._plot.confusion_matrix.ConfusionMatrixDisplay at 0x12b3ef2b0>"
      ]
     },
     "execution_count": 128,
     "metadata": {},
     "output_type": "execute_result"
    },
    {
     "data": {
      "image/png": "[encoded data removed]",
      "text/plain": [
       "<Figure size 640x480 with 2 Axes>"
      ]
     },
     "metadata": {},
     "output_type": "display_data"
    }
   ],
   "source": [
    "ConfusionMatrixDisplay(conf_m, display_labels=[1,2,3,4,5,6,7,8,9]).plot()"
   ]
  },
  {
   "cell_type": "code",
   "execution_count": 129,
   "id": "77d41e9e-9cfb-47f0-922e-21ab66a67c02",
   "metadata": {},
   "outputs": [
    {
     "data": {
      "text/plain": [
       "0.2982336956521739"
      ]
     },
     "execution_count": 129,
     "metadata": {},
     "output_type": "execute_result"
    }
   ],
   "source": [
    "accuracy_score(y_test, np.rint(final_model.predict(X_test_processed)))"
   ]
  },
  {
   "cell_type": "code",
   "execution_count": null,
   "id": "e2fb776e-55b8-448e-bf4d-f9afffa10118",
   "metadata": {},
   "outputs": [],
   "source": []
  }
 ],
 "metadata": {
  "kernelspec": {
   "display_name": "Python 3 (ipykernel)",
   "language": "python",
   "name": "python3"
  },
  "language_info": {
   "codemirror_mode": {
    "name": "ipython",
    "version": 3
   },
   "file_extension": ".py",
   "mimetype": "text/x-python",
   "name": "python",
   "nbconvert_exporter": "python",
   "pygments_lexer": "ipython3",
   "version": "3.8.12"
  }
 },
 "nbformat": 4,
 "nbformat_minor": 5
}
